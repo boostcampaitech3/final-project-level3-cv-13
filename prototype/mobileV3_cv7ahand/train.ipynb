{
 "cells": [
  {
   "cell_type": "code",
   "execution_count": 7,
   "id": "effa900e-4352-423c-9ade-dfb16fef677b",
   "metadata": {},
   "outputs": [],
   "source": [
    "import argparse\n",
    "import copy\n",
    "import os\n",
    "import os.path as osp\n",
    "import time\n",
    "import warnings\n",
    "\n",
    "import mmcv\n",
    "import torch\n",
    "import torch.distributed as dist\n",
    "from mmcv import Config, DictAction\n",
    "from mmcv.runner import get_dist_info, init_dist, set_random_seed\n",
    "from mmcv.utils import get_git_hash\n",
    "\n",
    "from mmpose import __version__\n",
    "from mmpose.apis import init_random_seed, train_model\n",
    "from mmpose.datasets import build_dataset\n",
    "from mmpose.models import build_posenet\n",
    "from mmpose.utils import collect_env, get_root_logger, setup_multi_processes\n",
    "\n",
    "import wandb"
   ]
  },
  {
   "cell_type": "code",
   "execution_count": 8,
   "id": "11572dc2-4d14-4036-bc84-8fa855082964",
   "metadata": {},
   "outputs": [
    {
     "name": "stdout",
     "output_type": "stream",
     "text": [
      "loading annotations into memory...\n",
      "Done (t=0.09s)\n",
      "creating index...\n",
      "index created!\n",
      "=> num_images: 3427\n",
      "=> load 3427 samples\n"
     ]
    },
    {
     "name": "stderr",
     "output_type": "stream",
     "text": [
      "/opt/conda/lib/python3.8/site-packages/mmcv/cnn/bricks/hsigmoid.py:31: UserWarning: In MMCV v1.4.4, we modified the default value of args to align with PyTorch official. Previous Implementation: Hsigmoid(x) = min(max((x + 1) / 2, 0), 1). Current Implementation: Hsigmoid(x) = min(max((x + 3) / 6, 0), 1).\n",
      "  warnings.warn(\n",
      "The model and loaded state dict do not match exactly\n",
      "\n",
      "unexpected key in source state_dict: keypoint_head.deconv_layers.0.weight, keypoint_head.deconv_layers.1.weight, keypoint_head.deconv_layers.1.bias, keypoint_head.deconv_layers.1.running_mean, keypoint_head.deconv_layers.1.running_var, keypoint_head.deconv_layers.1.num_batches_tracked, keypoint_head.deconv_layers.3.weight, keypoint_head.deconv_layers.4.weight, keypoint_head.deconv_layers.4.bias, keypoint_head.deconv_layers.4.running_mean, keypoint_head.deconv_layers.4.running_var, keypoint_head.deconv_layers.4.num_batches_tracked, keypoint_head.deconv_layers.6.weight, keypoint_head.deconv_layers.7.weight, keypoint_head.deconv_layers.7.bias, keypoint_head.deconv_layers.7.running_mean, keypoint_head.deconv_layers.7.running_var, keypoint_head.deconv_layers.7.num_batches_tracked, keypoint_head.final_layer.weight, keypoint_head.final_layer.bias\n",
      "\n",
      "2022-06-05 03:53:23,958 - mmpose - INFO - Start running, host: root@4a37eb830c7b, work_dir: /opt/ml/mmpose/work_dirs/mobilev3_freihand2d_224x224_cv7a\n",
      "2022-06-05 03:53:23,960 - mmpose - INFO - Hooks will be executed in the following order:\n",
      "before_run:\n",
      "(VERY_HIGH   ) StepLrUpdaterHook                  \n",
      "(NORMAL      ) CheckpointHook                     \n",
      "(NORMAL      ) EvalHook                           \n",
      "(VERY_LOW    ) TextLoggerHook                     \n",
      "(VERY_LOW    ) WandbLoggerHook                    \n",
      " -------------------- \n",
      "before_train_epoch:\n",
      "(VERY_HIGH   ) StepLrUpdaterHook                  \n",
      "(NORMAL      ) EvalHook                           \n",
      "(LOW         ) IterTimerHook                      \n",
      "(VERY_LOW    ) TextLoggerHook                     \n",
      "(VERY_LOW    ) WandbLoggerHook                    \n",
      " -------------------- \n",
      "before_train_iter:\n",
      "(VERY_HIGH   ) StepLrUpdaterHook                  \n",
      "(NORMAL      ) EvalHook                           \n",
      "(LOW         ) IterTimerHook                      \n",
      " -------------------- \n",
      "after_train_iter:\n",
      "(ABOVE_NORMAL) OptimizerHook                      \n",
      "(NORMAL      ) CheckpointHook                     \n",
      "(NORMAL      ) EvalHook                           \n",
      "(LOW         ) IterTimerHook                      \n",
      "(VERY_LOW    ) TextLoggerHook                     \n",
      "(VERY_LOW    ) WandbLoggerHook                    \n",
      " -------------------- \n",
      "after_train_epoch:\n",
      "(NORMAL      ) CheckpointHook                     \n",
      "(NORMAL      ) EvalHook                           \n",
      "(VERY_LOW    ) TextLoggerHook                     \n",
      "(VERY_LOW    ) WandbLoggerHook                    \n",
      " -------------------- \n",
      "before_val_epoch:\n",
      "(LOW         ) IterTimerHook                      \n",
      "(VERY_LOW    ) TextLoggerHook                     \n",
      "(VERY_LOW    ) WandbLoggerHook                    \n",
      " -------------------- \n",
      "before_val_iter:\n",
      "(LOW         ) IterTimerHook                      \n",
      " -------------------- \n",
      "after_val_iter:\n",
      "(LOW         ) IterTimerHook                      \n",
      " -------------------- \n",
      "after_val_epoch:\n",
      "(VERY_LOW    ) TextLoggerHook                     \n",
      "(VERY_LOW    ) WandbLoggerHook                    \n",
      " -------------------- \n",
      "after_run:\n",
      "(VERY_LOW    ) TextLoggerHook                     \n",
      "(VERY_LOW    ) WandbLoggerHook                    \n",
      " -------------------- \n"
     ]
    },
    {
     "name": "stdout",
     "output_type": "stream",
     "text": [
      "load checkpoint from local path: ../work_dirs/mobilev3_freihand2d_224x224_custom/best_AUC_epoch_94_20220601.pth\n",
      "loading annotations into memory...\n",
      "Done (t=0.01s)\n",
      "creating index...\n",
      "index created!\n",
      "=> num_images: 416\n",
      "=> load 416 samples\n"
     ]
    },
    {
     "name": "stderr",
     "output_type": "stream",
     "text": [
      "2022-06-05 03:53:23,960 - mmpose - INFO - workflow: [('train', 1)], max: 100 epochs\n",
      "2022-06-05 03:53:23,961 - mmpose - INFO - Checkpoints will be saved to /opt/ml/mmpose/work_dirs/mobilev3_freihand2d_224x224_cv7a by HardDiskBackend.\n",
      "/opt/conda/lib/python3.8/site-packages/mmcv/runner/hooks/evaluation.py:222: UserWarning: runner.meta is None. Creating an empty one.\n",
      "  warnings.warn('runner.meta is None. Creating an empty one.')\n"
     ]
    },
    {
     "data": {
      "text/html": [
       "Tracking run with wandb version 0.12.17"
      ],
      "text/plain": [
       "<IPython.core.display.HTML object>"
      ]
     },
     "metadata": {},
     "output_type": "display_data"
    },
    {
     "data": {
      "text/html": [
       "Run data is saved locally in <code>/opt/ml/mmpose/tools/wandb/run-20220605_035323-2610p5oe</code>"
      ],
      "text/plain": [
       "<IPython.core.display.HTML object>"
      ]
     },
     "metadata": {},
     "output_type": "display_data"
    },
    {
     "data": {
      "text/html": [
       "Syncing run <strong><a href=\"https://wandb.ai/star-bits/HandCursor/runs/2610p5oe\" target=\"_blank\">mobileV3</a></strong> to <a href=\"https://wandb.ai/star-bits/HandCursor\" target=\"_blank\">Weights & Biases</a> (<a href=\"https://wandb.me/run\" target=\"_blank\">docs</a>)<br/>"
      ],
      "text/plain": [
       "<IPython.core.display.HTML object>"
      ]
     },
     "metadata": {},
     "output_type": "display_data"
    },
    {
     "name": "stderr",
     "output_type": "stream",
     "text": [
      "[W pthreadpool-cpp.cc:90] Warning: Leaking Caffe2 thread-pool after fork. (function pthreadpool)\n",
      "[W pthreadpool-cpp.cc:90] Warning: Leaking Caffe2 thread-pool after fork. (function pthreadpool)\n",
      "2022-06-05 03:53:32,244 - mmpose - INFO - Epoch [1][20/54]\tlr: 1.948e-05, eta: 0:28:34, time: 0.319, data_time: 0.126, memory: 3953, heatmap_loss: 0.0036, acc_pose: 0.0674, loss: 0.0036\n",
      "2022-06-05 03:53:35,991 - mmpose - INFO - Epoch [1][40/54]\tlr: 3.946e-05, eta: 0:22:36, time: 0.187, data_time: 0.000, memory: 3953, heatmap_loss: 0.0030, acc_pose: 0.2261, loss: 0.0030\n",
      "2022-06-05 03:53:38,605 - mmpose - INFO - Saving checkpoint at 1 epochs\n"
     ]
    },
    {
     "name": "stdout",
     "output_type": "stream",
     "text": [
      "[                                                  ] 0/416, elapsed: 0s, ETA:"
     ]
    },
    {
     "name": "stderr",
     "output_type": "stream",
     "text": [
      "[W pthreadpool-cpp.cc:90] Warning: Leaking Caffe2 thread-pool after fork. (function pthreadpool)\n",
      "[W pthreadpool-cpp.cc:90] Warning: Leaking Caffe2 thread-pool after fork. (function pthreadpool)\n"
     ]
    },
    {
     "name": "stdout",
     "output_type": "stream",
     "text": [
      "[>>>>>>>>>>>>>>>>>>>>>>>>>>>>>] 416/416, 197.0 task/s, elapsed: 2s, ETA:     0s"
     ]
    },
    {
     "name": "stderr",
     "output_type": "stream",
     "text": [
      "2022-06-05 03:53:41,742 - mmpose - INFO - Now best checkpoint is saved as best_AUC_epoch_1.pth.\n",
      "2022-06-05 03:53:41,743 - mmpose - INFO - Best AUC is 0.6317 at 1 epoch.\n",
      "2022-06-05 03:53:41,743 - mmpose - INFO - Epoch(val) [1][13]\tPCK: 0.9451, AUC: 0.6317, EPE: 13.0425\n",
      "[W pthreadpool-cpp.cc:90] Warning: Leaking Caffe2 thread-pool after fork. (function pthreadpool)\n",
      "[W pthreadpool-cpp.cc:90] Warning: Leaking Caffe2 thread-pool after fork. (function pthreadpool)\n",
      "2022-06-05 03:53:48,115 - mmpose - INFO - Epoch [2][20/54]\tlr: 7.343e-05, eta: 0:19:46, time: 0.318, data_time: 0.126, memory: 3953, heatmap_loss: 0.0022, acc_pose: 0.5324, loss: 0.0022\n",
      "2022-06-05 03:53:51,843 - mmpose - INFO - Epoch [2][40/54]\tlr: 9.341e-05, eta: 0:19:01, time: 0.186, data_time: 0.001, memory: 3953, heatmap_loss: 0.0020, acc_pose: 0.6264, loss: 0.0020\n",
      "2022-06-05 03:53:54,466 - mmpose - INFO - Saving checkpoint at 2 epochs\n"
     ]
    },
    {
     "name": "stdout",
     "output_type": "stream",
     "text": [
      "[                                                  ] 0/416, elapsed: 0s, ETA:"
     ]
    },
    {
     "name": "stderr",
     "output_type": "stream",
     "text": [
      "[W pthreadpool-cpp.cc:90] Warning: Leaking Caffe2 thread-pool after fork. (function pthreadpool)\n",
      "[W pthreadpool-cpp.cc:90] Warning: Leaking Caffe2 thread-pool after fork. (function pthreadpool)\n"
     ]
    },
    {
     "name": "stdout",
     "output_type": "stream",
     "text": [
      "[>>>>>>>>>>>>>>>>>>>>>>>>>>>>>] 416/416, 189.5 task/s, elapsed: 2s, ETA:     0s"
     ]
    },
    {
     "name": "stderr",
     "output_type": "stream",
     "text": [
      "2022-06-05 03:53:57,470 - mmpose - INFO - The previous best checkpoint /opt/ml/mmpose/work_dirs/mobilev3_freihand2d_224x224_cv7a/best_AUC_epoch_1.pth was removed\n",
      "2022-06-05 03:53:57,663 - mmpose - INFO - Now best checkpoint is saved as best_AUC_epoch_2.pth.\n",
      "2022-06-05 03:53:57,664 - mmpose - INFO - Best AUC is 0.7759 at 2 epoch.\n",
      "2022-06-05 03:53:57,665 - mmpose - INFO - Epoch(val) [2][13]\tPCK: 0.9821, AUC: 0.7759, EPE: 6.7599\n",
      "[W pthreadpool-cpp.cc:90] Warning: Leaking Caffe2 thread-pool after fork. (function pthreadpool)\n",
      "[W pthreadpool-cpp.cc:90] Warning: Leaking Caffe2 thread-pool after fork. (function pthreadpool)\n",
      "2022-06-05 03:54:04,069 - mmpose - INFO - Epoch [3][20/54]\tlr: 1.274e-04, eta: 0:18:16, time: 0.320, data_time: 0.127, memory: 3953, heatmap_loss: 0.0016, acc_pose: 0.7332, loss: 0.0016\n",
      "2022-06-05 03:54:07,828 - mmpose - INFO - Epoch [3][40/54]\tlr: 1.474e-04, eta: 0:17:58, time: 0.188, data_time: 0.000, memory: 3953, heatmap_loss: 0.0014, acc_pose: 0.7673, loss: 0.0014\n",
      "2022-06-05 03:54:10,482 - mmpose - INFO - Saving checkpoint at 3 epochs\n"
     ]
    },
    {
     "name": "stdout",
     "output_type": "stream",
     "text": [
      "[                                                  ] 0/416, elapsed: 0s, ETA:"
     ]
    },
    {
     "name": "stderr",
     "output_type": "stream",
     "text": [
      "[W pthreadpool-cpp.cc:90] Warning: Leaking Caffe2 thread-pool after fork. (function pthreadpool)\n",
      "[W pthreadpool-cpp.cc:90] Warning: Leaking Caffe2 thread-pool after fork. (function pthreadpool)\n"
     ]
    },
    {
     "name": "stdout",
     "output_type": "stream",
     "text": [
      "[>>>>>>>>>>>>>>>>>>>>>>>>>>>>>] 416/416, 196.4 task/s, elapsed: 2s, ETA:     0s"
     ]
    },
    {
     "name": "stderr",
     "output_type": "stream",
     "text": [
      "2022-06-05 03:54:13,626 - mmpose - INFO - The previous best checkpoint /opt/ml/mmpose/work_dirs/mobilev3_freihand2d_224x224_cv7a/best_AUC_epoch_2.pth was removed\n",
      "2022-06-05 03:54:13,815 - mmpose - INFO - Now best checkpoint is saved as best_AUC_epoch_3.pth.\n",
      "2022-06-05 03:54:13,816 - mmpose - INFO - Best AUC is 0.8147 at 3 epoch.\n",
      "2022-06-05 03:54:13,819 - mmpose - INFO - Epoch(val) [3][13]\tPCK: 0.9904, AUC: 0.8147, EPE: 5.2346\n",
      "[W pthreadpool-cpp.cc:90] Warning: Leaking Caffe2 thread-pool after fork. (function pthreadpool)\n",
      "[W pthreadpool-cpp.cc:90] Warning: Leaking Caffe2 thread-pool after fork. (function pthreadpool)\n",
      "2022-06-05 03:54:20,171 - mmpose - INFO - Epoch [4][20/54]\tlr: 1.813e-04, eta: 0:17:32, time: 0.317, data_time: 0.126, memory: 3953, heatmap_loss: 0.0013, acc_pose: 0.8131, loss: 0.0013\n",
      "2022-06-05 03:54:23,907 - mmpose - INFO - Epoch [4][40/54]\tlr: 2.013e-04, eta: 0:17:21, time: 0.187, data_time: 0.000, memory: 3953, heatmap_loss: 0.0012, acc_pose: 0.8284, loss: 0.0012\n",
      "2022-06-05 03:54:26,541 - mmpose - INFO - Saving checkpoint at 4 epochs\n"
     ]
    },
    {
     "name": "stdout",
     "output_type": "stream",
     "text": [
      "[                                                  ] 0/416, elapsed: 0s, ETA:"
     ]
    },
    {
     "name": "stderr",
     "output_type": "stream",
     "text": [
      "[W pthreadpool-cpp.cc:90] Warning: Leaking Caffe2 thread-pool after fork. (function pthreadpool)\n",
      "[W pthreadpool-cpp.cc:90] Warning: Leaking Caffe2 thread-pool after fork. (function pthreadpool)\n"
     ]
    },
    {
     "name": "stdout",
     "output_type": "stream",
     "text": [
      "[>>>>>>>>>>>>>>>>>>>>>>>>>>>>>] 416/416, 195.9 task/s, elapsed: 2s, ETA:     0s"
     ]
    },
    {
     "name": "stderr",
     "output_type": "stream",
     "text": [
      "2022-06-05 03:54:29,494 - mmpose - INFO - The previous best checkpoint /opt/ml/mmpose/work_dirs/mobilev3_freihand2d_224x224_cv7a/best_AUC_epoch_3.pth was removed\n",
      "2022-06-05 03:54:29,692 - mmpose - INFO - Now best checkpoint is saved as best_AUC_epoch_4.pth.\n",
      "2022-06-05 03:54:29,693 - mmpose - INFO - Best AUC is 0.8342 at 4 epoch.\n",
      "2022-06-05 03:54:29,693 - mmpose - INFO - Epoch(val) [4][13]\tPCK: 0.9934, AUC: 0.8342, EPE: 4.4998\n",
      "[W pthreadpool-cpp.cc:90] Warning: Leaking Caffe2 thread-pool after fork. (function pthreadpool)\n",
      "[W pthreadpool-cpp.cc:90] Warning: Leaking Caffe2 thread-pool after fork. (function pthreadpool)\n",
      "2022-06-05 03:54:36,071 - mmpose - INFO - Epoch [5][20/54]\tlr: 2.353e-04, eta: 0:17:04, time: 0.319, data_time: 0.127, memory: 3953, heatmap_loss: 0.0011, acc_pose: 0.8625, loss: 0.0011\n",
      "2022-06-05 03:54:39,829 - mmpose - INFO - Epoch [5][40/54]\tlr: 2.552e-04, eta: 0:16:56, time: 0.188, data_time: 0.001, memory: 3953, heatmap_loss: 0.0011, acc_pose: 0.8560, loss: 0.0011\n",
      "2022-06-05 03:54:42,462 - mmpose - INFO - Saving checkpoint at 5 epochs\n"
     ]
    },
    {
     "name": "stdout",
     "output_type": "stream",
     "text": [
      "[                                                  ] 0/416, elapsed: 0s, ETA:"
     ]
    },
    {
     "name": "stderr",
     "output_type": "stream",
     "text": [
      "[W pthreadpool-cpp.cc:90] Warning: Leaking Caffe2 thread-pool after fork. (function pthreadpool)\n",
      "[W pthreadpool-cpp.cc:90] Warning: Leaking Caffe2 thread-pool after fork. (function pthreadpool)\n"
     ]
    },
    {
     "name": "stdout",
     "output_type": "stream",
     "text": [
      "[>>>>>>>>>>>>>>>>>>>>>>>>>>>>>] 416/416, 192.6 task/s, elapsed: 2s, ETA:     0s"
     ]
    },
    {
     "name": "stderr",
     "output_type": "stream",
     "text": [
      "2022-06-05 03:54:45,449 - mmpose - INFO - The previous best checkpoint /opt/ml/mmpose/work_dirs/mobilev3_freihand2d_224x224_cv7a/best_AUC_epoch_4.pth was removed\n",
      "2022-06-05 03:54:45,648 - mmpose - INFO - Now best checkpoint is saved as best_AUC_epoch_5.pth.\n",
      "2022-06-05 03:54:45,649 - mmpose - INFO - Best AUC is 0.8448 at 5 epoch.\n",
      "2022-06-05 03:54:45,649 - mmpose - INFO - Epoch(val) [5][13]\tPCK: 0.9959, AUC: 0.8448, EPE: 4.0897\n",
      "[W pthreadpool-cpp.cc:90] Warning: Leaking Caffe2 thread-pool after fork. (function pthreadpool)\n",
      "[W pthreadpool-cpp.cc:90] Warning: Leaking Caffe2 thread-pool after fork. (function pthreadpool)\n",
      "2022-06-05 03:54:51,969 - mmpose - INFO - Epoch [6][20/54]\tlr: 2.892e-04, eta: 0:16:42, time: 0.316, data_time: 0.126, memory: 3953, heatmap_loss: 0.0010, acc_pose: 0.8749, loss: 0.0010\n",
      "2022-06-05 03:54:55,735 - mmpose - INFO - Epoch [6][40/54]\tlr: 3.092e-04, eta: 0:16:36, time: 0.188, data_time: 0.000, memory: 3953, heatmap_loss: 0.0010, acc_pose: 0.8805, loss: 0.0010\n",
      "2022-06-05 03:54:58,346 - mmpose - INFO - Saving checkpoint at 6 epochs\n"
     ]
    },
    {
     "name": "stdout",
     "output_type": "stream",
     "text": [
      "[                                                  ] 0/416, elapsed: 0s, ETA:"
     ]
    },
    {
     "name": "stderr",
     "output_type": "stream",
     "text": [
      "[W pthreadpool-cpp.cc:90] Warning: Leaking Caffe2 thread-pool after fork. (function pthreadpool)\n",
      "[W pthreadpool-cpp.cc:90] Warning: Leaking Caffe2 thread-pool after fork. (function pthreadpool)\n"
     ]
    },
    {
     "name": "stdout",
     "output_type": "stream",
     "text": [
      "[>>>>>>>>>>>>>>>>>>>>>>>>>>>>>] 416/416, 182.0 task/s, elapsed: 2s, ETA:     0s"
     ]
    },
    {
     "name": "stderr",
     "output_type": "stream",
     "text": [
      "2022-06-05 03:55:01,446 - mmpose - INFO - The previous best checkpoint /opt/ml/mmpose/work_dirs/mobilev3_freihand2d_224x224_cv7a/best_AUC_epoch_5.pth was removed\n",
      "2022-06-05 03:55:01,639 - mmpose - INFO - Now best checkpoint is saved as best_AUC_epoch_6.pth.\n",
      "2022-06-05 03:55:01,640 - mmpose - INFO - Best AUC is 0.8516 at 6 epoch.\n",
      "2022-06-05 03:55:01,640 - mmpose - INFO - Epoch(val) [6][13]\tPCK: 0.9961, AUC: 0.8516, EPE: 3.8668\n",
      "[W pthreadpool-cpp.cc:90] Warning: Leaking Caffe2 thread-pool after fork. (function pthreadpool)\n",
      "[W pthreadpool-cpp.cc:90] Warning: Leaking Caffe2 thread-pool after fork. (function pthreadpool)\n",
      "2022-06-05 03:55:07,990 - mmpose - INFO - Epoch [7][20/54]\tlr: 3.432e-04, eta: 0:16:25, time: 0.317, data_time: 0.126, memory: 3953, heatmap_loss: 0.0010, acc_pose: 0.8869, loss: 0.0010\n",
      "2022-06-05 03:55:11,754 - mmpose - INFO - Epoch [7][40/54]\tlr: 3.631e-04, eta: 0:16:19, time: 0.188, data_time: 0.001, memory: 3953, heatmap_loss: 0.0009, acc_pose: 0.8942, loss: 0.0009\n",
      "2022-06-05 03:55:14,386 - mmpose - INFO - Saving checkpoint at 7 epochs\n"
     ]
    },
    {
     "name": "stdout",
     "output_type": "stream",
     "text": [
      "[                                                  ] 0/416, elapsed: 0s, ETA:"
     ]
    },
    {
     "name": "stderr",
     "output_type": "stream",
     "text": [
      "[W pthreadpool-cpp.cc:90] Warning: Leaking Caffe2 thread-pool after fork. (function pthreadpool)\n",
      "[W pthreadpool-cpp.cc:90] Warning: Leaking Caffe2 thread-pool after fork. (function pthreadpool)\n"
     ]
    },
    {
     "name": "stdout",
     "output_type": "stream",
     "text": [
      "[>>>>>>>>>>>>>>>>>>>>>>>>>>>>>] 416/416, 189.7 task/s, elapsed: 2s, ETA:     0s"
     ]
    },
    {
     "name": "stderr",
     "output_type": "stream",
     "text": [
      "2022-06-05 03:55:17,383 - mmpose - INFO - The previous best checkpoint /opt/ml/mmpose/work_dirs/mobilev3_freihand2d_224x224_cv7a/best_AUC_epoch_6.pth was removed\n",
      "2022-06-05 03:55:17,547 - mmpose - INFO - Now best checkpoint is saved as best_AUC_epoch_7.pth.\n",
      "2022-06-05 03:55:17,548 - mmpose - INFO - Best AUC is 0.8567 at 7 epoch.\n",
      "2022-06-05 03:55:17,549 - mmpose - INFO - Epoch(val) [7][13]\tPCK: 0.9968, AUC: 0.8567, EPE: 3.6857\n",
      "[W pthreadpool-cpp.cc:90] Warning: Leaking Caffe2 thread-pool after fork. (function pthreadpool)\n",
      "[W pthreadpool-cpp.cc:90] Warning: Leaking Caffe2 thread-pool after fork. (function pthreadpool)\n",
      "2022-06-05 03:55:23,928 - mmpose - INFO - Epoch [8][20/54]\tlr: 3.971e-04, eta: 0:16:09, time: 0.319, data_time: 0.126, memory: 3953, heatmap_loss: 0.0009, acc_pose: 0.9040, loss: 0.0009\n",
      "2022-06-05 03:55:27,684 - mmpose - INFO - Epoch [8][40/54]\tlr: 4.171e-04, eta: 0:16:04, time: 0.188, data_time: 0.000, memory: 3953, heatmap_loss: 0.0009, acc_pose: 0.8954, loss: 0.0009\n",
      "2022-06-05 03:55:30,311 - mmpose - INFO - Saving checkpoint at 8 epochs\n"
     ]
    },
    {
     "name": "stdout",
     "output_type": "stream",
     "text": [
      "[                                                  ] 0/416, elapsed: 0s, ETA:"
     ]
    },
    {
     "name": "stderr",
     "output_type": "stream",
     "text": [
      "[W pthreadpool-cpp.cc:90] Warning: Leaking Caffe2 thread-pool after fork. (function pthreadpool)\n",
      "[W pthreadpool-cpp.cc:90] Warning: Leaking Caffe2 thread-pool after fork. (function pthreadpool)\n"
     ]
    },
    {
     "name": "stdout",
     "output_type": "stream",
     "text": [
      "[>>>>>>>>>>>>>>>>>>>>>>>>>>>>>] 416/416, 185.9 task/s, elapsed: 2s, ETA:     0s"
     ]
    },
    {
     "name": "stderr",
     "output_type": "stream",
     "text": [
      "2022-06-05 03:55:33,599 - mmpose - INFO - The previous best checkpoint /opt/ml/mmpose/work_dirs/mobilev3_freihand2d_224x224_cv7a/best_AUC_epoch_7.pth was removed\n",
      "2022-06-05 03:55:33,801 - mmpose - INFO - Now best checkpoint is saved as best_AUC_epoch_8.pth.\n",
      "2022-06-05 03:55:33,802 - mmpose - INFO - Best AUC is 0.8595 at 8 epoch.\n",
      "2022-06-05 03:55:33,804 - mmpose - INFO - Epoch(val) [8][13]\tPCK: 0.9969, AUC: 0.8595, EPE: 3.5999\n",
      "[W pthreadpool-cpp.cc:90] Warning: Leaking Caffe2 thread-pool after fork. (function pthreadpool)\n",
      "[W pthreadpool-cpp.cc:90] Warning: Leaking Caffe2 thread-pool after fork. (function pthreadpool)\n",
      "2022-06-05 03:55:40,158 - mmpose - INFO - Epoch [9][20/54]\tlr: 4.510e-04, eta: 0:15:55, time: 0.318, data_time: 0.126, memory: 3953, heatmap_loss: 0.0008, acc_pose: 0.9124, loss: 0.0008\n",
      "2022-06-05 03:55:43,906 - mmpose - INFO - Epoch [9][40/54]\tlr: 4.710e-04, eta: 0:15:50, time: 0.187, data_time: 0.000, memory: 3953, heatmap_loss: 0.0009, acc_pose: 0.9030, loss: 0.0009\n",
      "2022-06-05 03:55:46,553 - mmpose - INFO - Saving checkpoint at 9 epochs\n"
     ]
    },
    {
     "name": "stdout",
     "output_type": "stream",
     "text": [
      "[                                                  ] 0/416, elapsed: 0s, ETA:"
     ]
    },
    {
     "name": "stderr",
     "output_type": "stream",
     "text": [
      "[W pthreadpool-cpp.cc:90] Warning: Leaking Caffe2 thread-pool after fork. (function pthreadpool)\n",
      "[W pthreadpool-cpp.cc:90] Warning: Leaking Caffe2 thread-pool after fork. (function pthreadpool)\n"
     ]
    },
    {
     "name": "stdout",
     "output_type": "stream",
     "text": [
      "[>>>>>>>>>>>>>>>>>>>>>>>>>>>>>] 416/416, 195.7 task/s, elapsed: 2s, ETA:     0s"
     ]
    },
    {
     "name": "stderr",
     "output_type": "stream",
     "text": [
      "2022-06-05 03:55:49,489 - mmpose - INFO - The previous best checkpoint /opt/ml/mmpose/work_dirs/mobilev3_freihand2d_224x224_cv7a/best_AUC_epoch_8.pth was removed\n",
      "2022-06-05 03:55:49,689 - mmpose - INFO - Now best checkpoint is saved as best_AUC_epoch_9.pth.\n",
      "2022-06-05 03:55:49,690 - mmpose - INFO - Best AUC is 0.8620 at 9 epoch.\n",
      "2022-06-05 03:55:49,691 - mmpose - INFO - Epoch(val) [9][13]\tPCK: 0.9973, AUC: 0.8620, EPE: 3.5146\n",
      "[W pthreadpool-cpp.cc:90] Warning: Leaking Caffe2 thread-pool after fork. (function pthreadpool)\n",
      "[W pthreadpool-cpp.cc:90] Warning: Leaking Caffe2 thread-pool after fork. (function pthreadpool)\n",
      "2022-06-05 03:55:56,040 - mmpose - INFO - Epoch [10][20/54]\tlr: 5.000e-04, eta: 0:15:41, time: 0.317, data_time: 0.126, memory: 3953, heatmap_loss: 0.0008, acc_pose: 0.9156, loss: 0.0008\n",
      "2022-06-05 03:55:59,787 - mmpose - INFO - Epoch [10][40/54]\tlr: 5.000e-04, eta: 0:15:36, time: 0.187, data_time: 0.000, memory: 3953, heatmap_loss: 0.0008, acc_pose: 0.9086, loss: 0.0008\n",
      "2022-06-05 03:56:02,443 - mmpose - INFO - Saving checkpoint at 10 epochs\n"
     ]
    },
    {
     "name": "stdout",
     "output_type": "stream",
     "text": [
      "[                                                  ] 0/416, elapsed: 0s, ETA:"
     ]
    },
    {
     "name": "stderr",
     "output_type": "stream",
     "text": [
      "[W pthreadpool-cpp.cc:90] Warning: Leaking Caffe2 thread-pool after fork. (function pthreadpool)\n",
      "[W pthreadpool-cpp.cc:90] Warning: Leaking Caffe2 thread-pool after fork. (function pthreadpool)\n"
     ]
    },
    {
     "name": "stdout",
     "output_type": "stream",
     "text": [
      "[>>>>>>>>>>>>>>>>>>>>>>>>>>>>>] 416/416, 193.0 task/s, elapsed: 2s, ETA:     0s"
     ]
    },
    {
     "name": "stderr",
     "output_type": "stream",
     "text": [
      "2022-06-05 03:56:05,421 - mmpose - INFO - The previous best checkpoint /opt/ml/mmpose/work_dirs/mobilev3_freihand2d_224x224_cv7a/best_AUC_epoch_9.pth was removed\n",
      "2022-06-05 03:56:05,621 - mmpose - INFO - Now best checkpoint is saved as best_AUC_epoch_10.pth.\n",
      "2022-06-05 03:56:05,622 - mmpose - INFO - Best AUC is 0.8659 at 10 epoch.\n",
      "2022-06-05 03:56:05,623 - mmpose - INFO - Epoch(val) [10][13]\tPCK: 0.9971, AUC: 0.8659, EPE: 3.3815\n",
      "[W pthreadpool-cpp.cc:90] Warning: Leaking Caffe2 thread-pool after fork. (function pthreadpool)\n",
      "[W pthreadpool-cpp.cc:90] Warning: Leaking Caffe2 thread-pool after fork. (function pthreadpool)\n",
      "2022-06-05 03:56:11,998 - mmpose - INFO - Epoch [11][20/54]\tlr: 5.000e-04, eta: 0:15:28, time: 0.319, data_time: 0.126, memory: 3953, heatmap_loss: 0.0008, acc_pose: 0.9179, loss: 0.0008\n",
      "2022-06-05 03:56:15,761 - mmpose - INFO - Epoch [11][40/54]\tlr: 5.000e-04, eta: 0:15:24, time: 0.188, data_time: 0.000, memory: 3953, heatmap_loss: 0.0008, acc_pose: 0.9150, loss: 0.0008\n",
      "2022-06-05 03:56:18,394 - mmpose - INFO - Saving checkpoint at 11 epochs\n"
     ]
    },
    {
     "name": "stdout",
     "output_type": "stream",
     "text": [
      "[                                                  ] 0/416, elapsed: 0s, ETA:"
     ]
    },
    {
     "name": "stderr",
     "output_type": "stream",
     "text": [
      "[W pthreadpool-cpp.cc:90] Warning: Leaking Caffe2 thread-pool after fork. (function pthreadpool)\n",
      "[W pthreadpool-cpp.cc:90] Warning: Leaking Caffe2 thread-pool after fork. (function pthreadpool)\n"
     ]
    },
    {
     "name": "stdout",
     "output_type": "stream",
     "text": [
      "[>>>>>>>>>>>>>>>>>>>>>>>>>>>>>] 416/416, 198.1 task/s, elapsed: 2s, ETA:     0s"
     ]
    },
    {
     "name": "stderr",
     "output_type": "stream",
     "text": [
      "2022-06-05 03:56:21,317 - mmpose - INFO - Epoch(val) [11][13]\tPCK: 0.9975, AUC: 0.8656, EPE: 3.3922\n",
      "[W pthreadpool-cpp.cc:90] Warning: Leaking Caffe2 thread-pool after fork. (function pthreadpool)\n",
      "[W pthreadpool-cpp.cc:90] Warning: Leaking Caffe2 thread-pool after fork. (function pthreadpool)\n",
      "2022-06-05 03:56:27,696 - mmpose - INFO - Epoch [12][20/54]\tlr: 5.000e-04, eta: 0:15:16, time: 0.319, data_time: 0.125, memory: 3953, heatmap_loss: 0.0007, acc_pose: 0.9245, loss: 0.0007\n",
      "2022-06-05 03:56:31,439 - mmpose - INFO - Epoch [12][40/54]\tlr: 5.000e-04, eta: 0:15:12, time: 0.187, data_time: 0.001, memory: 3953, heatmap_loss: 0.0007, acc_pose: 0.9230, loss: 0.0007\n",
      "2022-06-05 03:56:34,056 - mmpose - INFO - Saving checkpoint at 12 epochs\n"
     ]
    },
    {
     "name": "stdout",
     "output_type": "stream",
     "text": [
      "[                                                  ] 0/416, elapsed: 0s, ETA:"
     ]
    },
    {
     "name": "stderr",
     "output_type": "stream",
     "text": [
      "[W pthreadpool-cpp.cc:90] Warning: Leaking Caffe2 thread-pool after fork. (function pthreadpool)\n",
      "[W pthreadpool-cpp.cc:90] Warning: Leaking Caffe2 thread-pool after fork. (function pthreadpool)\n"
     ]
    },
    {
     "name": "stdout",
     "output_type": "stream",
     "text": [
      "[>>>>>>>>>>>>>>>>>>>>>>>>>>>>>] 416/416, 184.6 task/s, elapsed: 2s, ETA:     0s"
     ]
    },
    {
     "name": "stderr",
     "output_type": "stream",
     "text": [
      "2022-06-05 03:56:37,204 - mmpose - INFO - The previous best checkpoint /opt/ml/mmpose/work_dirs/mobilev3_freihand2d_224x224_cv7a/best_AUC_epoch_10.pth was removed\n",
      "2022-06-05 03:56:37,393 - mmpose - INFO - Now best checkpoint is saved as best_AUC_epoch_12.pth.\n",
      "2022-06-05 03:56:37,394 - mmpose - INFO - Best AUC is 0.8693 at 12 epoch.\n",
      "2022-06-05 03:56:37,394 - mmpose - INFO - Epoch(val) [12][13]\tPCK: 0.9977, AUC: 0.8693, EPE: 3.2737\n",
      "[W pthreadpool-cpp.cc:90] Warning: Leaking Caffe2 thread-pool after fork. (function pthreadpool)\n",
      "[W pthreadpool-cpp.cc:90] Warning: Leaking Caffe2 thread-pool after fork. (function pthreadpool)\n",
      "2022-06-05 03:56:43,744 - mmpose - INFO - Epoch [13][20/54]\tlr: 5.000e-04, eta: 0:15:04, time: 0.317, data_time: 0.127, memory: 3953, heatmap_loss: 0.0007, acc_pose: 0.9309, loss: 0.0007\n",
      "2022-06-05 03:56:47,492 - mmpose - INFO - Epoch [13][40/54]\tlr: 5.000e-04, eta: 0:15:00, time: 0.187, data_time: 0.000, memory: 3953, heatmap_loss: 0.0008, acc_pose: 0.9168, loss: 0.0008\n",
      "2022-06-05 03:56:50,119 - mmpose - INFO - Saving checkpoint at 13 epochs\n"
     ]
    },
    {
     "name": "stdout",
     "output_type": "stream",
     "text": [
      "[                                                  ] 0/416, elapsed: 0s, ETA:"
     ]
    },
    {
     "name": "stderr",
     "output_type": "stream",
     "text": [
      "[W pthreadpool-cpp.cc:90] Warning: Leaking Caffe2 thread-pool after fork. (function pthreadpool)\n",
      "[W pthreadpool-cpp.cc:90] Warning: Leaking Caffe2 thread-pool after fork. (function pthreadpool)\n"
     ]
    },
    {
     "name": "stdout",
     "output_type": "stream",
     "text": [
      "[>>>>>>>>>>>>>>>>>>>>>>>>>>>>>] 416/416, 190.5 task/s, elapsed: 2s, ETA:     0s"
     ]
    },
    {
     "name": "stderr",
     "output_type": "stream",
     "text": [
      "2022-06-05 03:56:53,099 - mmpose - INFO - Epoch(val) [13][13]\tPCK: 0.9974, AUC: 0.8692, EPE: 3.3030\n",
      "[W pthreadpool-cpp.cc:90] Warning: Leaking Caffe2 thread-pool after fork. (function pthreadpool)\n",
      "[W pthreadpool-cpp.cc:90] Warning: Leaking Caffe2 thread-pool after fork. (function pthreadpool)\n",
      "2022-06-05 03:56:59,462 - mmpose - INFO - Epoch [14][20/54]\tlr: 5.000e-04, eta: 0:14:52, time: 0.318, data_time: 0.126, memory: 3953, heatmap_loss: 0.0007, acc_pose: 0.9279, loss: 0.0007\n",
      "2022-06-05 03:57:03,292 - mmpose - INFO - Epoch [14][40/54]\tlr: 5.000e-04, eta: 0:14:49, time: 0.192, data_time: 0.001, memory: 3953, heatmap_loss: 0.0007, acc_pose: 0.9264, loss: 0.0007\n",
      "2022-06-05 03:57:05,971 - mmpose - INFO - Saving checkpoint at 14 epochs\n"
     ]
    },
    {
     "name": "stdout",
     "output_type": "stream",
     "text": [
      "[                                                  ] 0/416, elapsed: 0s, ETA:"
     ]
    },
    {
     "name": "stderr",
     "output_type": "stream",
     "text": [
      "[W pthreadpool-cpp.cc:90] Warning: Leaking Caffe2 thread-pool after fork. (function pthreadpool)\n",
      "[W pthreadpool-cpp.cc:90] Warning: Leaking Caffe2 thread-pool after fork. (function pthreadpool)\n"
     ]
    },
    {
     "name": "stdout",
     "output_type": "stream",
     "text": [
      "[>>>>>>>>>>>>>>>>>>>>>>>>>>>>>] 416/416, 187.3 task/s, elapsed: 2s, ETA:     0s"
     ]
    },
    {
     "name": "stderr",
     "output_type": "stream",
     "text": [
      "2022-06-05 03:57:09,243 - mmpose - INFO - The previous best checkpoint /opt/ml/mmpose/work_dirs/mobilev3_freihand2d_224x224_cv7a/best_AUC_epoch_12.pth was removed\n",
      "2022-06-05 03:57:09,437 - mmpose - INFO - Now best checkpoint is saved as best_AUC_epoch_14.pth.\n",
      "2022-06-05 03:57:09,438 - mmpose - INFO - Best AUC is 0.8708 at 14 epoch.\n",
      "2022-06-05 03:57:09,440 - mmpose - INFO - Epoch(val) [14][13]\tPCK: 0.9981, AUC: 0.8708, EPE: 3.2184\n",
      "[W pthreadpool-cpp.cc:90] Warning: Leaking Caffe2 thread-pool after fork. (function pthreadpool)\n",
      "[W pthreadpool-cpp.cc:90] Warning: Leaking Caffe2 thread-pool after fork. (function pthreadpool)\n",
      "2022-06-05 03:57:15,850 - mmpose - INFO - Epoch [15][20/54]\tlr: 5.000e-04, eta: 0:14:42, time: 0.320, data_time: 0.126, memory: 3953, heatmap_loss: 0.0007, acc_pose: 0.9290, loss: 0.0007\n",
      "2022-06-05 03:57:19,647 - mmpose - INFO - Epoch [15][40/54]\tlr: 5.000e-04, eta: 0:14:38, time: 0.190, data_time: 0.001, memory: 3953, heatmap_loss: 0.0007, acc_pose: 0.9288, loss: 0.0007\n",
      "2022-06-05 03:57:22,335 - mmpose - INFO - Saving checkpoint at 15 epochs\n"
     ]
    },
    {
     "name": "stdout",
     "output_type": "stream",
     "text": [
      "[                                                  ] 0/416, elapsed: 0s, ETA:"
     ]
    },
    {
     "name": "stderr",
     "output_type": "stream",
     "text": [
      "[W pthreadpool-cpp.cc:90] Warning: Leaking Caffe2 thread-pool after fork. (function pthreadpool)\n",
      "[W pthreadpool-cpp.cc:90] Warning: Leaking Caffe2 thread-pool after fork. (function pthreadpool)\n"
     ]
    },
    {
     "name": "stdout",
     "output_type": "stream",
     "text": [
      "[>>>>>>>>>>>>>>>>>>>>>>>>>>>>>] 416/416, 191.1 task/s, elapsed: 2s, ETA:     0s"
     ]
    },
    {
     "name": "stderr",
     "output_type": "stream",
     "text": [
      "2022-06-05 03:57:25,385 - mmpose - INFO - The previous best checkpoint /opt/ml/mmpose/work_dirs/mobilev3_freihand2d_224x224_cv7a/best_AUC_epoch_14.pth was removed\n",
      "2022-06-05 03:57:25,590 - mmpose - INFO - Now best checkpoint is saved as best_AUC_epoch_15.pth.\n",
      "2022-06-05 03:57:25,591 - mmpose - INFO - Best AUC is 0.8714 at 15 epoch.\n",
      "2022-06-05 03:57:25,592 - mmpose - INFO - Epoch(val) [15][13]\tPCK: 0.9977, AUC: 0.8714, EPE: 3.2156\n",
      "[W pthreadpool-cpp.cc:90] Warning: Leaking Caffe2 thread-pool after fork. (function pthreadpool)\n",
      "[W pthreadpool-cpp.cc:90] Warning: Leaking Caffe2 thread-pool after fork. (function pthreadpool)\n",
      "2022-06-05 03:57:31,946 - mmpose - INFO - Epoch [16][20/54]\tlr: 5.000e-04, eta: 0:14:30, time: 0.318, data_time: 0.125, memory: 3953, heatmap_loss: 0.0007, acc_pose: 0.9320, loss: 0.0007\n",
      "2022-06-05 03:57:35,702 - mmpose - INFO - Epoch [16][40/54]\tlr: 5.000e-04, eta: 0:14:26, time: 0.188, data_time: 0.000, memory: 3953, heatmap_loss: 0.0007, acc_pose: 0.9294, loss: 0.0007\n",
      "2022-06-05 03:57:38,358 - mmpose - INFO - Saving checkpoint at 16 epochs\n"
     ]
    },
    {
     "name": "stdout",
     "output_type": "stream",
     "text": [
      "[                                                  ] 0/416, elapsed: 0s, ETA:"
     ]
    },
    {
     "name": "stderr",
     "output_type": "stream",
     "text": [
      "[W pthreadpool-cpp.cc:90] Warning: Leaking Caffe2 thread-pool after fork. (function pthreadpool)\n",
      "[W pthreadpool-cpp.cc:90] Warning: Leaking Caffe2 thread-pool after fork. (function pthreadpool)\n"
     ]
    },
    {
     "name": "stdout",
     "output_type": "stream",
     "text": [
      "[>>>>>>>>>>>>>>>>>>>>>>>>>>>>>] 416/416, 197.5 task/s, elapsed: 2s, ETA:     0s"
     ]
    },
    {
     "name": "stderr",
     "output_type": "stream",
     "text": [
      "2022-06-05 03:57:41,285 - mmpose - INFO - The previous best checkpoint /opt/ml/mmpose/work_dirs/mobilev3_freihand2d_224x224_cv7a/best_AUC_epoch_15.pth was removed\n",
      "2022-06-05 03:57:41,486 - mmpose - INFO - Now best checkpoint is saved as best_AUC_epoch_16.pth.\n",
      "2022-06-05 03:57:41,487 - mmpose - INFO - Best AUC is 0.8728 at 16 epoch.\n",
      "2022-06-05 03:57:41,488 - mmpose - INFO - Epoch(val) [16][13]\tPCK: 0.9973, AUC: 0.8728, EPE: 3.1792\n",
      "[W pthreadpool-cpp.cc:90] Warning: Leaking Caffe2 thread-pool after fork. (function pthreadpool)\n",
      "[W pthreadpool-cpp.cc:90] Warning: Leaking Caffe2 thread-pool after fork. (function pthreadpool)\n",
      "2022-06-05 03:57:47,855 - mmpose - INFO - Epoch [17][20/54]\tlr: 5.000e-04, eta: 0:14:19, time: 0.318, data_time: 0.126, memory: 3953, heatmap_loss: 0.0007, acc_pose: 0.9359, loss: 0.0007\n",
      "2022-06-05 03:57:51,615 - mmpose - INFO - Epoch [17][40/54]\tlr: 5.000e-04, eta: 0:14:15, time: 0.188, data_time: 0.000, memory: 3953, heatmap_loss: 0.0007, acc_pose: 0.9313, loss: 0.0007\n",
      "2022-06-05 03:57:54,281 - mmpose - INFO - Saving checkpoint at 17 epochs\n"
     ]
    },
    {
     "name": "stdout",
     "output_type": "stream",
     "text": [
      "[                                                  ] 0/416, elapsed: 0s, ETA:"
     ]
    },
    {
     "name": "stderr",
     "output_type": "stream",
     "text": [
      "[W pthreadpool-cpp.cc:90] Warning: Leaking Caffe2 thread-pool after fork. (function pthreadpool)\n",
      "[W pthreadpool-cpp.cc:90] Warning: Leaking Caffe2 thread-pool after fork. (function pthreadpool)\n"
     ]
    },
    {
     "name": "stdout",
     "output_type": "stream",
     "text": [
      "[>>>>>>>>>>>>>>>>>>>>>>>>>>>>>] 416/416, 202.9 task/s, elapsed: 2s, ETA:     0s"
     ]
    },
    {
     "name": "stderr",
     "output_type": "stream",
     "text": [
      "2022-06-05 03:57:57,175 - mmpose - INFO - The previous best checkpoint /opt/ml/mmpose/work_dirs/mobilev3_freihand2d_224x224_cv7a/best_AUC_epoch_16.pth was removed\n",
      "2022-06-05 03:57:57,372 - mmpose - INFO - Now best checkpoint is saved as best_AUC_epoch_17.pth.\n",
      "2022-06-05 03:57:57,373 - mmpose - INFO - Best AUC is 0.8731 at 17 epoch.\n",
      "2022-06-05 03:57:57,373 - mmpose - INFO - Epoch(val) [17][13]\tPCK: 0.9976, AUC: 0.8731, EPE: 3.1608\n",
      "[W pthreadpool-cpp.cc:90] Warning: Leaking Caffe2 thread-pool after fork. (function pthreadpool)\n",
      "[W pthreadpool-cpp.cc:90] Warning: Leaking Caffe2 thread-pool after fork. (function pthreadpool)\n",
      "2022-06-05 03:58:03,734 - mmpose - INFO - Epoch [18][20/54]\tlr: 5.000e-04, eta: 0:14:08, time: 0.318, data_time: 0.126, memory: 3953, heatmap_loss: 0.0007, acc_pose: 0.9324, loss: 0.0007\n",
      "2022-06-05 03:58:07,488 - mmpose - INFO - Epoch [18][40/54]\tlr: 5.000e-04, eta: 0:14:04, time: 0.188, data_time: 0.000, memory: 3953, heatmap_loss: 0.0007, acc_pose: 0.9308, loss: 0.0007\n",
      "2022-06-05 03:58:10,121 - mmpose - INFO - Saving checkpoint at 18 epochs\n"
     ]
    },
    {
     "name": "stdout",
     "output_type": "stream",
     "text": [
      "[                                                  ] 0/416, elapsed: 0s, ETA:"
     ]
    },
    {
     "name": "stderr",
     "output_type": "stream",
     "text": [
      "[W pthreadpool-cpp.cc:90] Warning: Leaking Caffe2 thread-pool after fork. (function pthreadpool)\n",
      "[W pthreadpool-cpp.cc:90] Warning: Leaking Caffe2 thread-pool after fork. (function pthreadpool)\n"
     ]
    },
    {
     "name": "stdout",
     "output_type": "stream",
     "text": [
      "[>>>>>>>>>>>>>>>>>>>>>>>>>>>>>] 416/416, 189.4 task/s, elapsed: 2s, ETA:     0s"
     ]
    },
    {
     "name": "stderr",
     "output_type": "stream",
     "text": [
      "2022-06-05 03:58:13,117 - mmpose - INFO - Epoch(val) [18][13]\tPCK: 0.9979, AUC: 0.8705, EPE: 3.2370\n",
      "[W pthreadpool-cpp.cc:90] Warning: Leaking Caffe2 thread-pool after fork. (function pthreadpool)\n",
      "[W pthreadpool-cpp.cc:90] Warning: Leaking Caffe2 thread-pool after fork. (function pthreadpool)\n",
      "2022-06-05 03:58:19,464 - mmpose - INFO - Epoch [19][20/54]\tlr: 5.000e-04, eta: 0:13:57, time: 0.317, data_time: 0.126, memory: 3953, heatmap_loss: 0.0006, acc_pose: 0.9425, loss: 0.0006\n",
      "2022-06-05 03:58:23,220 - mmpose - INFO - Epoch [19][40/54]\tlr: 5.000e-04, eta: 0:13:53, time: 0.188, data_time: 0.001, memory: 3953, heatmap_loss: 0.0007, acc_pose: 0.9311, loss: 0.0007\n",
      "2022-06-05 03:58:25,848 - mmpose - INFO - Saving checkpoint at 19 epochs\n"
     ]
    },
    {
     "name": "stdout",
     "output_type": "stream",
     "text": [
      "[                                                  ] 0/416, elapsed: 0s, ETA:"
     ]
    },
    {
     "name": "stderr",
     "output_type": "stream",
     "text": [
      "[W pthreadpool-cpp.cc:90] Warning: Leaking Caffe2 thread-pool after fork. (function pthreadpool)\n",
      "[W pthreadpool-cpp.cc:90] Warning: Leaking Caffe2 thread-pool after fork. (function pthreadpool)\n"
     ]
    },
    {
     "name": "stdout",
     "output_type": "stream",
     "text": [
      "[>>>>>>>>>>>>>>>>>>>>>>>>>>>>>] 416/416, 195.3 task/s, elapsed: 2s, ETA:     0s"
     ]
    },
    {
     "name": "stderr",
     "output_type": "stream",
     "text": [
      "2022-06-05 03:58:28,806 - mmpose - INFO - The previous best checkpoint /opt/ml/mmpose/work_dirs/mobilev3_freihand2d_224x224_cv7a/best_AUC_epoch_17.pth was removed\n",
      "2022-06-05 03:58:28,969 - mmpose - INFO - Now best checkpoint is saved as best_AUC_epoch_19.pth.\n",
      "2022-06-05 03:58:28,970 - mmpose - INFO - Best AUC is 0.8746 at 19 epoch.\n",
      "2022-06-05 03:58:28,971 - mmpose - INFO - Epoch(val) [19][13]\tPCK: 0.9978, AUC: 0.8746, EPE: 3.1355\n",
      "[W pthreadpool-cpp.cc:90] Warning: Leaking Caffe2 thread-pool after fork. (function pthreadpool)\n",
      "[W pthreadpool-cpp.cc:90] Warning: Leaking Caffe2 thread-pool after fork. (function pthreadpool)\n",
      "2022-06-05 03:58:35,340 - mmpose - INFO - Epoch [20][20/54]\tlr: 5.000e-04, eta: 0:13:46, time: 0.318, data_time: 0.125, memory: 3953, heatmap_loss: 0.0006, acc_pose: 0.9330, loss: 0.0006\n",
      "2022-06-05 03:58:39,112 - mmpose - INFO - Epoch [20][40/54]\tlr: 5.000e-04, eta: 0:13:42, time: 0.189, data_time: 0.001, memory: 3953, heatmap_loss: 0.0006, acc_pose: 0.9373, loss: 0.0006\n",
      "2022-06-05 03:58:41,744 - mmpose - INFO - Saving checkpoint at 20 epochs\n"
     ]
    },
    {
     "name": "stdout",
     "output_type": "stream",
     "text": [
      "[                                                  ] 0/416, elapsed: 0s, ETA:"
     ]
    },
    {
     "name": "stderr",
     "output_type": "stream",
     "text": [
      "[W pthreadpool-cpp.cc:90] Warning: Leaking Caffe2 thread-pool after fork. (function pthreadpool)\n",
      "[W pthreadpool-cpp.cc:90] Warning: Leaking Caffe2 thread-pool after fork. (function pthreadpool)\n"
     ]
    },
    {
     "name": "stdout",
     "output_type": "stream",
     "text": [
      "[>>>>>>>>>>>>>>>>>>>>>>>>>>>>>] 416/416, 193.9 task/s, elapsed: 2s, ETA:     0s"
     ]
    },
    {
     "name": "stderr",
     "output_type": "stream",
     "text": [
      "2022-06-05 03:58:44,916 - mmpose - INFO - The previous best checkpoint /opt/ml/mmpose/work_dirs/mobilev3_freihand2d_224x224_cv7a/best_AUC_epoch_19.pth was removed\n",
      "2022-06-05 03:58:45,080 - mmpose - INFO - Now best checkpoint is saved as best_AUC_epoch_20.pth.\n",
      "2022-06-05 03:58:45,081 - mmpose - INFO - Best AUC is 0.8753 at 20 epoch.\n",
      "2022-06-05 03:58:45,082 - mmpose - INFO - Epoch(val) [20][13]\tPCK: 0.9978, AUC: 0.8753, EPE: 3.1101\n",
      "[W pthreadpool-cpp.cc:90] Warning: Leaking Caffe2 thread-pool after fork. (function pthreadpool)\n",
      "[W pthreadpool-cpp.cc:90] Warning: Leaking Caffe2 thread-pool after fork. (function pthreadpool)\n",
      "2022-06-05 03:58:51,449 - mmpose - INFO - Epoch [21][20/54]\tlr: 5.000e-04, eta: 0:13:36, time: 0.318, data_time: 0.126, memory: 3953, heatmap_loss: 0.0006, acc_pose: 0.9369, loss: 0.0006\n",
      "2022-06-05 03:58:55,213 - mmpose - INFO - Epoch [21][40/54]\tlr: 5.000e-04, eta: 0:13:32, time: 0.188, data_time: 0.001, memory: 3953, heatmap_loss: 0.0006, acc_pose: 0.9423, loss: 0.0006\n",
      "2022-06-05 03:58:57,848 - mmpose - INFO - Saving checkpoint at 21 epochs\n"
     ]
    },
    {
     "name": "stdout",
     "output_type": "stream",
     "text": [
      "[                                                  ] 0/416, elapsed: 0s, ETA:"
     ]
    },
    {
     "name": "stderr",
     "output_type": "stream",
     "text": [
      "[W pthreadpool-cpp.cc:90] Warning: Leaking Caffe2 thread-pool after fork. (function pthreadpool)\n",
      "[W pthreadpool-cpp.cc:90] Warning: Leaking Caffe2 thread-pool after fork. (function pthreadpool)\n"
     ]
    },
    {
     "name": "stdout",
     "output_type": "stream",
     "text": [
      "[>>>>>>>>>>>>>>>>>>>>>>>>>>>>>] 416/416, 192.5 task/s, elapsed: 2s, ETA:     0s"
     ]
    },
    {
     "name": "stderr",
     "output_type": "stream",
     "text": [
      "2022-06-05 03:59:00,825 - mmpose - INFO - The previous best checkpoint /opt/ml/mmpose/work_dirs/mobilev3_freihand2d_224x224_cv7a/best_AUC_epoch_20.pth was removed\n",
      "2022-06-05 03:59:01,017 - mmpose - INFO - Now best checkpoint is saved as best_AUC_epoch_21.pth.\n",
      "2022-06-05 03:59:01,018 - mmpose - INFO - Best AUC is 0.8757 at 21 epoch.\n",
      "2022-06-05 03:59:01,018 - mmpose - INFO - Epoch(val) [21][13]\tPCK: 0.9977, AUC: 0.8757, EPE: 3.0851\n",
      "[W pthreadpool-cpp.cc:90] Warning: Leaking Caffe2 thread-pool after fork. (function pthreadpool)\n",
      "[W pthreadpool-cpp.cc:90] Warning: Leaking Caffe2 thread-pool after fork. (function pthreadpool)\n",
      "2022-06-05 03:59:07,406 - mmpose - INFO - Epoch [22][20/54]\tlr: 5.000e-04, eta: 0:13:25, time: 0.319, data_time: 0.126, memory: 3953, heatmap_loss: 0.0006, acc_pose: 0.9362, loss: 0.0006\n",
      "2022-06-05 03:59:11,157 - mmpose - INFO - Epoch [22][40/54]\tlr: 5.000e-04, eta: 0:13:21, time: 0.188, data_time: 0.000, memory: 3953, heatmap_loss: 0.0006, acc_pose: 0.9412, loss: 0.0006\n",
      "2022-06-05 03:59:13,784 - mmpose - INFO - Saving checkpoint at 22 epochs\n"
     ]
    },
    {
     "name": "stdout",
     "output_type": "stream",
     "text": [
      "[                                                  ] 0/416, elapsed: 0s, ETA:"
     ]
    },
    {
     "name": "stderr",
     "output_type": "stream",
     "text": [
      "[W pthreadpool-cpp.cc:90] Warning: Leaking Caffe2 thread-pool after fork. (function pthreadpool)\n",
      "[W pthreadpool-cpp.cc:90] Warning: Leaking Caffe2 thread-pool after fork. (function pthreadpool)\n"
     ]
    },
    {
     "name": "stdout",
     "output_type": "stream",
     "text": [
      "[>>>>>>>>>>>>>>>>>>>>>>>>>>>>>] 416/416, 196.5 task/s, elapsed: 2s, ETA:     0s"
     ]
    },
    {
     "name": "stderr",
     "output_type": "stream",
     "text": [
      "2022-06-05 03:59:16,764 - mmpose - INFO - The previous best checkpoint /opt/ml/mmpose/work_dirs/mobilev3_freihand2d_224x224_cv7a/best_AUC_epoch_21.pth was removed\n",
      "2022-06-05 03:59:16,961 - mmpose - INFO - Now best checkpoint is saved as best_AUC_epoch_22.pth.\n",
      "2022-06-05 03:59:16,962 - mmpose - INFO - Best AUC is 0.8758 at 22 epoch.\n",
      "2022-06-05 03:59:16,963 - mmpose - INFO - Epoch(val) [22][13]\tPCK: 0.9978, AUC: 0.8758, EPE: 3.0747\n",
      "[W pthreadpool-cpp.cc:90] Warning: Leaking Caffe2 thread-pool after fork. (function pthreadpool)\n",
      "[W pthreadpool-cpp.cc:90] Warning: Leaking Caffe2 thread-pool after fork. (function pthreadpool)\n",
      "2022-06-05 03:59:23,372 - mmpose - INFO - Epoch [23][20/54]\tlr: 5.000e-04, eta: 0:13:14, time: 0.320, data_time: 0.126, memory: 3953, heatmap_loss: 0.0006, acc_pose: 0.9401, loss: 0.0006\n",
      "2022-06-05 03:59:27,150 - mmpose - INFO - Epoch [23][40/54]\tlr: 5.000e-04, eta: 0:13:11, time: 0.189, data_time: 0.000, memory: 3953, heatmap_loss: 0.0006, acc_pose: 0.9398, loss: 0.0006\n",
      "2022-06-05 03:59:29,786 - mmpose - INFO - Saving checkpoint at 23 epochs\n"
     ]
    },
    {
     "name": "stdout",
     "output_type": "stream",
     "text": [
      "[                                                  ] 0/416, elapsed: 0s, ETA:"
     ]
    },
    {
     "name": "stderr",
     "output_type": "stream",
     "text": [
      "[W pthreadpool-cpp.cc:90] Warning: Leaking Caffe2 thread-pool after fork. (function pthreadpool)\n",
      "[W pthreadpool-cpp.cc:90] Warning: Leaking Caffe2 thread-pool after fork. (function pthreadpool)\n"
     ]
    },
    {
     "name": "stdout",
     "output_type": "stream",
     "text": [
      "[>>>>>>>>>>>>>>>>>>>>>>>>>>>>>] 416/416, 194.5 task/s, elapsed: 2s, ETA:     0s"
     ]
    },
    {
     "name": "stderr",
     "output_type": "stream",
     "text": [
      "2022-06-05 03:59:32,749 - mmpose - INFO - Epoch(val) [23][13]\tPCK: 0.9977, AUC: 0.8758, EPE: 3.0861\n",
      "[W pthreadpool-cpp.cc:90] Warning: Leaking Caffe2 thread-pool after fork. (function pthreadpool)\n",
      "[W pthreadpool-cpp.cc:90] Warning: Leaking Caffe2 thread-pool after fork. (function pthreadpool)\n",
      "2022-06-05 03:59:39,102 - mmpose - INFO - Epoch [24][20/54]\tlr: 5.000e-04, eta: 0:13:04, time: 0.317, data_time: 0.125, memory: 3953, heatmap_loss: 0.0006, acc_pose: 0.9428, loss: 0.0006\n",
      "2022-06-05 03:59:42,874 - mmpose - INFO - Epoch [24][40/54]\tlr: 5.000e-04, eta: 0:13:00, time: 0.189, data_time: 0.000, memory: 3953, heatmap_loss: 0.0006, acc_pose: 0.9354, loss: 0.0006\n",
      "2022-06-05 03:59:45,516 - mmpose - INFO - Saving checkpoint at 24 epochs\n"
     ]
    },
    {
     "name": "stdout",
     "output_type": "stream",
     "text": [
      "[                                                  ] 0/416, elapsed: 0s, ETA:"
     ]
    },
    {
     "name": "stderr",
     "output_type": "stream",
     "text": [
      "[W pthreadpool-cpp.cc:90] Warning: Leaking Caffe2 thread-pool after fork. (function pthreadpool)\n",
      "[W pthreadpool-cpp.cc:90] Warning: Leaking Caffe2 thread-pool after fork. (function pthreadpool)\n"
     ]
    },
    {
     "name": "stdout",
     "output_type": "stream",
     "text": [
      "[>>>>>>>>>>>>>>>>>>>>>>>>>>>>>] 416/416, 193.9 task/s, elapsed: 2s, ETA:     0s"
     ]
    },
    {
     "name": "stderr",
     "output_type": "stream",
     "text": [
      "2022-06-05 03:59:48,478 - mmpose - INFO - The previous best checkpoint /opt/ml/mmpose/work_dirs/mobilev3_freihand2d_224x224_cv7a/best_AUC_epoch_22.pth was removed\n",
      "2022-06-05 03:59:48,641 - mmpose - INFO - Now best checkpoint is saved as best_AUC_epoch_24.pth.\n",
      "2022-06-05 03:59:48,642 - mmpose - INFO - Best AUC is 0.8762 at 24 epoch.\n",
      "2022-06-05 03:59:48,642 - mmpose - INFO - Epoch(val) [24][13]\tPCK: 0.9977, AUC: 0.8762, EPE: 3.0662\n",
      "[W pthreadpool-cpp.cc:90] Warning: Leaking Caffe2 thread-pool after fork. (function pthreadpool)\n",
      "[W pthreadpool-cpp.cc:90] Warning: Leaking Caffe2 thread-pool after fork. (function pthreadpool)\n",
      "2022-06-05 03:59:54,999 - mmpose - INFO - Epoch [25][20/54]\tlr: 5.000e-04, eta: 0:12:53, time: 0.318, data_time: 0.127, memory: 3953, heatmap_loss: 0.0006, acc_pose: 0.9414, loss: 0.0006\n",
      "2022-06-05 03:59:58,769 - mmpose - INFO - Epoch [25][40/54]\tlr: 5.000e-04, eta: 0:12:49, time: 0.189, data_time: 0.000, memory: 3953, heatmap_loss: 0.0006, acc_pose: 0.9443, loss: 0.0006\n",
      "2022-06-05 04:00:01,413 - mmpose - INFO - Saving checkpoint at 25 epochs\n"
     ]
    },
    {
     "name": "stdout",
     "output_type": "stream",
     "text": [
      "[                                                  ] 0/416, elapsed: 0s, ETA:"
     ]
    },
    {
     "name": "stderr",
     "output_type": "stream",
     "text": [
      "[W pthreadpool-cpp.cc:90] Warning: Leaking Caffe2 thread-pool after fork. (function pthreadpool)\n",
      "[W pthreadpool-cpp.cc:90] Warning: Leaking Caffe2 thread-pool after fork. (function pthreadpool)\n"
     ]
    },
    {
     "name": "stdout",
     "output_type": "stream",
     "text": [
      "[>>>>>>>>>>>>>>>>>>>>>>>>>>>>>] 416/416, 191.7 task/s, elapsed: 2s, ETA:     0s"
     ]
    },
    {
     "name": "stderr",
     "output_type": "stream",
     "text": [
      "2022-06-05 04:00:04,392 - mmpose - INFO - Epoch(val) [25][13]\tPCK: 0.9982, AUC: 0.8748, EPE: 3.0929\n",
      "[W pthreadpool-cpp.cc:90] Warning: Leaking Caffe2 thread-pool after fork. (function pthreadpool)\n",
      "[W pthreadpool-cpp.cc:90] Warning: Leaking Caffe2 thread-pool after fork. (function pthreadpool)\n",
      "2022-06-05 04:00:10,739 - mmpose - INFO - Epoch [26][20/54]\tlr: 5.000e-04, eta: 0:12:43, time: 0.317, data_time: 0.126, memory: 3953, heatmap_loss: 0.0006, acc_pose: 0.9385, loss: 0.0006\n",
      "2022-06-05 04:00:14,484 - mmpose - INFO - Epoch [26][40/54]\tlr: 5.000e-04, eta: 0:12:39, time: 0.187, data_time: 0.000, memory: 3953, heatmap_loss: 0.0006, acc_pose: 0.9469, loss: 0.0006\n",
      "2022-06-05 04:00:17,125 - mmpose - INFO - Saving checkpoint at 26 epochs\n"
     ]
    },
    {
     "name": "stdout",
     "output_type": "stream",
     "text": [
      "[                                                  ] 0/416, elapsed: 0s, ETA:"
     ]
    },
    {
     "name": "stderr",
     "output_type": "stream",
     "text": [
      "[W pthreadpool-cpp.cc:90] Warning: Leaking Caffe2 thread-pool after fork. (function pthreadpool)\n",
      "[W pthreadpool-cpp.cc:90] Warning: Leaking Caffe2 thread-pool after fork. (function pthreadpool)\n"
     ]
    },
    {
     "name": "stdout",
     "output_type": "stream",
     "text": [
      "[>>>>>>>>>>>>>>>>>>>>>>>>>>>>>] 416/416, 198.1 task/s, elapsed: 2s, ETA:     0s"
     ]
    },
    {
     "name": "stderr",
     "output_type": "stream",
     "text": [
      "2022-06-05 04:00:20,284 - mmpose - INFO - Epoch(val) [26][13]\tPCK: 0.9981, AUC: 0.8758, EPE: 3.0701\n",
      "[W pthreadpool-cpp.cc:90] Warning: Leaking Caffe2 thread-pool after fork. (function pthreadpool)\n",
      "[W pthreadpool-cpp.cc:90] Warning: Leaking Caffe2 thread-pool after fork. (function pthreadpool)\n",
      "2022-06-05 04:00:26,678 - mmpose - INFO - Epoch [27][20/54]\tlr: 5.000e-04, eta: 0:12:32, time: 0.320, data_time: 0.126, memory: 3953, heatmap_loss: 0.0006, acc_pose: 0.9442, loss: 0.0006\n",
      "2022-06-05 04:00:30,422 - mmpose - INFO - Epoch [27][40/54]\tlr: 5.000e-04, eta: 0:12:28, time: 0.187, data_time: 0.000, memory: 3953, heatmap_loss: 0.0006, acc_pose: 0.9418, loss: 0.0006\n",
      "2022-06-05 04:00:33,048 - mmpose - INFO - Saving checkpoint at 27 epochs\n"
     ]
    },
    {
     "name": "stdout",
     "output_type": "stream",
     "text": [
      "[                                                  ] 0/416, elapsed: 0s, ETA:"
     ]
    },
    {
     "name": "stderr",
     "output_type": "stream",
     "text": [
      "[W pthreadpool-cpp.cc:90] Warning: Leaking Caffe2 thread-pool after fork. (function pthreadpool)\n",
      "[W pthreadpool-cpp.cc:90] Warning: Leaking Caffe2 thread-pool after fork. (function pthreadpool)\n"
     ]
    },
    {
     "name": "stdout",
     "output_type": "stream",
     "text": [
      "[>>>>>>>>>>>>>>>>>>>>>>>>>>>>>] 416/416, 188.6 task/s, elapsed: 2s, ETA:     0s"
     ]
    },
    {
     "name": "stderr",
     "output_type": "stream",
     "text": [
      "2022-06-05 04:00:36,036 - mmpose - INFO - Epoch(val) [27][13]\tPCK: 0.9981, AUC: 0.8761, EPE: 3.0653\n",
      "[W pthreadpool-cpp.cc:90] Warning: Leaking Caffe2 thread-pool after fork. (function pthreadpool)\n",
      "[W pthreadpool-cpp.cc:90] Warning: Leaking Caffe2 thread-pool after fork. (function pthreadpool)\n",
      "2022-06-05 04:00:42,377 - mmpose - INFO - Epoch [28][20/54]\tlr: 5.000e-04, eta: 0:12:22, time: 0.317, data_time: 0.125, memory: 3953, heatmap_loss: 0.0006, acc_pose: 0.9455, loss: 0.0006\n",
      "2022-06-05 04:00:46,115 - mmpose - INFO - Epoch [28][40/54]\tlr: 5.000e-04, eta: 0:12:18, time: 0.187, data_time: 0.000, memory: 3953, heatmap_loss: 0.0006, acc_pose: 0.9423, loss: 0.0006\n",
      "2022-06-05 04:00:48,732 - mmpose - INFO - Saving checkpoint at 28 epochs\n"
     ]
    },
    {
     "name": "stdout",
     "output_type": "stream",
     "text": [
      "[                                                  ] 0/416, elapsed: 0s, ETA:"
     ]
    },
    {
     "name": "stderr",
     "output_type": "stream",
     "text": [
      "[W pthreadpool-cpp.cc:90] Warning: Leaking Caffe2 thread-pool after fork. (function pthreadpool)\n",
      "[W pthreadpool-cpp.cc:90] Warning: Leaking Caffe2 thread-pool after fork. (function pthreadpool)\n"
     ]
    },
    {
     "name": "stdout",
     "output_type": "stream",
     "text": [
      "[>>>>>>>>>>>>>>>>>>>>>>>>>>>>>] 416/416, 187.9 task/s, elapsed: 2s, ETA:     0s"
     ]
    },
    {
     "name": "stderr",
     "output_type": "stream",
     "text": [
      "2022-06-05 04:00:51,749 - mmpose - INFO - The previous best checkpoint /opt/ml/mmpose/work_dirs/mobilev3_freihand2d_224x224_cv7a/best_AUC_epoch_24.pth was removed\n",
      "2022-06-05 04:00:51,912 - mmpose - INFO - Now best checkpoint is saved as best_AUC_epoch_28.pth.\n",
      "2022-06-05 04:00:51,913 - mmpose - INFO - Best AUC is 0.8770 at 28 epoch.\n",
      "2022-06-05 04:00:51,913 - mmpose - INFO - Epoch(val) [28][13]\tPCK: 0.9979, AUC: 0.8770, EPE: 3.0682\n",
      "[W pthreadpool-cpp.cc:90] Warning: Leaking Caffe2 thread-pool after fork. (function pthreadpool)\n",
      "[W pthreadpool-cpp.cc:90] Warning: Leaking Caffe2 thread-pool after fork. (function pthreadpool)\n",
      "2022-06-05 04:00:58,289 - mmpose - INFO - Epoch [29][20/54]\tlr: 5.000e-04, eta: 0:12:11, time: 0.319, data_time: 0.126, memory: 3953, heatmap_loss: 0.0006, acc_pose: 0.9460, loss: 0.0006\n",
      "2022-06-05 04:01:02,058 - mmpose - INFO - Epoch [29][40/54]\tlr: 5.000e-04, eta: 0:12:07, time: 0.188, data_time: 0.001, memory: 3953, heatmap_loss: 0.0006, acc_pose: 0.9502, loss: 0.0006\n",
      "2022-06-05 04:01:04,674 - mmpose - INFO - Saving checkpoint at 29 epochs\n"
     ]
    },
    {
     "name": "stdout",
     "output_type": "stream",
     "text": [
      "[                                                  ] 0/416, elapsed: 0s, ETA:"
     ]
    },
    {
     "name": "stderr",
     "output_type": "stream",
     "text": [
      "[W pthreadpool-cpp.cc:90] Warning: Leaking Caffe2 thread-pool after fork. (function pthreadpool)\n",
      "[W pthreadpool-cpp.cc:90] Warning: Leaking Caffe2 thread-pool after fork. (function pthreadpool)\n"
     ]
    },
    {
     "name": "stdout",
     "output_type": "stream",
     "text": [
      "[>>>>>>>>>>>>>>>>>>>>>>>>>>>>>] 416/416, 185.3 task/s, elapsed: 2s, ETA:     0s"
     ]
    },
    {
     "name": "stderr",
     "output_type": "stream",
     "text": [
      "2022-06-05 04:01:07,736 - mmpose - INFO - Epoch(val) [29][13]\tPCK: 0.9982, AUC: 0.8764, EPE: 3.0614\n",
      "[W pthreadpool-cpp.cc:90] Warning: Leaking Caffe2 thread-pool after fork. (function pthreadpool)\n",
      "[W pthreadpool-cpp.cc:90] Warning: Leaking Caffe2 thread-pool after fork. (function pthreadpool)\n",
      "2022-06-05 04:01:14,092 - mmpose - INFO - Epoch [30][20/54]\tlr: 5.000e-04, eta: 0:12:01, time: 0.318, data_time: 0.126, memory: 3953, heatmap_loss: 0.0006, acc_pose: 0.9480, loss: 0.0006\n",
      "2022-06-05 04:01:17,849 - mmpose - INFO - Epoch [30][40/54]\tlr: 5.000e-04, eta: 0:11:57, time: 0.188, data_time: 0.001, memory: 3953, heatmap_loss: 0.0006, acc_pose: 0.9461, loss: 0.0006\n",
      "2022-06-05 04:01:20,484 - mmpose - INFO - Saving checkpoint at 30 epochs\n"
     ]
    },
    {
     "name": "stdout",
     "output_type": "stream",
     "text": [
      "[                                                  ] 0/416, elapsed: 0s, ETA:"
     ]
    },
    {
     "name": "stderr",
     "output_type": "stream",
     "text": [
      "[W pthreadpool-cpp.cc:90] Warning: Leaking Caffe2 thread-pool after fork. (function pthreadpool)\n",
      "[W pthreadpool-cpp.cc:90] Warning: Leaking Caffe2 thread-pool after fork. (function pthreadpool)\n"
     ]
    },
    {
     "name": "stdout",
     "output_type": "stream",
     "text": [
      "[>>>>>>>>>>>>>>>>>>>>>>>>>>>>>] 416/416, 185.2 task/s, elapsed: 2s, ETA:     0s"
     ]
    },
    {
     "name": "stderr",
     "output_type": "stream",
     "text": [
      "2022-06-05 04:01:23,534 - mmpose - INFO - The previous best checkpoint /opt/ml/mmpose/work_dirs/mobilev3_freihand2d_224x224_cv7a/best_AUC_epoch_28.pth was removed\n",
      "2022-06-05 04:01:23,692 - mmpose - INFO - Now best checkpoint is saved as best_AUC_epoch_30.pth.\n",
      "2022-06-05 04:01:23,693 - mmpose - INFO - Best AUC is 0.8771 at 30 epoch.\n",
      "2022-06-05 04:01:23,693 - mmpose - INFO - Epoch(val) [30][13]\tPCK: 0.9982, AUC: 0.8771, EPE: 3.0303\n",
      "[W pthreadpool-cpp.cc:90] Warning: Leaking Caffe2 thread-pool after fork. (function pthreadpool)\n",
      "[W pthreadpool-cpp.cc:90] Warning: Leaking Caffe2 thread-pool after fork. (function pthreadpool)\n",
      "2022-06-05 04:01:30,048 - mmpose - INFO - Epoch [31][20/54]\tlr: 5.000e-04, eta: 0:11:50, time: 0.317, data_time: 0.127, memory: 3953, heatmap_loss: 0.0006, acc_pose: 0.9453, loss: 0.0006\n",
      "2022-06-05 04:01:33,794 - mmpose - INFO - Epoch [31][40/54]\tlr: 5.000e-04, eta: 0:11:46, time: 0.187, data_time: 0.001, memory: 3953, heatmap_loss: 0.0006, acc_pose: 0.9431, loss: 0.0006\n",
      "2022-06-05 04:01:36,437 - mmpose - INFO - Saving checkpoint at 31 epochs\n"
     ]
    },
    {
     "name": "stdout",
     "output_type": "stream",
     "text": [
      "[                                                  ] 0/416, elapsed: 0s, ETA:"
     ]
    },
    {
     "name": "stderr",
     "output_type": "stream",
     "text": [
      "[W pthreadpool-cpp.cc:90] Warning: Leaking Caffe2 thread-pool after fork. (function pthreadpool)\n",
      "[W pthreadpool-cpp.cc:90] Warning: Leaking Caffe2 thread-pool after fork. (function pthreadpool)\n"
     ]
    },
    {
     "name": "stdout",
     "output_type": "stream",
     "text": [
      "[>>>>>>>>>>>>>>>>>>>>>>>>>>>>>] 416/416, 191.3 task/s, elapsed: 2s, ETA:     0s"
     ]
    },
    {
     "name": "stderr",
     "output_type": "stream",
     "text": [
      "2022-06-05 04:01:39,398 - mmpose - INFO - The previous best checkpoint /opt/ml/mmpose/work_dirs/mobilev3_freihand2d_224x224_cv7a/best_AUC_epoch_30.pth was removed\n",
      "2022-06-05 04:01:39,560 - mmpose - INFO - Now best checkpoint is saved as best_AUC_epoch_31.pth.\n",
      "2022-06-05 04:01:39,561 - mmpose - INFO - Best AUC is 0.8784 at 31 epoch.\n",
      "2022-06-05 04:01:39,562 - mmpose - INFO - Epoch(val) [31][13]\tPCK: 0.9978, AUC: 0.8784, EPE: 3.0260\n",
      "[W pthreadpool-cpp.cc:90] Warning: Leaking Caffe2 thread-pool after fork. (function pthreadpool)\n",
      "[W pthreadpool-cpp.cc:90] Warning: Leaking Caffe2 thread-pool after fork. (function pthreadpool)\n",
      "2022-06-05 04:01:45,923 - mmpose - INFO - Epoch [32][20/54]\tlr: 5.000e-04, eta: 0:11:40, time: 0.318, data_time: 0.126, memory: 3953, heatmap_loss: 0.0006, acc_pose: 0.9517, loss: 0.0006\n",
      "2022-06-05 04:01:49,658 - mmpose - INFO - Epoch [32][40/54]\tlr: 5.000e-04, eta: 0:11:36, time: 0.187, data_time: 0.000, memory: 3953, heatmap_loss: 0.0006, acc_pose: 0.9464, loss: 0.0006\n",
      "2022-06-05 04:01:52,306 - mmpose - INFO - Saving checkpoint at 32 epochs\n"
     ]
    },
    {
     "name": "stdout",
     "output_type": "stream",
     "text": [
      "[                                                  ] 0/416, elapsed: 0s, ETA:"
     ]
    },
    {
     "name": "stderr",
     "output_type": "stream",
     "text": [
      "[W pthreadpool-cpp.cc:90] Warning: Leaking Caffe2 thread-pool after fork. (function pthreadpool)\n",
      "[W pthreadpool-cpp.cc:90] Warning: Leaking Caffe2 thread-pool after fork. (function pthreadpool)\n"
     ]
    },
    {
     "name": "stdout",
     "output_type": "stream",
     "text": [
      "[>>>>>>>>>>>>>>>>>>>>>>>>>>>>>] 416/416, 197.2 task/s, elapsed: 2s, ETA:     0s"
     ]
    },
    {
     "name": "stderr",
     "output_type": "stream",
     "text": [
      "2022-06-05 04:01:55,428 - mmpose - INFO - Epoch(val) [32][13]\tPCK: 0.9981, AUC: 0.8759, EPE: 3.0698\n",
      "[W pthreadpool-cpp.cc:90] Warning: Leaking Caffe2 thread-pool after fork. (function pthreadpool)\n",
      "[W pthreadpool-cpp.cc:90] Warning: Leaking Caffe2 thread-pool after fork. (function pthreadpool)\n",
      "2022-06-05 04:02:01,793 - mmpose - INFO - Epoch [33][20/54]\tlr: 5.000e-04, eta: 0:11:29, time: 0.318, data_time: 0.126, memory: 3953, heatmap_loss: 0.0005, acc_pose: 0.9481, loss: 0.0005\n",
      "2022-06-05 04:02:05,568 - mmpose - INFO - Epoch [33][40/54]\tlr: 5.000e-04, eta: 0:11:26, time: 0.189, data_time: 0.001, memory: 3953, heatmap_loss: 0.0006, acc_pose: 0.9447, loss: 0.0006\n",
      "2022-06-05 04:02:08,198 - mmpose - INFO - Saving checkpoint at 33 epochs\n"
     ]
    },
    {
     "name": "stdout",
     "output_type": "stream",
     "text": [
      "[                                                  ] 0/416, elapsed: 0s, ETA:"
     ]
    },
    {
     "name": "stderr",
     "output_type": "stream",
     "text": [
      "[W pthreadpool-cpp.cc:90] Warning: Leaking Caffe2 thread-pool after fork. (function pthreadpool)\n",
      "[W pthreadpool-cpp.cc:90] Warning: Leaking Caffe2 thread-pool after fork. (function pthreadpool)\n"
     ]
    },
    {
     "name": "stdout",
     "output_type": "stream",
     "text": [
      "[>>>>>>>>>>>>>>>>>>>>>>>>>>>>>] 416/416, 195.0 task/s, elapsed: 2s, ETA:     0s"
     ]
    },
    {
     "name": "stderr",
     "output_type": "stream",
     "text": [
      "2022-06-05 04:02:11,130 - mmpose - INFO - Epoch(val) [33][13]\tPCK: 0.9978, AUC: 0.8759, EPE: 3.1086\n",
      "[W pthreadpool-cpp.cc:90] Warning: Leaking Caffe2 thread-pool after fork. (function pthreadpool)\n",
      "[W pthreadpool-cpp.cc:90] Warning: Leaking Caffe2 thread-pool after fork. (function pthreadpool)\n",
      "2022-06-05 04:02:17,519 - mmpose - INFO - Epoch [34][20/54]\tlr: 5.000e-04, eta: 0:11:19, time: 0.319, data_time: 0.126, memory: 3953, heatmap_loss: 0.0005, acc_pose: 0.9495, loss: 0.0005\n",
      "2022-06-05 04:02:21,310 - mmpose - INFO - Epoch [34][40/54]\tlr: 5.000e-04, eta: 0:11:15, time: 0.190, data_time: 0.000, memory: 3953, heatmap_loss: 0.0006, acc_pose: 0.9482, loss: 0.0006\n",
      "2022-06-05 04:02:23,932 - mmpose - INFO - Saving checkpoint at 34 epochs\n"
     ]
    },
    {
     "name": "stdout",
     "output_type": "stream",
     "text": [
      "[                                                  ] 0/416, elapsed: 0s, ETA:"
     ]
    },
    {
     "name": "stderr",
     "output_type": "stream",
     "text": [
      "[W pthreadpool-cpp.cc:90] Warning: Leaking Caffe2 thread-pool after fork. (function pthreadpool)\n",
      "[W pthreadpool-cpp.cc:90] Warning: Leaking Caffe2 thread-pool after fork. (function pthreadpool)\n"
     ]
    },
    {
     "name": "stdout",
     "output_type": "stream",
     "text": [
      "[>>>>>>>>>>>>>>>>>>>>>>>>>>>>>] 416/416, 196.3 task/s, elapsed: 2s, ETA:     0s"
     ]
    },
    {
     "name": "stderr",
     "output_type": "stream",
     "text": [
      "2022-06-05 04:02:26,880 - mmpose - INFO - Epoch(val) [34][13]\tPCK: 0.9978, AUC: 0.8774, EPE: 3.0447\n",
      "[W pthreadpool-cpp.cc:90] Warning: Leaking Caffe2 thread-pool after fork. (function pthreadpool)\n",
      "[W pthreadpool-cpp.cc:90] Warning: Leaking Caffe2 thread-pool after fork. (function pthreadpool)\n",
      "2022-06-05 04:02:33,235 - mmpose - INFO - Epoch [35][20/54]\tlr: 5.000e-04, eta: 0:11:09, time: 0.317, data_time: 0.126, memory: 3953, heatmap_loss: 0.0005, acc_pose: 0.9524, loss: 0.0005\n",
      "2022-06-05 04:02:37,003 - mmpose - INFO - Epoch [35][40/54]\tlr: 5.000e-04, eta: 0:11:05, time: 0.188, data_time: 0.000, memory: 3953, heatmap_loss: 0.0006, acc_pose: 0.9453, loss: 0.0006\n",
      "2022-06-05 04:02:39,634 - mmpose - INFO - Saving checkpoint at 35 epochs\n"
     ]
    },
    {
     "name": "stdout",
     "output_type": "stream",
     "text": [
      "[                                                  ] 0/416, elapsed: 0s, ETA:"
     ]
    },
    {
     "name": "stderr",
     "output_type": "stream",
     "text": [
      "[W pthreadpool-cpp.cc:90] Warning: Leaking Caffe2 thread-pool after fork. (function pthreadpool)\n",
      "[W pthreadpool-cpp.cc:90] Warning: Leaking Caffe2 thread-pool after fork. (function pthreadpool)\n"
     ]
    },
    {
     "name": "stdout",
     "output_type": "stream",
     "text": [
      "[>>>>>>>>>>>>>>>>>>>>>>>>>>>>>] 416/416, 196.3 task/s, elapsed: 2s, ETA:     0s"
     ]
    },
    {
     "name": "stderr",
     "output_type": "stream",
     "text": [
      "2022-06-05 04:02:42,549 - mmpose - INFO - The previous best checkpoint /opt/ml/mmpose/work_dirs/mobilev3_freihand2d_224x224_cv7a/best_AUC_epoch_31.pth was removed\n",
      "2022-06-05 04:02:42,712 - mmpose - INFO - Now best checkpoint is saved as best_AUC_epoch_35.pth.\n",
      "2022-06-05 04:02:42,714 - mmpose - INFO - Best AUC is 0.8785 at 35 epoch.\n",
      "2022-06-05 04:02:42,714 - mmpose - INFO - Epoch(val) [35][13]\tPCK: 0.9982, AUC: 0.8785, EPE: 2.9832\n",
      "[W pthreadpool-cpp.cc:90] Warning: Leaking Caffe2 thread-pool after fork. (function pthreadpool)\n",
      "[W pthreadpool-cpp.cc:90] Warning: Leaking Caffe2 thread-pool after fork. (function pthreadpool)\n",
      "2022-06-05 04:02:49,049 - mmpose - INFO - Epoch [36][20/54]\tlr: 5.000e-04, eta: 0:10:58, time: 0.317, data_time: 0.126, memory: 3953, heatmap_loss: 0.0005, acc_pose: 0.9513, loss: 0.0005\n",
      "2022-06-05 04:02:52,810 - mmpose - INFO - Epoch [36][40/54]\tlr: 5.000e-04, eta: 0:10:55, time: 0.188, data_time: 0.000, memory: 3953, heatmap_loss: 0.0006, acc_pose: 0.9505, loss: 0.0006\n",
      "2022-06-05 04:02:55,434 - mmpose - INFO - Saving checkpoint at 36 epochs\n"
     ]
    },
    {
     "name": "stdout",
     "output_type": "stream",
     "text": [
      "[                                                  ] 0/416, elapsed: 0s, ETA:"
     ]
    },
    {
     "name": "stderr",
     "output_type": "stream",
     "text": [
      "[W pthreadpool-cpp.cc:90] Warning: Leaking Caffe2 thread-pool after fork. (function pthreadpool)\n",
      "[W pthreadpool-cpp.cc:90] Warning: Leaking Caffe2 thread-pool after fork. (function pthreadpool)\n"
     ]
    },
    {
     "name": "stdout",
     "output_type": "stream",
     "text": [
      "[>>>>>>>>>>>>>>>>>>>>>>>>>>>>>] 416/416, 188.1 task/s, elapsed: 2s, ETA:     0s"
     ]
    },
    {
     "name": "stderr",
     "output_type": "stream",
     "text": [
      "2022-06-05 04:02:58,456 - mmpose - INFO - Epoch(val) [36][13]\tPCK: 0.9979, AUC: 0.8780, EPE: 3.0597\n",
      "[W pthreadpool-cpp.cc:90] Warning: Leaking Caffe2 thread-pool after fork. (function pthreadpool)\n",
      "[W pthreadpool-cpp.cc:90] Warning: Leaking Caffe2 thread-pool after fork. (function pthreadpool)\n",
      "2022-06-05 04:03:04,831 - mmpose - INFO - Epoch [37][20/54]\tlr: 5.000e-04, eta: 0:10:48, time: 0.318, data_time: 0.126, memory: 3953, heatmap_loss: 0.0005, acc_pose: 0.9512, loss: 0.0005\n",
      "2022-06-05 04:03:08,609 - mmpose - INFO - Epoch [37][40/54]\tlr: 5.000e-04, eta: 0:10:44, time: 0.189, data_time: 0.001, memory: 3953, heatmap_loss: 0.0006, acc_pose: 0.9474, loss: 0.0006\n",
      "2022-06-05 04:03:11,230 - mmpose - INFO - Saving checkpoint at 37 epochs\n"
     ]
    },
    {
     "name": "stdout",
     "output_type": "stream",
     "text": [
      "[                                                  ] 0/416, elapsed: 0s, ETA:"
     ]
    },
    {
     "name": "stderr",
     "output_type": "stream",
     "text": [
      "[W pthreadpool-cpp.cc:90] Warning: Leaking Caffe2 thread-pool after fork. (function pthreadpool)\n",
      "[W pthreadpool-cpp.cc:90] Warning: Leaking Caffe2 thread-pool after fork. (function pthreadpool)\n"
     ]
    },
    {
     "name": "stdout",
     "output_type": "stream",
     "text": [
      "[>>>>>>>>>>>>>>>>>>>>>>>>>>>>>] 416/416, 185.3 task/s, elapsed: 2s, ETA:     0s"
     ]
    },
    {
     "name": "stderr",
     "output_type": "stream",
     "text": [
      "2022-06-05 04:03:14,263 - mmpose - INFO - The previous best checkpoint /opt/ml/mmpose/work_dirs/mobilev3_freihand2d_224x224_cv7a/best_AUC_epoch_35.pth was removed\n",
      "2022-06-05 04:03:14,424 - mmpose - INFO - Now best checkpoint is saved as best_AUC_epoch_37.pth.\n",
      "2022-06-05 04:03:14,424 - mmpose - INFO - Best AUC is 0.8794 at 37 epoch.\n",
      "2022-06-05 04:03:14,425 - mmpose - INFO - Epoch(val) [37][13]\tPCK: 0.9977, AUC: 0.8794, EPE: 3.0330\n",
      "[W pthreadpool-cpp.cc:90] Warning: Leaking Caffe2 thread-pool after fork. (function pthreadpool)\n",
      "[W pthreadpool-cpp.cc:90] Warning: Leaking Caffe2 thread-pool after fork. (function pthreadpool)\n",
      "2022-06-05 04:03:20,794 - mmpose - INFO - Epoch [38][20/54]\tlr: 5.000e-04, eta: 0:10:38, time: 0.318, data_time: 0.125, memory: 3953, heatmap_loss: 0.0005, acc_pose: 0.9526, loss: 0.0005\n",
      "2022-06-05 04:03:24,548 - mmpose - INFO - Epoch [38][40/54]\tlr: 5.000e-04, eta: 0:10:34, time: 0.188, data_time: 0.001, memory: 3953, heatmap_loss: 0.0005, acc_pose: 0.9516, loss: 0.0005\n",
      "2022-06-05 04:03:27,171 - mmpose - INFO - Saving checkpoint at 38 epochs\n"
     ]
    },
    {
     "name": "stdout",
     "output_type": "stream",
     "text": [
      "[                                                  ] 0/416, elapsed: 0s, ETA:"
     ]
    },
    {
     "name": "stderr",
     "output_type": "stream",
     "text": [
      "[W pthreadpool-cpp.cc:90] Warning: Leaking Caffe2 thread-pool after fork. (function pthreadpool)\n",
      "[W pthreadpool-cpp.cc:90] Warning: Leaking Caffe2 thread-pool after fork. (function pthreadpool)\n"
     ]
    },
    {
     "name": "stdout",
     "output_type": "stream",
     "text": [
      "[>>>>>>>>>>>>>>>>>>>>>>>>>>>>>] 416/416, 193.5 task/s, elapsed: 2s, ETA:     0s"
     ]
    },
    {
     "name": "stderr",
     "output_type": "stream",
     "text": [
      "2022-06-05 04:03:30,144 - mmpose - INFO - Epoch(val) [38][13]\tPCK: 0.9982, AUC: 0.8786, EPE: 2.9832\n",
      "[W pthreadpool-cpp.cc:90] Warning: Leaking Caffe2 thread-pool after fork. (function pthreadpool)\n",
      "[W pthreadpool-cpp.cc:90] Warning: Leaking Caffe2 thread-pool after fork. (function pthreadpool)\n",
      "2022-06-05 04:03:36,510 - mmpose - INFO - Epoch [39][20/54]\tlr: 5.000e-04, eta: 0:10:27, time: 0.318, data_time: 0.127, memory: 3953, heatmap_loss: 0.0005, acc_pose: 0.9519, loss: 0.0005\n",
      "2022-06-05 04:03:40,255 - mmpose - INFO - Epoch [39][40/54]\tlr: 5.000e-04, eta: 0:10:24, time: 0.187, data_time: 0.001, memory: 3953, heatmap_loss: 0.0006, acc_pose: 0.9490, loss: 0.0006\n",
      "2022-06-05 04:03:42,917 - mmpose - INFO - Saving checkpoint at 39 epochs\n"
     ]
    },
    {
     "name": "stdout",
     "output_type": "stream",
     "text": [
      "[                                                  ] 0/416, elapsed: 0s, ETA:"
     ]
    },
    {
     "name": "stderr",
     "output_type": "stream",
     "text": [
      "[W pthreadpool-cpp.cc:90] Warning: Leaking Caffe2 thread-pool after fork. (function pthreadpool)\n",
      "[W pthreadpool-cpp.cc:90] Warning: Leaking Caffe2 thread-pool after fork. (function pthreadpool)\n"
     ]
    },
    {
     "name": "stdout",
     "output_type": "stream",
     "text": [
      "[>>>>>>>>>>>>>>>>>>>>>>>>>>>>>] 416/416, 183.9 task/s, elapsed: 2s, ETA:     0s"
     ]
    },
    {
     "name": "stderr",
     "output_type": "stream",
     "text": [
      "2022-06-05 04:03:46,173 - mmpose - INFO - Epoch(val) [39][13]\tPCK: 0.9978, AUC: 0.8786, EPE: 3.0452\n",
      "[W pthreadpool-cpp.cc:90] Warning: Leaking Caffe2 thread-pool after fork. (function pthreadpool)\n",
      "[W pthreadpool-cpp.cc:90] Warning: Leaking Caffe2 thread-pool after fork. (function pthreadpool)\n",
      "2022-06-05 04:03:52,563 - mmpose - INFO - Epoch [40][20/54]\tlr: 5.000e-04, eta: 0:10:17, time: 0.319, data_time: 0.129, memory: 3953, heatmap_loss: 0.0005, acc_pose: 0.9515, loss: 0.0005\n",
      "2022-06-05 04:03:56,308 - mmpose - INFO - Epoch [40][40/54]\tlr: 5.000e-04, eta: 0:10:13, time: 0.187, data_time: 0.000, memory: 3953, heatmap_loss: 0.0005, acc_pose: 0.9528, loss: 0.0005\n",
      "2022-06-05 04:03:58,951 - mmpose - INFO - Saving checkpoint at 40 epochs\n"
     ]
    },
    {
     "name": "stdout",
     "output_type": "stream",
     "text": [
      "[                                                  ] 0/416, elapsed: 0s, ETA:"
     ]
    },
    {
     "name": "stderr",
     "output_type": "stream",
     "text": [
      "[W pthreadpool-cpp.cc:90] Warning: Leaking Caffe2 thread-pool after fork. (function pthreadpool)\n",
      "[W pthreadpool-cpp.cc:90] Warning: Leaking Caffe2 thread-pool after fork. (function pthreadpool)\n"
     ]
    },
    {
     "name": "stdout",
     "output_type": "stream",
     "text": [
      "[>>>>>>>>>>>>>>>>>>>>>>>>>>>>>] 416/416, 192.1 task/s, elapsed: 2s, ETA:     0s"
     ]
    },
    {
     "name": "stderr",
     "output_type": "stream",
     "text": [
      "2022-06-05 04:04:01,902 - mmpose - INFO - The previous best checkpoint /opt/ml/mmpose/work_dirs/mobilev3_freihand2d_224x224_cv7a/best_AUC_epoch_37.pth was removed\n",
      "2022-06-05 04:04:02,065 - mmpose - INFO - Now best checkpoint is saved as best_AUC_epoch_40.pth.\n",
      "2022-06-05 04:04:02,066 - mmpose - INFO - Best AUC is 0.8800 at 40 epoch.\n",
      "2022-06-05 04:04:02,066 - mmpose - INFO - Epoch(val) [40][13]\tPCK: 0.9983, AUC: 0.8800, EPE: 2.9430\n",
      "[W pthreadpool-cpp.cc:90] Warning: Leaking Caffe2 thread-pool after fork. (function pthreadpool)\n",
      "[W pthreadpool-cpp.cc:90] Warning: Leaking Caffe2 thread-pool after fork. (function pthreadpool)\n",
      "2022-06-05 04:04:08,444 - mmpose - INFO - Epoch [41][20/54]\tlr: 5.000e-04, eta: 0:10:07, time: 0.319, data_time: 0.125, memory: 3953, heatmap_loss: 0.0005, acc_pose: 0.9517, loss: 0.0005\n",
      "2022-06-05 04:04:12,207 - mmpose - INFO - Epoch [41][40/54]\tlr: 5.000e-04, eta: 0:10:03, time: 0.188, data_time: 0.000, memory: 3953, heatmap_loss: 0.0005, acc_pose: 0.9547, loss: 0.0005\n",
      "2022-06-05 04:04:14,861 - mmpose - INFO - Saving checkpoint at 41 epochs\n"
     ]
    },
    {
     "name": "stdout",
     "output_type": "stream",
     "text": [
      "[                                                  ] 0/416, elapsed: 0s, ETA:"
     ]
    },
    {
     "name": "stderr",
     "output_type": "stream",
     "text": [
      "[W pthreadpool-cpp.cc:90] Warning: Leaking Caffe2 thread-pool after fork. (function pthreadpool)\n",
      "[W pthreadpool-cpp.cc:90] Warning: Leaking Caffe2 thread-pool after fork. (function pthreadpool)\n"
     ]
    },
    {
     "name": "stdout",
     "output_type": "stream",
     "text": [
      "[>>>>>>>>>>>>>>>>>>>>>>>>>>>>>] 416/416, 190.2 task/s, elapsed: 2s, ETA:     0s"
     ]
    },
    {
     "name": "stderr",
     "output_type": "stream",
     "text": [
      "2022-06-05 04:04:17,823 - mmpose - INFO - Epoch(val) [41][13]\tPCK: 0.9981, AUC: 0.8793, EPE: 2.9722\n",
      "[W pthreadpool-cpp.cc:90] Warning: Leaking Caffe2 thread-pool after fork. (function pthreadpool)\n",
      "[W pthreadpool-cpp.cc:90] Warning: Leaking Caffe2 thread-pool after fork. (function pthreadpool)\n",
      "2022-06-05 04:04:24,192 - mmpose - INFO - Epoch [42][20/54]\tlr: 5.000e-04, eta: 0:09:57, time: 0.318, data_time: 0.127, memory: 3953, heatmap_loss: 0.0005, acc_pose: 0.9547, loss: 0.0005\n",
      "2022-06-05 04:04:27,946 - mmpose - INFO - Epoch [42][40/54]\tlr: 5.000e-04, eta: 0:09:53, time: 0.188, data_time: 0.001, memory: 3953, heatmap_loss: 0.0005, acc_pose: 0.9522, loss: 0.0005\n",
      "2022-06-05 04:04:30,565 - mmpose - INFO - Saving checkpoint at 42 epochs\n"
     ]
    },
    {
     "name": "stdout",
     "output_type": "stream",
     "text": [
      "[                                                  ] 0/416, elapsed: 0s, ETA:"
     ]
    },
    {
     "name": "stderr",
     "output_type": "stream",
     "text": [
      "[W pthreadpool-cpp.cc:90] Warning: Leaking Caffe2 thread-pool after fork. (function pthreadpool)\n",
      "[W pthreadpool-cpp.cc:90] Warning: Leaking Caffe2 thread-pool after fork. (function pthreadpool)\n"
     ]
    },
    {
     "name": "stdout",
     "output_type": "stream",
     "text": [
      "[>>>>>>>>>>>>>>>>>>>>>>>>>>>>>] 416/416, 190.6 task/s, elapsed: 2s, ETA:     0s"
     ]
    },
    {
     "name": "stderr",
     "output_type": "stream",
     "text": [
      "2022-06-05 04:04:33,573 - mmpose - INFO - Epoch(val) [42][13]\tPCK: 0.9983, AUC: 0.8769, EPE: 3.0196\n",
      "[W pthreadpool-cpp.cc:90] Warning: Leaking Caffe2 thread-pool after fork. (function pthreadpool)\n",
      "[W pthreadpool-cpp.cc:90] Warning: Leaking Caffe2 thread-pool after fork. (function pthreadpool)\n",
      "2022-06-05 04:04:39,941 - mmpose - INFO - Epoch [43][20/54]\tlr: 5.000e-04, eta: 0:09:46, time: 0.318, data_time: 0.125, memory: 3953, heatmap_loss: 0.0005, acc_pose: 0.9506, loss: 0.0005\n",
      "2022-06-05 04:04:43,695 - mmpose - INFO - Epoch [43][40/54]\tlr: 5.000e-04, eta: 0:09:43, time: 0.188, data_time: 0.001, memory: 3953, heatmap_loss: 0.0005, acc_pose: 0.9529, loss: 0.0005\n",
      "2022-06-05 04:04:46,312 - mmpose - INFO - Saving checkpoint at 43 epochs\n"
     ]
    },
    {
     "name": "stdout",
     "output_type": "stream",
     "text": [
      "[                                                  ] 0/416, elapsed: 0s, ETA:"
     ]
    },
    {
     "name": "stderr",
     "output_type": "stream",
     "text": [
      "[W pthreadpool-cpp.cc:90] Warning: Leaking Caffe2 thread-pool after fork. (function pthreadpool)\n",
      "[W pthreadpool-cpp.cc:90] Warning: Leaking Caffe2 thread-pool after fork. (function pthreadpool)\n"
     ]
    },
    {
     "name": "stdout",
     "output_type": "stream",
     "text": [
      "[>>>>>>>>>>>>>>>>>>>>>>>>>>>>>] 416/416, 197.5 task/s, elapsed: 2s, ETA:     0s"
     ]
    },
    {
     "name": "stderr",
     "output_type": "stream",
     "text": [
      "2022-06-05 04:04:49,246 - mmpose - INFO - Epoch(val) [43][13]\tPCK: 0.9981, AUC: 0.8796, EPE: 2.9686\n",
      "[W pthreadpool-cpp.cc:90] Warning: Leaking Caffe2 thread-pool after fork. (function pthreadpool)\n",
      "[W pthreadpool-cpp.cc:90] Warning: Leaking Caffe2 thread-pool after fork. (function pthreadpool)\n",
      "2022-06-05 04:04:55,650 - mmpose - INFO - Epoch [44][20/54]\tlr: 5.000e-04, eta: 0:09:36, time: 0.320, data_time: 0.127, memory: 3953, heatmap_loss: 0.0005, acc_pose: 0.9558, loss: 0.0005\n",
      "2022-06-05 04:04:59,409 - mmpose - INFO - Epoch [44][40/54]\tlr: 5.000e-04, eta: 0:09:32, time: 0.188, data_time: 0.000, memory: 3953, heatmap_loss: 0.0005, acc_pose: 0.9557, loss: 0.0005\n",
      "2022-06-05 04:05:02,042 - mmpose - INFO - Saving checkpoint at 44 epochs\n"
     ]
    },
    {
     "name": "stdout",
     "output_type": "stream",
     "text": [
      "[                                                  ] 0/416, elapsed: 0s, ETA:"
     ]
    },
    {
     "name": "stderr",
     "output_type": "stream",
     "text": [
      "[W pthreadpool-cpp.cc:90] Warning: Leaking Caffe2 thread-pool after fork. (function pthreadpool)\n",
      "[W pthreadpool-cpp.cc:90] Warning: Leaking Caffe2 thread-pool after fork. (function pthreadpool)\n"
     ]
    },
    {
     "name": "stdout",
     "output_type": "stream",
     "text": [
      "[>>>>>>>>>>>>>>>>>>>>>>>>>>>>>] 416/416, 189.9 task/s, elapsed: 2s, ETA:     0s"
     ]
    },
    {
     "name": "stderr",
     "output_type": "stream",
     "text": [
      "2022-06-05 04:05:05,309 - mmpose - INFO - Epoch(val) [44][13]\tPCK: 0.9982, AUC: 0.8781, EPE: 2.9872\n",
      "[W pthreadpool-cpp.cc:90] Warning: Leaking Caffe2 thread-pool after fork. (function pthreadpool)\n",
      "[W pthreadpool-cpp.cc:90] Warning: Leaking Caffe2 thread-pool after fork. (function pthreadpool)\n",
      "2022-06-05 04:05:11,690 - mmpose - INFO - Epoch [45][20/54]\tlr: 5.000e-04, eta: 0:09:26, time: 0.319, data_time: 0.125, memory: 3953, heatmap_loss: 0.0005, acc_pose: 0.9559, loss: 0.0005\n",
      "2022-06-05 04:05:15,454 - mmpose - INFO - Epoch [45][40/54]\tlr: 5.000e-04, eta: 0:09:22, time: 0.188, data_time: 0.001, memory: 3953, heatmap_loss: 0.0005, acc_pose: 0.9551, loss: 0.0005\n",
      "2022-06-05 04:05:18,090 - mmpose - INFO - Saving checkpoint at 45 epochs\n"
     ]
    },
    {
     "name": "stdout",
     "output_type": "stream",
     "text": [
      "[                                                  ] 0/416, elapsed: 0s, ETA:"
     ]
    },
    {
     "name": "stderr",
     "output_type": "stream",
     "text": [
      "[W pthreadpool-cpp.cc:90] Warning: Leaking Caffe2 thread-pool after fork. (function pthreadpool)\n",
      "[W pthreadpool-cpp.cc:90] Warning: Leaking Caffe2 thread-pool after fork. (function pthreadpool)\n"
     ]
    },
    {
     "name": "stdout",
     "output_type": "stream",
     "text": [
      "[>>>>>>>>>>>>>>>>>>>>>>>>>>>>>] 416/416, 183.8 task/s, elapsed: 2s, ETA:     0s"
     ]
    },
    {
     "name": "stderr",
     "output_type": "stream",
     "text": [
      "2022-06-05 04:05:21,166 - mmpose - INFO - Epoch(val) [45][13]\tPCK: 0.9977, AUC: 0.8795, EPE: 3.0229\n",
      "[W pthreadpool-cpp.cc:90] Warning: Leaking Caffe2 thread-pool after fork. (function pthreadpool)\n",
      "[W pthreadpool-cpp.cc:90] Warning: Leaking Caffe2 thread-pool after fork. (function pthreadpool)\n",
      "2022-06-05 04:05:27,551 - mmpose - INFO - Epoch [46][20/54]\tlr: 5.000e-04, eta: 0:09:16, time: 0.319, data_time: 0.125, memory: 3953, heatmap_loss: 0.0005, acc_pose: 0.9529, loss: 0.0005\n",
      "2022-06-05 04:05:31,294 - mmpose - INFO - Epoch [46][40/54]\tlr: 5.000e-04, eta: 0:09:12, time: 0.187, data_time: 0.000, memory: 3953, heatmap_loss: 0.0005, acc_pose: 0.9578, loss: 0.0005\n",
      "2022-06-05 04:05:33,945 - mmpose - INFO - Saving checkpoint at 46 epochs\n"
     ]
    },
    {
     "name": "stdout",
     "output_type": "stream",
     "text": [
      "[                                                  ] 0/416, elapsed: 0s, ETA:"
     ]
    },
    {
     "name": "stderr",
     "output_type": "stream",
     "text": [
      "[W pthreadpool-cpp.cc:90] Warning: Leaking Caffe2 thread-pool after fork. (function pthreadpool)\n",
      "[W pthreadpool-cpp.cc:90] Warning: Leaking Caffe2 thread-pool after fork. (function pthreadpool)\n"
     ]
    },
    {
     "name": "stdout",
     "output_type": "stream",
     "text": [
      "[>>>>>>>>>>>>>>>>>>>>>>>>>>>>>] 416/416, 189.6 task/s, elapsed: 2s, ETA:     0s"
     ]
    },
    {
     "name": "stderr",
     "output_type": "stream",
     "text": [
      "2022-06-05 04:05:36,956 - mmpose - INFO - Epoch(val) [46][13]\tPCK: 0.9983, AUC: 0.8795, EPE: 2.9369\n",
      "[W pthreadpool-cpp.cc:90] Warning: Leaking Caffe2 thread-pool after fork. (function pthreadpool)\n",
      "[W pthreadpool-cpp.cc:90] Warning: Leaking Caffe2 thread-pool after fork. (function pthreadpool)\n",
      "2022-06-05 04:05:43,318 - mmpose - INFO - Epoch [47][20/54]\tlr: 5.000e-04, eta: 0:09:05, time: 0.318, data_time: 0.126, memory: 3953, heatmap_loss: 0.0005, acc_pose: 0.9564, loss: 0.0005\n",
      "2022-06-05 04:05:47,047 - mmpose - INFO - Epoch [47][40/54]\tlr: 5.000e-04, eta: 0:09:02, time: 0.186, data_time: 0.000, memory: 3953, heatmap_loss: 0.0005, acc_pose: 0.9542, loss: 0.0005\n",
      "2022-06-05 04:05:49,664 - mmpose - INFO - Saving checkpoint at 47 epochs\n"
     ]
    },
    {
     "name": "stdout",
     "output_type": "stream",
     "text": [
      "[                                                  ] 0/416, elapsed: 0s, ETA:"
     ]
    },
    {
     "name": "stderr",
     "output_type": "stream",
     "text": [
      "[W pthreadpool-cpp.cc:90] Warning: Leaking Caffe2 thread-pool after fork. (function pthreadpool)\n",
      "[W pthreadpool-cpp.cc:90] Warning: Leaking Caffe2 thread-pool after fork. (function pthreadpool)\n"
     ]
    },
    {
     "name": "stdout",
     "output_type": "stream",
     "text": [
      "[>>>>>>>>>>>>>>>>>>>>>>>>>>>>>] 416/416, 187.9 task/s, elapsed: 2s, ETA:     0s"
     ]
    },
    {
     "name": "stderr",
     "output_type": "stream",
     "text": [
      "2022-06-05 04:05:52,709 - mmpose - INFO - Epoch(val) [47][13]\tPCK: 0.9981, AUC: 0.8787, EPE: 2.9966\n",
      "[W pthreadpool-cpp.cc:90] Warning: Leaking Caffe2 thread-pool after fork. (function pthreadpool)\n",
      "[W pthreadpool-cpp.cc:90] Warning: Leaking Caffe2 thread-pool after fork. (function pthreadpool)\n",
      "2022-06-05 04:05:59,058 - mmpose - INFO - Epoch [48][20/54]\tlr: 5.000e-04, eta: 0:08:55, time: 0.317, data_time: 0.126, memory: 3953, heatmap_loss: 0.0005, acc_pose: 0.9584, loss: 0.0005\n",
      "2022-06-05 04:06:02,794 - mmpose - INFO - Epoch [48][40/54]\tlr: 5.000e-04, eta: 0:08:51, time: 0.187, data_time: 0.000, memory: 3953, heatmap_loss: 0.0005, acc_pose: 0.9510, loss: 0.0005\n",
      "2022-06-05 04:06:05,433 - mmpose - INFO - Saving checkpoint at 48 epochs\n"
     ]
    },
    {
     "name": "stdout",
     "output_type": "stream",
     "text": [
      "[                                                  ] 0/416, elapsed: 0s, ETA:"
     ]
    },
    {
     "name": "stderr",
     "output_type": "stream",
     "text": [
      "[W pthreadpool-cpp.cc:90] Warning: Leaking Caffe2 thread-pool after fork. (function pthreadpool)\n",
      "[W pthreadpool-cpp.cc:90] Warning: Leaking Caffe2 thread-pool after fork. (function pthreadpool)\n"
     ]
    },
    {
     "name": "stdout",
     "output_type": "stream",
     "text": [
      "[>>>>>>>>>>>>>>>>>>>>>>>>>>>>>] 416/416, 182.6 task/s, elapsed: 2s, ETA:     0s"
     ]
    },
    {
     "name": "stderr",
     "output_type": "stream",
     "text": [
      "2022-06-05 04:06:08,515 - mmpose - INFO - Epoch(val) [48][13]\tPCK: 0.9981, AUC: 0.8791, EPE: 2.9722\n",
      "[W pthreadpool-cpp.cc:90] Warning: Leaking Caffe2 thread-pool after fork. (function pthreadpool)\n",
      "[W pthreadpool-cpp.cc:90] Warning: Leaking Caffe2 thread-pool after fork. (function pthreadpool)\n",
      "2022-06-05 04:06:14,855 - mmpose - INFO - Epoch [49][20/54]\tlr: 5.000e-04, eta: 0:08:45, time: 0.317, data_time: 0.126, memory: 3953, heatmap_loss: 0.0005, acc_pose: 0.9523, loss: 0.0005\n",
      "2022-06-05 04:06:18,622 - mmpose - INFO - Epoch [49][40/54]\tlr: 5.000e-04, eta: 0:08:41, time: 0.188, data_time: 0.001, memory: 3953, heatmap_loss: 0.0005, acc_pose: 0.9590, loss: 0.0005\n",
      "2022-06-05 04:06:21,264 - mmpose - INFO - Saving checkpoint at 49 epochs\n"
     ]
    },
    {
     "name": "stdout",
     "output_type": "stream",
     "text": [
      "[                                                  ] 0/416, elapsed: 0s, ETA:"
     ]
    },
    {
     "name": "stderr",
     "output_type": "stream",
     "text": [
      "[W pthreadpool-cpp.cc:90] Warning: Leaking Caffe2 thread-pool after fork. (function pthreadpool)\n",
      "[W pthreadpool-cpp.cc:90] Warning: Leaking Caffe2 thread-pool after fork. (function pthreadpool)\n"
     ]
    },
    {
     "name": "stdout",
     "output_type": "stream",
     "text": [
      "[>>>>>>>>>>>>>>>>>>>>>>>>>>>>>] 416/416, 195.6 task/s, elapsed: 2s, ETA:     0s"
     ]
    },
    {
     "name": "stderr",
     "output_type": "stream",
     "text": [
      "2022-06-05 04:06:24,204 - mmpose - INFO - Epoch(val) [49][13]\tPCK: 0.9981, AUC: 0.8787, EPE: 3.0053\n",
      "[W pthreadpool-cpp.cc:90] Warning: Leaking Caffe2 thread-pool after fork. (function pthreadpool)\n",
      "[W pthreadpool-cpp.cc:90] Warning: Leaking Caffe2 thread-pool after fork. (function pthreadpool)\n",
      "2022-06-05 04:06:30,573 - mmpose - INFO - Epoch [50][20/54]\tlr: 5.000e-04, eta: 0:08:35, time: 0.318, data_time: 0.126, memory: 3953, heatmap_loss: 0.0005, acc_pose: 0.9558, loss: 0.0005\n",
      "2022-06-05 04:06:34,365 - mmpose - INFO - Epoch [50][40/54]\tlr: 5.000e-04, eta: 0:08:31, time: 0.190, data_time: 0.000, memory: 3953, heatmap_loss: 0.0005, acc_pose: 0.9540, loss: 0.0005\n",
      "2022-06-05 04:06:37,024 - mmpose - INFO - Saving checkpoint at 50 epochs\n"
     ]
    },
    {
     "name": "stdout",
     "output_type": "stream",
     "text": [
      "[                                                  ] 0/416, elapsed: 0s, ETA:"
     ]
    },
    {
     "name": "stderr",
     "output_type": "stream",
     "text": [
      "[W pthreadpool-cpp.cc:90] Warning: Leaking Caffe2 thread-pool after fork. (function pthreadpool)\n",
      "[W pthreadpool-cpp.cc:90] Warning: Leaking Caffe2 thread-pool after fork. (function pthreadpool)\n"
     ]
    },
    {
     "name": "stdout",
     "output_type": "stream",
     "text": [
      "[>>>>>>>>>>>>>>>>>>>>>>>>>>>>>] 416/416, 194.0 task/s, elapsed: 2s, ETA:     0s"
     ]
    },
    {
     "name": "stderr",
     "output_type": "stream",
     "text": [
      "2022-06-05 04:06:40,176 - mmpose - INFO - The previous best checkpoint /opt/ml/mmpose/work_dirs/mobilev3_freihand2d_224x224_cv7a/best_AUC_epoch_40.pth was removed\n",
      "2022-06-05 04:06:40,340 - mmpose - INFO - Now best checkpoint is saved as best_AUC_epoch_50.pth.\n",
      "2022-06-05 04:06:40,341 - mmpose - INFO - Best AUC is 0.8801 at 50 epoch.\n",
      "2022-06-05 04:06:40,342 - mmpose - INFO - Epoch(val) [50][13]\tPCK: 0.9981, AUC: 0.8801, EPE: 2.9540\n",
      "[W pthreadpool-cpp.cc:90] Warning: Leaking Caffe2 thread-pool after fork. (function pthreadpool)\n",
      "[W pthreadpool-cpp.cc:90] Warning: Leaking Caffe2 thread-pool after fork. (function pthreadpool)\n",
      "2022-06-05 04:06:46,693 - mmpose - INFO - Epoch [51][20/54]\tlr: 5.000e-05, eta: 0:08:24, time: 0.317, data_time: 0.126, memory: 3953, heatmap_loss: 0.0005, acc_pose: 0.9553, loss: 0.0005\n",
      "2022-06-05 04:06:50,447 - mmpose - INFO - Epoch [51][40/54]\tlr: 5.000e-05, eta: 0:08:21, time: 0.188, data_time: 0.001, memory: 3953, heatmap_loss: 0.0005, acc_pose: 0.9591, loss: 0.0005\n",
      "2022-06-05 04:06:53,098 - mmpose - INFO - Saving checkpoint at 51 epochs\n"
     ]
    },
    {
     "name": "stdout",
     "output_type": "stream",
     "text": [
      "[                                                  ] 0/416, elapsed: 0s, ETA:"
     ]
    },
    {
     "name": "stderr",
     "output_type": "stream",
     "text": [
      "[W pthreadpool-cpp.cc:90] Warning: Leaking Caffe2 thread-pool after fork. (function pthreadpool)\n",
      "[W pthreadpool-cpp.cc:90] Warning: Leaking Caffe2 thread-pool after fork. (function pthreadpool)\n"
     ]
    },
    {
     "name": "stdout",
     "output_type": "stream",
     "text": [
      "[>>>>>>>>>>>>>>>>>>>>>>>>>>>>>] 416/416, 193.1 task/s, elapsed: 2s, ETA:     0s"
     ]
    },
    {
     "name": "stderr",
     "output_type": "stream",
     "text": [
      "2022-06-05 04:06:56,076 - mmpose - INFO - The previous best checkpoint /opt/ml/mmpose/work_dirs/mobilev3_freihand2d_224x224_cv7a/best_AUC_epoch_50.pth was removed\n",
      "2022-06-05 04:06:56,236 - mmpose - INFO - Now best checkpoint is saved as best_AUC_epoch_51.pth.\n",
      "2022-06-05 04:06:56,237 - mmpose - INFO - Best AUC is 0.8809 at 51 epoch.\n",
      "2022-06-05 04:06:56,238 - mmpose - INFO - Epoch(val) [51][13]\tPCK: 0.9981, AUC: 0.8809, EPE: 2.9309\n",
      "[W pthreadpool-cpp.cc:90] Warning: Leaking Caffe2 thread-pool after fork. (function pthreadpool)\n",
      "[W pthreadpool-cpp.cc:90] Warning: Leaking Caffe2 thread-pool after fork. (function pthreadpool)\n",
      "2022-06-05 04:07:02,625 - mmpose - INFO - Epoch [52][20/54]\tlr: 5.000e-05, eta: 0:08:14, time: 0.319, data_time: 0.126, memory: 3953, heatmap_loss: 0.0005, acc_pose: 0.9560, loss: 0.0005\n",
      "2022-06-05 04:07:06,377 - mmpose - INFO - Epoch [52][40/54]\tlr: 5.000e-05, eta: 0:08:10, time: 0.188, data_time: 0.001, memory: 3953, heatmap_loss: 0.0005, acc_pose: 0.9581, loss: 0.0005\n",
      "2022-06-05 04:07:09,012 - mmpose - INFO - Saving checkpoint at 52 epochs\n"
     ]
    },
    {
     "name": "stdout",
     "output_type": "stream",
     "text": [
      "[                                                  ] 0/416, elapsed: 0s, ETA:"
     ]
    },
    {
     "name": "stderr",
     "output_type": "stream",
     "text": [
      "[W pthreadpool-cpp.cc:90] Warning: Leaking Caffe2 thread-pool after fork. (function pthreadpool)\n",
      "[W pthreadpool-cpp.cc:90] Warning: Leaking Caffe2 thread-pool after fork. (function pthreadpool)\n"
     ]
    },
    {
     "name": "stdout",
     "output_type": "stream",
     "text": [
      "[>>>>>>>>>>>>>>>>>>>>>>>>>>>>>] 416/416, 195.4 task/s, elapsed: 2s, ETA:     0s"
     ]
    },
    {
     "name": "stderr",
     "output_type": "stream",
     "text": [
      "2022-06-05 04:07:11,938 - mmpose - INFO - The previous best checkpoint /opt/ml/mmpose/work_dirs/mobilev3_freihand2d_224x224_cv7a/best_AUC_epoch_51.pth was removed\n",
      "2022-06-05 04:07:12,164 - mmpose - INFO - Now best checkpoint is saved as best_AUC_epoch_52.pth.\n",
      "2022-06-05 04:07:12,165 - mmpose - INFO - Best AUC is 0.8819 at 52 epoch.\n",
      "2022-06-05 04:07:12,167 - mmpose - INFO - Epoch(val) [52][13]\tPCK: 0.9981, AUC: 0.8819, EPE: 2.9028\n",
      "[W pthreadpool-cpp.cc:90] Warning: Leaking Caffe2 thread-pool after fork. (function pthreadpool)\n",
      "[W pthreadpool-cpp.cc:90] Warning: Leaking Caffe2 thread-pool after fork. (function pthreadpool)\n",
      "2022-06-05 04:07:18,565 - mmpose - INFO - Epoch [53][20/54]\tlr: 5.000e-05, eta: 0:08:04, time: 0.320, data_time: 0.127, memory: 3953, heatmap_loss: 0.0005, acc_pose: 0.9594, loss: 0.0005\n",
      "2022-06-05 04:07:22,336 - mmpose - INFO - Epoch [53][40/54]\tlr: 5.000e-05, eta: 0:08:00, time: 0.189, data_time: 0.000, memory: 3953, heatmap_loss: 0.0004, acc_pose: 0.9625, loss: 0.0004\n",
      "2022-06-05 04:07:24,943 - mmpose - INFO - Saving checkpoint at 53 epochs\n"
     ]
    },
    {
     "name": "stdout",
     "output_type": "stream",
     "text": [
      "[                                                  ] 0/416, elapsed: 0s, ETA:"
     ]
    },
    {
     "name": "stderr",
     "output_type": "stream",
     "text": [
      "[W pthreadpool-cpp.cc:90] Warning: Leaking Caffe2 thread-pool after fork. (function pthreadpool)\n",
      "[W pthreadpool-cpp.cc:90] Warning: Leaking Caffe2 thread-pool after fork. (function pthreadpool)\n"
     ]
    },
    {
     "name": "stdout",
     "output_type": "stream",
     "text": [
      "[>>>>>>>>>>>>>>>>>>>>>>>>>>>>>] 416/416, 189.6 task/s, elapsed: 2s, ETA:     0s"
     ]
    },
    {
     "name": "stderr",
     "output_type": "stream",
     "text": [
      "2022-06-05 04:07:27,919 - mmpose - INFO - Epoch(val) [53][13]\tPCK: 0.9981, AUC: 0.8817, EPE: 2.9053\n",
      "[W pthreadpool-cpp.cc:90] Warning: Leaking Caffe2 thread-pool after fork. (function pthreadpool)\n",
      "[W pthreadpool-cpp.cc:90] Warning: Leaking Caffe2 thread-pool after fork. (function pthreadpool)\n",
      "2022-06-05 04:07:34,272 - mmpose - INFO - Epoch [54][20/54]\tlr: 5.000e-05, eta: 0:07:54, time: 0.317, data_time: 0.126, memory: 3953, heatmap_loss: 0.0004, acc_pose: 0.9619, loss: 0.0004\n",
      "2022-06-05 04:07:38,034 - mmpose - INFO - Epoch [54][40/54]\tlr: 5.000e-05, eta: 0:07:50, time: 0.188, data_time: 0.000, memory: 3953, heatmap_loss: 0.0005, acc_pose: 0.9578, loss: 0.0005\n",
      "2022-06-05 04:07:40,659 - mmpose - INFO - Saving checkpoint at 54 epochs\n"
     ]
    },
    {
     "name": "stdout",
     "output_type": "stream",
     "text": [
      "[                                                  ] 0/416, elapsed: 0s, ETA:"
     ]
    },
    {
     "name": "stderr",
     "output_type": "stream",
     "text": [
      "[W pthreadpool-cpp.cc:90] Warning: Leaking Caffe2 thread-pool after fork. (function pthreadpool)\n",
      "[W pthreadpool-cpp.cc:90] Warning: Leaking Caffe2 thread-pool after fork. (function pthreadpool)\n"
     ]
    },
    {
     "name": "stdout",
     "output_type": "stream",
     "text": [
      "[>>>>>>>>>>>>>>>>>>>>>>>>>>>>>] 416/416, 184.5 task/s, elapsed: 2s, ETA:     0s"
     ]
    },
    {
     "name": "stderr",
     "output_type": "stream",
     "text": [
      "2022-06-05 04:07:43,704 - mmpose - INFO - Epoch(val) [54][13]\tPCK: 0.9982, AUC: 0.8817, EPE: 2.8920\n",
      "[W pthreadpool-cpp.cc:90] Warning: Leaking Caffe2 thread-pool after fork. (function pthreadpool)\n",
      "[W pthreadpool-cpp.cc:90] Warning: Leaking Caffe2 thread-pool after fork. (function pthreadpool)\n",
      "2022-06-05 04:07:50,105 - mmpose - INFO - Epoch [55][20/54]\tlr: 5.000e-05, eta: 0:07:44, time: 0.320, data_time: 0.126, memory: 3953, heatmap_loss: 0.0004, acc_pose: 0.9633, loss: 0.0004\n",
      "2022-06-05 04:07:53,881 - mmpose - INFO - Epoch [55][40/54]\tlr: 5.000e-05, eta: 0:07:40, time: 0.189, data_time: 0.001, memory: 3953, heatmap_loss: 0.0005, acc_pose: 0.9562, loss: 0.0005\n",
      "2022-06-05 04:07:56,510 - mmpose - INFO - Saving checkpoint at 55 epochs\n"
     ]
    },
    {
     "name": "stdout",
     "output_type": "stream",
     "text": [
      "[                                                  ] 0/416, elapsed: 0s, ETA:"
     ]
    },
    {
     "name": "stderr",
     "output_type": "stream",
     "text": [
      "[W pthreadpool-cpp.cc:90] Warning: Leaking Caffe2 thread-pool after fork. (function pthreadpool)\n",
      "[W pthreadpool-cpp.cc:90] Warning: Leaking Caffe2 thread-pool after fork. (function pthreadpool)\n"
     ]
    },
    {
     "name": "stdout",
     "output_type": "stream",
     "text": [
      "[>>>>>>>>>>>>>>>>>>>>>>>>>>>>>] 416/416, 189.8 task/s, elapsed: 2s, ETA:     0s"
     ]
    },
    {
     "name": "stderr",
     "output_type": "stream",
     "text": [
      "2022-06-05 04:07:59,542 - mmpose - INFO - The previous best checkpoint /opt/ml/mmpose/work_dirs/mobilev3_freihand2d_224x224_cv7a/best_AUC_epoch_52.pth was removed\n",
      "2022-06-05 04:07:59,744 - mmpose - INFO - Now best checkpoint is saved as best_AUC_epoch_55.pth.\n",
      "2022-06-05 04:07:59,747 - mmpose - INFO - Best AUC is 0.8822 at 55 epoch.\n",
      "2022-06-05 04:07:59,747 - mmpose - INFO - Epoch(val) [55][13]\tPCK: 0.9981, AUC: 0.8822, EPE: 2.8925\n",
      "[W pthreadpool-cpp.cc:90] Warning: Leaking Caffe2 thread-pool after fork. (function pthreadpool)\n",
      "[W pthreadpool-cpp.cc:90] Warning: Leaking Caffe2 thread-pool after fork. (function pthreadpool)\n",
      "2022-06-05 04:08:06,114 - mmpose - INFO - Epoch [56][20/54]\tlr: 5.000e-05, eta: 0:07:33, time: 0.318, data_time: 0.126, memory: 3953, heatmap_loss: 0.0004, acc_pose: 0.9623, loss: 0.0004\n",
      "2022-06-05 04:08:09,849 - mmpose - INFO - Epoch [56][40/54]\tlr: 5.000e-05, eta: 0:07:30, time: 0.187, data_time: 0.001, memory: 3953, heatmap_loss: 0.0005, acc_pose: 0.9582, loss: 0.0005\n",
      "2022-06-05 04:08:12,454 - mmpose - INFO - Saving checkpoint at 56 epochs\n"
     ]
    },
    {
     "name": "stdout",
     "output_type": "stream",
     "text": [
      "[                                                  ] 0/416, elapsed: 0s, ETA:"
     ]
    },
    {
     "name": "stderr",
     "output_type": "stream",
     "text": [
      "[W pthreadpool-cpp.cc:90] Warning: Leaking Caffe2 thread-pool after fork. (function pthreadpool)\n",
      "[W pthreadpool-cpp.cc:90] Warning: Leaking Caffe2 thread-pool after fork. (function pthreadpool)\n"
     ]
    },
    {
     "name": "stdout",
     "output_type": "stream",
     "text": [
      "[>>>>>>>>>>>>>>>>>>>>>>>>>>>>>] 416/416, 190.1 task/s, elapsed: 2s, ETA:     0s"
     ]
    },
    {
     "name": "stderr",
     "output_type": "stream",
     "text": [
      "2022-06-05 04:08:15,429 - mmpose - INFO - The previous best checkpoint /opt/ml/mmpose/work_dirs/mobilev3_freihand2d_224x224_cv7a/best_AUC_epoch_55.pth was removed\n",
      "2022-06-05 04:08:15,590 - mmpose - INFO - Now best checkpoint is saved as best_AUC_epoch_56.pth.\n",
      "2022-06-05 04:08:15,591 - mmpose - INFO - Best AUC is 0.8823 at 56 epoch.\n",
      "2022-06-05 04:08:15,594 - mmpose - INFO - Epoch(val) [56][13]\tPCK: 0.9982, AUC: 0.8823, EPE: 2.8717\n",
      "[W pthreadpool-cpp.cc:90] Warning: Leaking Caffe2 thread-pool after fork. (function pthreadpool)\n",
      "[W pthreadpool-cpp.cc:90] Warning: Leaking Caffe2 thread-pool after fork. (function pthreadpool)\n",
      "2022-06-05 04:08:21,958 - mmpose - INFO - Epoch [57][20/54]\tlr: 5.000e-05, eta: 0:07:23, time: 0.318, data_time: 0.126, memory: 3953, heatmap_loss: 0.0005, acc_pose: 0.9572, loss: 0.0005\n",
      "2022-06-05 04:08:25,716 - mmpose - INFO - Epoch [57][40/54]\tlr: 5.000e-05, eta: 0:07:19, time: 0.188, data_time: 0.000, memory: 3953, heatmap_loss: 0.0004, acc_pose: 0.9611, loss: 0.0004\n",
      "2022-06-05 04:08:28,353 - mmpose - INFO - Saving checkpoint at 57 epochs\n"
     ]
    },
    {
     "name": "stdout",
     "output_type": "stream",
     "text": [
      "[                                                  ] 0/416, elapsed: 0s, ETA:"
     ]
    },
    {
     "name": "stderr",
     "output_type": "stream",
     "text": [
      "[W pthreadpool-cpp.cc:90] Warning: Leaking Caffe2 thread-pool after fork. (function pthreadpool)\n",
      "[W pthreadpool-cpp.cc:90] Warning: Leaking Caffe2 thread-pool after fork. (function pthreadpool)\n"
     ]
    },
    {
     "name": "stdout",
     "output_type": "stream",
     "text": [
      "[>>>>>>>>>>>>>>>>>>>>>>>>>>>>>] 416/416, 194.0 task/s, elapsed: 2s, ETA:     0s"
     ]
    },
    {
     "name": "stderr",
     "output_type": "stream",
     "text": [
      "2022-06-05 04:08:31,525 - mmpose - INFO - The previous best checkpoint /opt/ml/mmpose/work_dirs/mobilev3_freihand2d_224x224_cv7a/best_AUC_epoch_56.pth was removed\n",
      "2022-06-05 04:08:31,686 - mmpose - INFO - Now best checkpoint is saved as best_AUC_epoch_57.pth.\n",
      "2022-06-05 04:08:31,687 - mmpose - INFO - Best AUC is 0.8824 at 57 epoch.\n",
      "2022-06-05 04:08:31,689 - mmpose - INFO - Epoch(val) [57][13]\tPCK: 0.9983, AUC: 0.8824, EPE: 2.8552\n",
      "[W pthreadpool-cpp.cc:90] Warning: Leaking Caffe2 thread-pool after fork. (function pthreadpool)\n",
      "[W pthreadpool-cpp.cc:90] Warning: Leaking Caffe2 thread-pool after fork. (function pthreadpool)\n",
      "2022-06-05 04:08:38,111 - mmpose - INFO - Epoch [58][20/54]\tlr: 5.000e-05, eta: 0:07:13, time: 0.321, data_time: 0.125, memory: 3953, heatmap_loss: 0.0004, acc_pose: 0.9591, loss: 0.0004\n",
      "2022-06-05 04:08:41,882 - mmpose - INFO - Epoch [58][40/54]\tlr: 5.000e-05, eta: 0:07:09, time: 0.189, data_time: 0.001, memory: 3953, heatmap_loss: 0.0004, acc_pose: 0.9585, loss: 0.0004\n",
      "2022-06-05 04:08:44,522 - mmpose - INFO - Saving checkpoint at 58 epochs\n"
     ]
    },
    {
     "name": "stdout",
     "output_type": "stream",
     "text": [
      "[                                                  ] 0/416, elapsed: 0s, ETA:"
     ]
    },
    {
     "name": "stderr",
     "output_type": "stream",
     "text": [
      "[W pthreadpool-cpp.cc:90] Warning: Leaking Caffe2 thread-pool after fork. (function pthreadpool)\n",
      "[W pthreadpool-cpp.cc:90] Warning: Leaking Caffe2 thread-pool after fork. (function pthreadpool)\n"
     ]
    },
    {
     "name": "stdout",
     "output_type": "stream",
     "text": [
      "[>>>>>>>>>>>>>>>>>>>>>>>>>>>>>] 416/416, 195.9 task/s, elapsed: 2s, ETA:     0s"
     ]
    },
    {
     "name": "stderr",
     "output_type": "stream",
     "text": [
      "2022-06-05 04:08:47,449 - mmpose - INFO - Epoch(val) [58][13]\tPCK: 0.9982, AUC: 0.8822, EPE: 2.8730\n",
      "[W pthreadpool-cpp.cc:90] Warning: Leaking Caffe2 thread-pool after fork. (function pthreadpool)\n",
      "[W pthreadpool-cpp.cc:90] Warning: Leaking Caffe2 thread-pool after fork. (function pthreadpool)\n",
      "2022-06-05 04:08:53,864 - mmpose - INFO - Epoch [59][20/54]\tlr: 5.000e-05, eta: 0:07:03, time: 0.321, data_time: 0.127, memory: 3953, heatmap_loss: 0.0005, acc_pose: 0.9581, loss: 0.0005\n",
      "2022-06-05 04:08:57,620 - mmpose - INFO - Epoch [59][40/54]\tlr: 5.000e-05, eta: 0:06:59, time: 0.188, data_time: 0.000, memory: 3953, heatmap_loss: 0.0004, acc_pose: 0.9587, loss: 0.0004\n",
      "2022-06-05 04:09:00,283 - mmpose - INFO - Saving checkpoint at 59 epochs\n"
     ]
    },
    {
     "name": "stdout",
     "output_type": "stream",
     "text": [
      "[                                                  ] 0/416, elapsed: 0s, ETA:"
     ]
    },
    {
     "name": "stderr",
     "output_type": "stream",
     "text": [
      "[W pthreadpool-cpp.cc:90] Warning: Leaking Caffe2 thread-pool after fork. (function pthreadpool)\n",
      "[W pthreadpool-cpp.cc:90] Warning: Leaking Caffe2 thread-pool after fork. (function pthreadpool)\n"
     ]
    },
    {
     "name": "stdout",
     "output_type": "stream",
     "text": [
      "[>>>>>>>>>>>>>>>>>>>>>>>>>>>>>] 416/416, 195.2 task/s, elapsed: 2s, ETA:     0s"
     ]
    },
    {
     "name": "stderr",
     "output_type": "stream",
     "text": [
      "2022-06-05 04:09:03,269 - mmpose - INFO - Epoch(val) [59][13]\tPCK: 0.9983, AUC: 0.8820, EPE: 2.8646\n",
      "[W pthreadpool-cpp.cc:90] Warning: Leaking Caffe2 thread-pool after fork. (function pthreadpool)\n",
      "[W pthreadpool-cpp.cc:90] Warning: Leaking Caffe2 thread-pool after fork. (function pthreadpool)\n",
      "2022-06-05 04:09:09,610 - mmpose - INFO - Epoch [60][20/54]\tlr: 5.000e-05, eta: 0:06:53, time: 0.317, data_time: 0.126, memory: 3953, heatmap_loss: 0.0004, acc_pose: 0.9632, loss: 0.0004\n",
      "2022-06-05 04:09:13,423 - mmpose - INFO - Epoch [60][40/54]\tlr: 5.000e-05, eta: 0:06:49, time: 0.191, data_time: 0.000, memory: 3953, heatmap_loss: 0.0004, acc_pose: 0.9578, loss: 0.0004\n",
      "2022-06-05 04:09:16,122 - mmpose - INFO - Saving checkpoint at 60 epochs\n"
     ]
    },
    {
     "name": "stdout",
     "output_type": "stream",
     "text": [
      "[                                                  ] 0/416, elapsed: 0s, ETA:"
     ]
    },
    {
     "name": "stderr",
     "output_type": "stream",
     "text": [
      "[W pthreadpool-cpp.cc:90] Warning: Leaking Caffe2 thread-pool after fork. (function pthreadpool)\n",
      "[W pthreadpool-cpp.cc:90] Warning: Leaking Caffe2 thread-pool after fork. (function pthreadpool)\n"
     ]
    },
    {
     "name": "stdout",
     "output_type": "stream",
     "text": [
      "[>>>>>>>>>>>>>>>>>>>>>>>>>>>>>] 416/416, 190.1 task/s, elapsed: 2s, ETA:     0s"
     ]
    },
    {
     "name": "stderr",
     "output_type": "stream",
     "text": [
      "2022-06-05 04:09:19,104 - mmpose - INFO - Epoch(val) [60][13]\tPCK: 0.9982, AUC: 0.8816, EPE: 2.8936\n",
      "[W pthreadpool-cpp.cc:90] Warning: Leaking Caffe2 thread-pool after fork. (function pthreadpool)\n",
      "[W pthreadpool-cpp.cc:90] Warning: Leaking Caffe2 thread-pool after fork. (function pthreadpool)\n",
      "2022-06-05 04:09:25,468 - mmpose - INFO - Epoch [61][20/54]\tlr: 5.000e-05, eta: 0:06:42, time: 0.318, data_time: 0.127, memory: 3953, heatmap_loss: 0.0005, acc_pose: 0.9598, loss: 0.0005\n",
      "2022-06-05 04:09:29,253 - mmpose - INFO - Epoch [61][40/54]\tlr: 5.000e-05, eta: 0:06:39, time: 0.189, data_time: 0.001, memory: 3953, heatmap_loss: 0.0004, acc_pose: 0.9625, loss: 0.0004\n",
      "2022-06-05 04:09:31,919 - mmpose - INFO - Saving checkpoint at 61 epochs\n"
     ]
    },
    {
     "name": "stdout",
     "output_type": "stream",
     "text": [
      "[                                                  ] 0/416, elapsed: 0s, ETA:"
     ]
    },
    {
     "name": "stderr",
     "output_type": "stream",
     "text": [
      "[W pthreadpool-cpp.cc:90] Warning: Leaking Caffe2 thread-pool after fork. (function pthreadpool)\n",
      "[W pthreadpool-cpp.cc:90] Warning: Leaking Caffe2 thread-pool after fork. (function pthreadpool)\n"
     ]
    },
    {
     "name": "stdout",
     "output_type": "stream",
     "text": [
      "[>>>>>>>>>>>>>>>>>>>>>>>>>>>>>] 416/416, 190.7 task/s, elapsed: 2s, ETA:     0s"
     ]
    },
    {
     "name": "stderr",
     "output_type": "stream",
     "text": [
      "2022-06-05 04:09:34,921 - mmpose - INFO - Epoch(val) [61][13]\tPCK: 0.9983, AUC: 0.8819, EPE: 2.8712\n",
      "[W pthreadpool-cpp.cc:90] Warning: Leaking Caffe2 thread-pool after fork. (function pthreadpool)\n",
      "[W pthreadpool-cpp.cc:90] Warning: Leaking Caffe2 thread-pool after fork. (function pthreadpool)\n",
      "2022-06-05 04:09:41,294 - mmpose - INFO - Epoch [62][20/54]\tlr: 5.000e-05, eta: 0:06:32, time: 0.318, data_time: 0.126, memory: 3953, heatmap_loss: 0.0004, acc_pose: 0.9595, loss: 0.0004\n",
      "2022-06-05 04:09:45,042 - mmpose - INFO - Epoch [62][40/54]\tlr: 5.000e-05, eta: 0:06:29, time: 0.187, data_time: 0.001, memory: 3953, heatmap_loss: 0.0004, acc_pose: 0.9622, loss: 0.0004\n",
      "2022-06-05 04:09:47,702 - mmpose - INFO - Saving checkpoint at 62 epochs\n"
     ]
    },
    {
     "name": "stdout",
     "output_type": "stream",
     "text": [
      "[                                                  ] 0/416, elapsed: 0s, ETA:"
     ]
    },
    {
     "name": "stderr",
     "output_type": "stream",
     "text": [
      "[W pthreadpool-cpp.cc:90] Warning: Leaking Caffe2 thread-pool after fork. (function pthreadpool)\n",
      "[W pthreadpool-cpp.cc:90] Warning: Leaking Caffe2 thread-pool after fork. (function pthreadpool)\n"
     ]
    },
    {
     "name": "stdout",
     "output_type": "stream",
     "text": [
      "[>>>>>>>>>>>>>>>>>>>>>>>>>>>>>] 416/416, 189.0 task/s, elapsed: 2s, ETA:     0s"
     ]
    },
    {
     "name": "stderr",
     "output_type": "stream",
     "text": [
      "2022-06-05 04:09:50,722 - mmpose - INFO - Epoch(val) [62][13]\tPCK: 0.9983, AUC: 0.8823, EPE: 2.8616\n",
      "[W pthreadpool-cpp.cc:90] Warning: Leaking Caffe2 thread-pool after fork. (function pthreadpool)\n",
      "[W pthreadpool-cpp.cc:90] Warning: Leaking Caffe2 thread-pool after fork. (function pthreadpool)\n",
      "2022-06-05 04:09:57,107 - mmpose - INFO - Epoch [63][20/54]\tlr: 5.000e-05, eta: 0:06:22, time: 0.319, data_time: 0.126, memory: 3953, heatmap_loss: 0.0004, acc_pose: 0.9611, loss: 0.0004\n",
      "2022-06-05 04:10:00,857 - mmpose - INFO - Epoch [63][40/54]\tlr: 5.000e-05, eta: 0:06:18, time: 0.187, data_time: 0.000, memory: 3953, heatmap_loss: 0.0004, acc_pose: 0.9617, loss: 0.0004\n",
      "2022-06-05 04:10:03,490 - mmpose - INFO - Saving checkpoint at 63 epochs\n"
     ]
    },
    {
     "name": "stdout",
     "output_type": "stream",
     "text": [
      "[                                                  ] 0/416, elapsed: 0s, ETA:"
     ]
    },
    {
     "name": "stderr",
     "output_type": "stream",
     "text": [
      "[W pthreadpool-cpp.cc:90] Warning: Leaking Caffe2 thread-pool after fork. (function pthreadpool)\n",
      "[W pthreadpool-cpp.cc:90] Warning: Leaking Caffe2 thread-pool after fork. (function pthreadpool)\n"
     ]
    },
    {
     "name": "stdout",
     "output_type": "stream",
     "text": [
      "[>>>>>>>>>>>>>>>>>>>>>>>>>>>>>] 416/416, 189.9 task/s, elapsed: 2s, ETA:     0s"
     ]
    },
    {
     "name": "stderr",
     "output_type": "stream",
     "text": [
      "2022-06-05 04:10:06,712 - mmpose - INFO - The previous best checkpoint /opt/ml/mmpose/work_dirs/mobilev3_freihand2d_224x224_cv7a/best_AUC_epoch_57.pth was removed\n",
      "2022-06-05 04:10:06,904 - mmpose - INFO - Now best checkpoint is saved as best_AUC_epoch_63.pth.\n",
      "2022-06-05 04:10:06,905 - mmpose - INFO - Best AUC is 0.8827 at 63 epoch.\n",
      "2022-06-05 04:10:06,906 - mmpose - INFO - Epoch(val) [63][13]\tPCK: 0.9982, AUC: 0.8827, EPE: 2.8612\n",
      "[W pthreadpool-cpp.cc:90] Warning: Leaking Caffe2 thread-pool after fork. (function pthreadpool)\n",
      "[W pthreadpool-cpp.cc:90] Warning: Leaking Caffe2 thread-pool after fork. (function pthreadpool)\n",
      "2022-06-05 04:10:13,291 - mmpose - INFO - Epoch [64][20/54]\tlr: 5.000e-05, eta: 0:06:12, time: 0.319, data_time: 0.125, memory: 3953, heatmap_loss: 0.0004, acc_pose: 0.9604, loss: 0.0004\n",
      "2022-06-05 04:10:17,056 - mmpose - INFO - Epoch [64][40/54]\tlr: 5.000e-05, eta: 0:06:08, time: 0.188, data_time: 0.001, memory: 3953, heatmap_loss: 0.0004, acc_pose: 0.9575, loss: 0.0004\n",
      "2022-06-05 04:10:19,690 - mmpose - INFO - Saving checkpoint at 64 epochs\n"
     ]
    },
    {
     "name": "stdout",
     "output_type": "stream",
     "text": [
      "[                                                  ] 0/416, elapsed: 0s, ETA:"
     ]
    },
    {
     "name": "stderr",
     "output_type": "stream",
     "text": [
      "[W pthreadpool-cpp.cc:90] Warning: Leaking Caffe2 thread-pool after fork. (function pthreadpool)\n",
      "[W pthreadpool-cpp.cc:90] Warning: Leaking Caffe2 thread-pool after fork. (function pthreadpool)\n"
     ]
    },
    {
     "name": "stdout",
     "output_type": "stream",
     "text": [
      "[>>>>>>>>>>>>>>>>>>>>>>>>>>>>>] 416/416, 185.4 task/s, elapsed: 2s, ETA:     0s"
     ]
    },
    {
     "name": "stderr",
     "output_type": "stream",
     "text": [
      "2022-06-05 04:10:22,704 - mmpose - INFO - Epoch(val) [64][13]\tPCK: 0.9983, AUC: 0.8825, EPE: 2.8532\n",
      "[W pthreadpool-cpp.cc:90] Warning: Leaking Caffe2 thread-pool after fork. (function pthreadpool)\n",
      "[W pthreadpool-cpp.cc:90] Warning: Leaking Caffe2 thread-pool after fork. (function pthreadpool)\n",
      "2022-06-05 04:10:29,117 - mmpose - INFO - Epoch [65][20/54]\tlr: 5.000e-05, eta: 0:06:02, time: 0.320, data_time: 0.127, memory: 3953, heatmap_loss: 0.0004, acc_pose: 0.9615, loss: 0.0004\n",
      "2022-06-05 04:10:32,923 - mmpose - INFO - Epoch [65][40/54]\tlr: 5.000e-05, eta: 0:05:58, time: 0.190, data_time: 0.000, memory: 3953, heatmap_loss: 0.0004, acc_pose: 0.9615, loss: 0.0004\n",
      "2022-06-05 04:10:35,605 - mmpose - INFO - Saving checkpoint at 65 epochs\n"
     ]
    },
    {
     "name": "stdout",
     "output_type": "stream",
     "text": [
      "[                                                  ] 0/416, elapsed: 0s, ETA:"
     ]
    },
    {
     "name": "stderr",
     "output_type": "stream",
     "text": [
      "[W pthreadpool-cpp.cc:90] Warning: Leaking Caffe2 thread-pool after fork. (function pthreadpool)\n",
      "[W pthreadpool-cpp.cc:90] Warning: Leaking Caffe2 thread-pool after fork. (function pthreadpool)\n"
     ]
    },
    {
     "name": "stdout",
     "output_type": "stream",
     "text": [
      "[>>>>>>>>>>>>>>>>>>>>>>>>>>>>>] 416/416, 191.5 task/s, elapsed: 2s, ETA:     0s"
     ]
    },
    {
     "name": "stderr",
     "output_type": "stream",
     "text": [
      "2022-06-05 04:10:38,537 - mmpose - INFO - Epoch(val) [65][13]\tPCK: 0.9983, AUC: 0.8823, EPE: 2.8591\n",
      "[W pthreadpool-cpp.cc:90] Warning: Leaking Caffe2 thread-pool after fork. (function pthreadpool)\n",
      "[W pthreadpool-cpp.cc:90] Warning: Leaking Caffe2 thread-pool after fork. (function pthreadpool)\n",
      "2022-06-05 04:10:44,985 - mmpose - INFO - Epoch [66][20/54]\tlr: 5.000e-05, eta: 0:05:52, time: 0.322, data_time: 0.129, memory: 3953, heatmap_loss: 0.0004, acc_pose: 0.9604, loss: 0.0004\n",
      "2022-06-05 04:10:48,737 - mmpose - INFO - Epoch [66][40/54]\tlr: 5.000e-05, eta: 0:05:48, time: 0.188, data_time: 0.001, memory: 3953, heatmap_loss: 0.0004, acc_pose: 0.9596, loss: 0.0004\n",
      "2022-06-05 04:10:51,380 - mmpose - INFO - Saving checkpoint at 66 epochs\n"
     ]
    },
    {
     "name": "stdout",
     "output_type": "stream",
     "text": [
      "[                                                  ] 0/416, elapsed: 0s, ETA:"
     ]
    },
    {
     "name": "stderr",
     "output_type": "stream",
     "text": [
      "[W pthreadpool-cpp.cc:90] Warning: Leaking Caffe2 thread-pool after fork. (function pthreadpool)\n",
      "[W pthreadpool-cpp.cc:90] Warning: Leaking Caffe2 thread-pool after fork. (function pthreadpool)\n"
     ]
    },
    {
     "name": "stdout",
     "output_type": "stream",
     "text": [
      "[>>>>>>>>>>>>>>>>>>>>>>>>>>>>>] 416/416, 191.9 task/s, elapsed: 2s, ETA:     0s"
     ]
    },
    {
     "name": "stderr",
     "output_type": "stream",
     "text": [
      "2022-06-05 04:10:54,346 - mmpose - INFO - Epoch(val) [66][13]\tPCK: 0.9983, AUC: 0.8825, EPE: 2.8561\n",
      "[W pthreadpool-cpp.cc:90] Warning: Leaking Caffe2 thread-pool after fork. (function pthreadpool)\n",
      "[W pthreadpool-cpp.cc:90] Warning: Leaking Caffe2 thread-pool after fork. (function pthreadpool)\n",
      "2022-06-05 04:11:00,713 - mmpose - INFO - Epoch [67][20/54]\tlr: 5.000e-05, eta: 0:05:41, time: 0.318, data_time: 0.126, memory: 3953, heatmap_loss: 0.0005, acc_pose: 0.9571, loss: 0.0005\n",
      "2022-06-05 04:11:04,462 - mmpose - INFO - Epoch [67][40/54]\tlr: 5.000e-05, eta: 0:05:38, time: 0.187, data_time: 0.001, memory: 3953, heatmap_loss: 0.0004, acc_pose: 0.9636, loss: 0.0004\n",
      "2022-06-05 04:11:07,119 - mmpose - INFO - Saving checkpoint at 67 epochs\n"
     ]
    },
    {
     "name": "stdout",
     "output_type": "stream",
     "text": [
      "[                                                  ] 0/416, elapsed: 0s, ETA:"
     ]
    },
    {
     "name": "stderr",
     "output_type": "stream",
     "text": [
      "[W pthreadpool-cpp.cc:90] Warning: Leaking Caffe2 thread-pool after fork. (function pthreadpool)\n",
      "[W pthreadpool-cpp.cc:90] Warning: Leaking Caffe2 thread-pool after fork. (function pthreadpool)\n"
     ]
    },
    {
     "name": "stdout",
     "output_type": "stream",
     "text": [
      "[>>>>>>>>>>>>>>>>>>>>>>>>>>>>>] 416/416, 191.5 task/s, elapsed: 2s, ETA:     0s"
     ]
    },
    {
     "name": "stderr",
     "output_type": "stream",
     "text": [
      "2022-06-05 04:11:10,116 - mmpose - INFO - Epoch(val) [67][13]\tPCK: 0.9983, AUC: 0.8820, EPE: 2.8677\n",
      "[W pthreadpool-cpp.cc:90] Warning: Leaking Caffe2 thread-pool after fork. (function pthreadpool)\n",
      "[W pthreadpool-cpp.cc:90] Warning: Leaking Caffe2 thread-pool after fork. (function pthreadpool)\n",
      "2022-06-05 04:11:16,511 - mmpose - INFO - Epoch [68][20/54]\tlr: 5.000e-05, eta: 0:05:31, time: 0.320, data_time: 0.125, memory: 3953, heatmap_loss: 0.0004, acc_pose: 0.9589, loss: 0.0004\n",
      "2022-06-05 04:11:20,293 - mmpose - INFO - Epoch [68][40/54]\tlr: 5.000e-05, eta: 0:05:27, time: 0.189, data_time: 0.000, memory: 3953, heatmap_loss: 0.0004, acc_pose: 0.9648, loss: 0.0004\n",
      "2022-06-05 04:11:22,911 - mmpose - INFO - Saving checkpoint at 68 epochs\n"
     ]
    },
    {
     "name": "stdout",
     "output_type": "stream",
     "text": [
      "[                                                  ] 0/416, elapsed: 0s, ETA:"
     ]
    },
    {
     "name": "stderr",
     "output_type": "stream",
     "text": [
      "[W pthreadpool-cpp.cc:90] Warning: Leaking Caffe2 thread-pool after fork. (function pthreadpool)\n",
      "[W pthreadpool-cpp.cc:90] Warning: Leaking Caffe2 thread-pool after fork. (function pthreadpool)\n"
     ]
    },
    {
     "name": "stdout",
     "output_type": "stream",
     "text": [
      "[>>>>>>>>>>>>>>>>>>>>>>>>>>>>>] 416/416, 193.9 task/s, elapsed: 2s, ETA:     0s"
     ]
    },
    {
     "name": "stderr",
     "output_type": "stream",
     "text": [
      "2022-06-05 04:11:25,877 - mmpose - INFO - Epoch(val) [68][13]\tPCK: 0.9983, AUC: 0.8822, EPE: 2.8626\n",
      "[W pthreadpool-cpp.cc:90] Warning: Leaking Caffe2 thread-pool after fork. (function pthreadpool)\n",
      "[W pthreadpool-cpp.cc:90] Warning: Leaking Caffe2 thread-pool after fork. (function pthreadpool)\n",
      "2022-06-05 04:11:32,233 - mmpose - INFO - Epoch [69][20/54]\tlr: 5.000e-05, eta: 0:05:21, time: 0.318, data_time: 0.127, memory: 3953, heatmap_loss: 0.0004, acc_pose: 0.9658, loss: 0.0004\n",
      "2022-06-05 04:11:36,022 - mmpose - INFO - Epoch [69][40/54]\tlr: 5.000e-05, eta: 0:05:17, time: 0.189, data_time: 0.001, memory: 3953, heatmap_loss: 0.0004, acc_pose: 0.9598, loss: 0.0004\n",
      "2022-06-05 04:11:38,656 - mmpose - INFO - Saving checkpoint at 69 epochs\n"
     ]
    },
    {
     "name": "stdout",
     "output_type": "stream",
     "text": [
      "[                                                  ] 0/416, elapsed: 0s, ETA:"
     ]
    },
    {
     "name": "stderr",
     "output_type": "stream",
     "text": [
      "[W pthreadpool-cpp.cc:90] Warning: Leaking Caffe2 thread-pool after fork. (function pthreadpool)\n",
      "[W pthreadpool-cpp.cc:90] Warning: Leaking Caffe2 thread-pool after fork. (function pthreadpool)\n"
     ]
    },
    {
     "name": "stdout",
     "output_type": "stream",
     "text": [
      "[>>>>>>>>>>>>>>>>>>>>>>>>>>>>>] 416/416, 192.9 task/s, elapsed: 2s, ETA:     0s"
     ]
    },
    {
     "name": "stderr",
     "output_type": "stream",
     "text": [
      "2022-06-05 04:11:41,837 - mmpose - INFO - Epoch(val) [69][13]\tPCK: 0.9983, AUC: 0.8825, EPE: 2.8507\n",
      "[W pthreadpool-cpp.cc:90] Warning: Leaking Caffe2 thread-pool after fork. (function pthreadpool)\n",
      "[W pthreadpool-cpp.cc:90] Warning: Leaking Caffe2 thread-pool after fork. (function pthreadpool)\n",
      "2022-06-05 04:11:48,197 - mmpose - INFO - Epoch [70][20/54]\tlr: 5.000e-05, eta: 0:05:11, time: 0.318, data_time: 0.127, memory: 3953, heatmap_loss: 0.0004, acc_pose: 0.9606, loss: 0.0004\n",
      "2022-06-05 04:11:51,955 - mmpose - INFO - Epoch [70][40/54]\tlr: 5.000e-05, eta: 0:05:07, time: 0.188, data_time: 0.000, memory: 3953, heatmap_loss: 0.0004, acc_pose: 0.9629, loss: 0.0004\n",
      "2022-06-05 04:11:54,583 - mmpose - INFO - Saving checkpoint at 70 epochs\n"
     ]
    },
    {
     "name": "stdout",
     "output_type": "stream",
     "text": [
      "[                                                  ] 0/416, elapsed: 0s, ETA:"
     ]
    },
    {
     "name": "stderr",
     "output_type": "stream",
     "text": [
      "[W pthreadpool-cpp.cc:90] Warning: Leaking Caffe2 thread-pool after fork. (function pthreadpool)\n",
      "[W pthreadpool-cpp.cc:90] Warning: Leaking Caffe2 thread-pool after fork. (function pthreadpool)\n"
     ]
    },
    {
     "name": "stdout",
     "output_type": "stream",
     "text": [
      "[>>>>>>>>>>>>>>>>>>>>>>>>>>>>>] 416/416, 185.7 task/s, elapsed: 2s, ETA:     0s"
     ]
    },
    {
     "name": "stderr",
     "output_type": "stream",
     "text": [
      "2022-06-05 04:11:57,590 - mmpose - INFO - Epoch(val) [70][13]\tPCK: 0.9983, AUC: 0.8823, EPE: 2.8624\n",
      "[W pthreadpool-cpp.cc:90] Warning: Leaking Caffe2 thread-pool after fork. (function pthreadpool)\n",
      "[W pthreadpool-cpp.cc:90] Warning: Leaking Caffe2 thread-pool after fork. (function pthreadpool)\n",
      "2022-06-05 04:12:03,961 - mmpose - INFO - Epoch [71][20/54]\tlr: 5.000e-06, eta: 0:05:01, time: 0.318, data_time: 0.126, memory: 3953, heatmap_loss: 0.0004, acc_pose: 0.9618, loss: 0.0004\n",
      "2022-06-05 04:12:07,743 - mmpose - INFO - Epoch [71][40/54]\tlr: 5.000e-06, eta: 0:04:57, time: 0.189, data_time: 0.000, memory: 3953, heatmap_loss: 0.0004, acc_pose: 0.9618, loss: 0.0004\n",
      "2022-06-05 04:12:10,405 - mmpose - INFO - Saving checkpoint at 71 epochs\n"
     ]
    },
    {
     "name": "stdout",
     "output_type": "stream",
     "text": [
      "[                                                  ] 0/416, elapsed: 0s, ETA:"
     ]
    },
    {
     "name": "stderr",
     "output_type": "stream",
     "text": [
      "[W pthreadpool-cpp.cc:90] Warning: Leaking Caffe2 thread-pool after fork. (function pthreadpool)\n",
      "[W pthreadpool-cpp.cc:90] Warning: Leaking Caffe2 thread-pool after fork. (function pthreadpool)\n"
     ]
    },
    {
     "name": "stdout",
     "output_type": "stream",
     "text": [
      "[>>>>>>>>>>>>>>>>>>>>>>>>>>>>>] 416/416, 177.3 task/s, elapsed: 2s, ETA:     0s"
     ]
    },
    {
     "name": "stderr",
     "output_type": "stream",
     "text": [
      "2022-06-05 04:12:13,575 - mmpose - INFO - Epoch(val) [71][13]\tPCK: 0.9983, AUC: 0.8826, EPE: 2.8518\n",
      "[W pthreadpool-cpp.cc:90] Warning: Leaking Caffe2 thread-pool after fork. (function pthreadpool)\n",
      "[W pthreadpool-cpp.cc:90] Warning: Leaking Caffe2 thread-pool after fork. (function pthreadpool)\n",
      "2022-06-05 04:12:19,972 - mmpose - INFO - Epoch [72][20/54]\tlr: 5.000e-06, eta: 0:04:51, time: 0.320, data_time: 0.127, memory: 3953, heatmap_loss: 0.0004, acc_pose: 0.9580, loss: 0.0004\n",
      "2022-06-05 04:12:23,783 - mmpose - INFO - Epoch [72][40/54]\tlr: 5.000e-06, eta: 0:04:47, time: 0.191, data_time: 0.001, memory: 3953, heatmap_loss: 0.0004, acc_pose: 0.9605, loss: 0.0004\n",
      "2022-06-05 04:12:26,429 - mmpose - INFO - Saving checkpoint at 72 epochs\n"
     ]
    },
    {
     "name": "stdout",
     "output_type": "stream",
     "text": [
      "[                                                  ] 0/416, elapsed: 0s, ETA:"
     ]
    },
    {
     "name": "stderr",
     "output_type": "stream",
     "text": [
      "[W pthreadpool-cpp.cc:90] Warning: Leaking Caffe2 thread-pool after fork. (function pthreadpool)\n",
      "[W pthreadpool-cpp.cc:90] Warning: Leaking Caffe2 thread-pool after fork. (function pthreadpool)\n"
     ]
    },
    {
     "name": "stdout",
     "output_type": "stream",
     "text": [
      "[>>>>>>>>>>>>>>>>>>>>>>>>>>>>>] 416/416, 186.9 task/s, elapsed: 2s, ETA:     0s"
     ]
    },
    {
     "name": "stderr",
     "output_type": "stream",
     "text": [
      "2022-06-05 04:12:29,451 - mmpose - INFO - Epoch(val) [72][13]\tPCK: 0.9983, AUC: 0.8826, EPE: 2.8505\n",
      "[W pthreadpool-cpp.cc:90] Warning: Leaking Caffe2 thread-pool after fork. (function pthreadpool)\n",
      "[W pthreadpool-cpp.cc:90] Warning: Leaking Caffe2 thread-pool after fork. (function pthreadpool)\n",
      "2022-06-05 04:12:35,824 - mmpose - INFO - Epoch [73][20/54]\tlr: 5.000e-06, eta: 0:04:40, time: 0.318, data_time: 0.126, memory: 3953, heatmap_loss: 0.0004, acc_pose: 0.9608, loss: 0.0004\n",
      "2022-06-05 04:12:39,600 - mmpose - INFO - Epoch [73][40/54]\tlr: 5.000e-06, eta: 0:04:37, time: 0.189, data_time: 0.001, memory: 3953, heatmap_loss: 0.0004, acc_pose: 0.9609, loss: 0.0004\n",
      "2022-06-05 04:12:42,226 - mmpose - INFO - Saving checkpoint at 73 epochs\n"
     ]
    },
    {
     "name": "stdout",
     "output_type": "stream",
     "text": [
      "[                                                  ] 0/416, elapsed: 0s, ETA:"
     ]
    },
    {
     "name": "stderr",
     "output_type": "stream",
     "text": [
      "[W pthreadpool-cpp.cc:90] Warning: Leaking Caffe2 thread-pool after fork. (function pthreadpool)\n",
      "[W pthreadpool-cpp.cc:90] Warning: Leaking Caffe2 thread-pool after fork. (function pthreadpool)\n"
     ]
    },
    {
     "name": "stdout",
     "output_type": "stream",
     "text": [
      "[>>>>>>>>>>>>>>>>>>>>>>>>>>>>>] 416/416, 193.2 task/s, elapsed: 2s, ETA:     0s"
     ]
    },
    {
     "name": "stderr",
     "output_type": "stream",
     "text": [
      "2022-06-05 04:12:45,201 - mmpose - INFO - Epoch(val) [73][13]\tPCK: 0.9983, AUC: 0.8825, EPE: 2.8525\n",
      "[W pthreadpool-cpp.cc:90] Warning: Leaking Caffe2 thread-pool after fork. (function pthreadpool)\n",
      "[W pthreadpool-cpp.cc:90] Warning: Leaking Caffe2 thread-pool after fork. (function pthreadpool)\n",
      "2022-06-05 04:12:51,585 - mmpose - INFO - Epoch [74][20/54]\tlr: 5.000e-06, eta: 0:04:30, time: 0.319, data_time: 0.126, memory: 3953, heatmap_loss: 0.0004, acc_pose: 0.9646, loss: 0.0004\n",
      "2022-06-05 04:12:55,363 - mmpose - INFO - Epoch [74][40/54]\tlr: 5.000e-06, eta: 0:04:26, time: 0.189, data_time: 0.001, memory: 3953, heatmap_loss: 0.0004, acc_pose: 0.9639, loss: 0.0004\n",
      "2022-06-05 04:12:58,020 - mmpose - INFO - Saving checkpoint at 74 epochs\n"
     ]
    },
    {
     "name": "stdout",
     "output_type": "stream",
     "text": [
      "[                                                  ] 0/416, elapsed: 0s, ETA:"
     ]
    },
    {
     "name": "stderr",
     "output_type": "stream",
     "text": [
      "[W pthreadpool-cpp.cc:90] Warning: Leaking Caffe2 thread-pool after fork. (function pthreadpool)\n",
      "[W pthreadpool-cpp.cc:90] Warning: Leaking Caffe2 thread-pool after fork. (function pthreadpool)\n"
     ]
    },
    {
     "name": "stdout",
     "output_type": "stream",
     "text": [
      "[>>>>>>>>>>>>>>>>>>>>>>>>>>>>>] 416/416, 192.6 task/s, elapsed: 2s, ETA:     0s"
     ]
    },
    {
     "name": "stderr",
     "output_type": "stream",
     "text": [
      "2022-06-05 04:13:01,010 - mmpose - INFO - The previous best checkpoint /opt/ml/mmpose/work_dirs/mobilev3_freihand2d_224x224_cv7a/best_AUC_epoch_63.pth was removed\n",
      "2022-06-05 04:13:01,201 - mmpose - INFO - Now best checkpoint is saved as best_AUC_epoch_74.pth.\n",
      "2022-06-05 04:13:01,202 - mmpose - INFO - Best AUC is 0.8827 at 74 epoch.\n",
      "2022-06-05 04:13:01,203 - mmpose - INFO - Epoch(val) [74][13]\tPCK: 0.9983, AUC: 0.8827, EPE: 2.8485\n",
      "[W pthreadpool-cpp.cc:90] Warning: Leaking Caffe2 thread-pool after fork. (function pthreadpool)\n",
      "[W pthreadpool-cpp.cc:90] Warning: Leaking Caffe2 thread-pool after fork. (function pthreadpool)\n",
      "2022-06-05 04:13:07,585 - mmpose - INFO - Epoch [75][20/54]\tlr: 5.000e-06, eta: 0:04:20, time: 0.319, data_time: 0.126, memory: 3953, heatmap_loss: 0.0004, acc_pose: 0.9656, loss: 0.0004\n",
      "2022-06-05 04:13:11,341 - mmpose - INFO - Epoch [75][40/54]\tlr: 5.000e-06, eta: 0:04:16, time: 0.188, data_time: 0.001, memory: 3953, heatmap_loss: 0.0004, acc_pose: 0.9634, loss: 0.0004\n",
      "2022-06-05 04:13:13,988 - mmpose - INFO - Saving checkpoint at 75 epochs\n"
     ]
    },
    {
     "name": "stdout",
     "output_type": "stream",
     "text": [
      "[                                                  ] 0/416, elapsed: 0s, ETA:"
     ]
    },
    {
     "name": "stderr",
     "output_type": "stream",
     "text": [
      "[W pthreadpool-cpp.cc:90] Warning: Leaking Caffe2 thread-pool after fork. (function pthreadpool)\n",
      "[W pthreadpool-cpp.cc:90] Warning: Leaking Caffe2 thread-pool after fork. (function pthreadpool)\n"
     ]
    },
    {
     "name": "stdout",
     "output_type": "stream",
     "text": [
      "[>>>>>>>>>>>>>>>>>>>>>>>>>>>>>] 416/416, 192.3 task/s, elapsed: 2s, ETA:     0s"
     ]
    },
    {
     "name": "stderr",
     "output_type": "stream",
     "text": [
      "2022-06-05 04:13:17,174 - mmpose - INFO - The previous best checkpoint /opt/ml/mmpose/work_dirs/mobilev3_freihand2d_224x224_cv7a/best_AUC_epoch_74.pth was removed\n",
      "2022-06-05 04:13:17,376 - mmpose - INFO - Now best checkpoint is saved as best_AUC_epoch_75.pth.\n",
      "2022-06-05 04:13:17,377 - mmpose - INFO - Best AUC is 0.8828 at 75 epoch.\n",
      "2022-06-05 04:13:17,378 - mmpose - INFO - Epoch(val) [75][13]\tPCK: 0.9983, AUC: 0.8828, EPE: 2.8431\n",
      "[W pthreadpool-cpp.cc:90] Warning: Leaking Caffe2 thread-pool after fork. (function pthreadpool)\n",
      "[W pthreadpool-cpp.cc:90] Warning: Leaking Caffe2 thread-pool after fork. (function pthreadpool)\n",
      "2022-06-05 04:13:23,765 - mmpose - INFO - Epoch [76][20/54]\tlr: 5.000e-06, eta: 0:04:10, time: 0.319, data_time: 0.127, memory: 3953, heatmap_loss: 0.0004, acc_pose: 0.9613, loss: 0.0004\n",
      "2022-06-05 04:13:27,510 - mmpose - INFO - Epoch [76][40/54]\tlr: 5.000e-06, eta: 0:04:06, time: 0.187, data_time: 0.001, memory: 3953, heatmap_loss: 0.0004, acc_pose: 0.9604, loss: 0.0004\n",
      "2022-06-05 04:13:30,142 - mmpose - INFO - Saving checkpoint at 76 epochs\n"
     ]
    },
    {
     "name": "stdout",
     "output_type": "stream",
     "text": [
      "[                                                  ] 0/416, elapsed: 0s, ETA:"
     ]
    },
    {
     "name": "stderr",
     "output_type": "stream",
     "text": [
      "[W pthreadpool-cpp.cc:90] Warning: Leaking Caffe2 thread-pool after fork. (function pthreadpool)\n",
      "[W pthreadpool-cpp.cc:90] Warning: Leaking Caffe2 thread-pool after fork. (function pthreadpool)\n"
     ]
    },
    {
     "name": "stdout",
     "output_type": "stream",
     "text": [
      "[>>>>>>>>>>>>>>>>>>>>>>>>>>>>>] 416/416, 188.3 task/s, elapsed: 2s, ETA:     0s"
     ]
    },
    {
     "name": "stderr",
     "output_type": "stream",
     "text": [
      "2022-06-05 04:13:33,188 - mmpose - INFO - Epoch(val) [76][13]\tPCK: 0.9983, AUC: 0.8824, EPE: 2.8558\n",
      "[W pthreadpool-cpp.cc:90] Warning: Leaking Caffe2 thread-pool after fork. (function pthreadpool)\n",
      "[W pthreadpool-cpp.cc:90] Warning: Leaking Caffe2 thread-pool after fork. (function pthreadpool)\n",
      "2022-06-05 04:13:39,539 - mmpose - INFO - Epoch [77][20/54]\tlr: 5.000e-06, eta: 0:04:00, time: 0.317, data_time: 0.126, memory: 3953, heatmap_loss: 0.0004, acc_pose: 0.9570, loss: 0.0004\n",
      "2022-06-05 04:13:43,284 - mmpose - INFO - Epoch [77][40/54]\tlr: 5.000e-06, eta: 0:03:56, time: 0.187, data_time: 0.001, memory: 3953, heatmap_loss: 0.0004, acc_pose: 0.9631, loss: 0.0004\n",
      "2022-06-05 04:13:45,915 - mmpose - INFO - Saving checkpoint at 77 epochs\n"
     ]
    },
    {
     "name": "stdout",
     "output_type": "stream",
     "text": [
      "[                                                  ] 0/416, elapsed: 0s, ETA:"
     ]
    },
    {
     "name": "stderr",
     "output_type": "stream",
     "text": [
      "[W pthreadpool-cpp.cc:90] Warning: Leaking Caffe2 thread-pool after fork. (function pthreadpool)\n",
      "[W pthreadpool-cpp.cc:90] Warning: Leaking Caffe2 thread-pool after fork. (function pthreadpool)\n"
     ]
    },
    {
     "name": "stdout",
     "output_type": "stream",
     "text": [
      "[>>>>>>>>>>>>>>>>>>>>>>>>>>>>>] 416/416, 191.2 task/s, elapsed: 2s, ETA:     0s"
     ]
    },
    {
     "name": "stderr",
     "output_type": "stream",
     "text": [
      "2022-06-05 04:13:48,895 - mmpose - INFO - Epoch(val) [77][13]\tPCK: 0.9983, AUC: 0.8827, EPE: 2.8449\n",
      "[W pthreadpool-cpp.cc:90] Warning: Leaking Caffe2 thread-pool after fork. (function pthreadpool)\n",
      "[W pthreadpool-cpp.cc:90] Warning: Leaking Caffe2 thread-pool after fork. (function pthreadpool)\n",
      "2022-06-05 04:13:55,250 - mmpose - INFO - Epoch [78][20/54]\tlr: 5.000e-06, eta: 0:03:49, time: 0.318, data_time: 0.125, memory: 3953, heatmap_loss: 0.0004, acc_pose: 0.9589, loss: 0.0004\n",
      "2022-06-05 04:13:59,011 - mmpose - INFO - Epoch [78][40/54]\tlr: 5.000e-06, eta: 0:03:46, time: 0.188, data_time: 0.001, memory: 3953, heatmap_loss: 0.0004, acc_pose: 0.9645, loss: 0.0004\n",
      "2022-06-05 04:14:01,635 - mmpose - INFO - Saving checkpoint at 78 epochs\n"
     ]
    },
    {
     "name": "stdout",
     "output_type": "stream",
     "text": [
      "[                                                  ] 0/416, elapsed: 0s, ETA:"
     ]
    },
    {
     "name": "stderr",
     "output_type": "stream",
     "text": [
      "[W pthreadpool-cpp.cc:90] Warning: Leaking Caffe2 thread-pool after fork. (function pthreadpool)\n",
      "[W pthreadpool-cpp.cc:90] Warning: Leaking Caffe2 thread-pool after fork. (function pthreadpool)\n"
     ]
    },
    {
     "name": "stdout",
     "output_type": "stream",
     "text": [
      "[>>>>>>>>>>>>>>>>>>>>>>>>>>>>>] 416/416, 187.9 task/s, elapsed: 2s, ETA:     0s"
     ]
    },
    {
     "name": "stderr",
     "output_type": "stream",
     "text": [
      "2022-06-05 04:14:04,665 - mmpose - INFO - Epoch(val) [78][13]\tPCK: 0.9983, AUC: 0.8825, EPE: 2.8558\n",
      "[W pthreadpool-cpp.cc:90] Warning: Leaking Caffe2 thread-pool after fork. (function pthreadpool)\n",
      "[W pthreadpool-cpp.cc:90] Warning: Leaking Caffe2 thread-pool after fork. (function pthreadpool)\n",
      "2022-06-05 04:14:11,034 - mmpose - INFO - Epoch [79][20/54]\tlr: 5.000e-06, eta: 0:03:39, time: 0.318, data_time: 0.127, memory: 3953, heatmap_loss: 0.0004, acc_pose: 0.9643, loss: 0.0004\n",
      "2022-06-05 04:14:14,785 - mmpose - INFO - Epoch [79][40/54]\tlr: 5.000e-06, eta: 0:03:36, time: 0.188, data_time: 0.000, memory: 3953, heatmap_loss: 0.0004, acc_pose: 0.9634, loss: 0.0004\n",
      "2022-06-05 04:14:17,428 - mmpose - INFO - Saving checkpoint at 79 epochs\n"
     ]
    },
    {
     "name": "stdout",
     "output_type": "stream",
     "text": [
      "[                                                  ] 0/416, elapsed: 0s, ETA:"
     ]
    },
    {
     "name": "stderr",
     "output_type": "stream",
     "text": [
      "[W pthreadpool-cpp.cc:90] Warning: Leaking Caffe2 thread-pool after fork. (function pthreadpool)\n",
      "[W pthreadpool-cpp.cc:90] Warning: Leaking Caffe2 thread-pool after fork. (function pthreadpool)\n"
     ]
    },
    {
     "name": "stdout",
     "output_type": "stream",
     "text": [
      "[>>>>>>>>>>>>>>>>>>>>>>>>>>>>>] 416/416, 193.0 task/s, elapsed: 2s, ETA:     0s"
     ]
    },
    {
     "name": "stderr",
     "output_type": "stream",
     "text": [
      "2022-06-05 04:14:20,403 - mmpose - INFO - Epoch(val) [79][13]\tPCK: 0.9983, AUC: 0.8825, EPE: 2.8546\n",
      "[W pthreadpool-cpp.cc:90] Warning: Leaking Caffe2 thread-pool after fork. (function pthreadpool)\n",
      "[W pthreadpool-cpp.cc:90] Warning: Leaking Caffe2 thread-pool after fork. (function pthreadpool)\n",
      "2022-06-05 04:14:26,775 - mmpose - INFO - Epoch [80][20/54]\tlr: 5.000e-06, eta: 0:03:29, time: 0.318, data_time: 0.127, memory: 3953, heatmap_loss: 0.0004, acc_pose: 0.9650, loss: 0.0004\n",
      "2022-06-05 04:14:30,522 - mmpose - INFO - Epoch [80][40/54]\tlr: 5.000e-06, eta: 0:03:25, time: 0.187, data_time: 0.000, memory: 3953, heatmap_loss: 0.0004, acc_pose: 0.9578, loss: 0.0004\n",
      "2022-06-05 04:14:33,147 - mmpose - INFO - Saving checkpoint at 80 epochs\n"
     ]
    },
    {
     "name": "stdout",
     "output_type": "stream",
     "text": [
      "[                                                  ] 0/416, elapsed: 0s, ETA:"
     ]
    },
    {
     "name": "stderr",
     "output_type": "stream",
     "text": [
      "[W pthreadpool-cpp.cc:90] Warning: Leaking Caffe2 thread-pool after fork. (function pthreadpool)\n",
      "[W pthreadpool-cpp.cc:90] Warning: Leaking Caffe2 thread-pool after fork. (function pthreadpool)\n"
     ]
    },
    {
     "name": "stdout",
     "output_type": "stream",
     "text": [
      "[>>>>>>>>>>>>>>>>>>>>>>>>>>>>>] 416/416, 191.9 task/s, elapsed: 2s, ETA:     0s"
     ]
    },
    {
     "name": "stderr",
     "output_type": "stream",
     "text": [
      "2022-06-05 04:14:36,087 - mmpose - INFO - Epoch(val) [80][13]\tPCK: 0.9983, AUC: 0.8826, EPE: 2.8511\n",
      "[W pthreadpool-cpp.cc:90] Warning: Leaking Caffe2 thread-pool after fork. (function pthreadpool)\n",
      "[W pthreadpool-cpp.cc:90] Warning: Leaking Caffe2 thread-pool after fork. (function pthreadpool)\n",
      "2022-06-05 04:14:42,454 - mmpose - INFO - Epoch [81][20/54]\tlr: 5.000e-06, eta: 0:03:19, time: 0.318, data_time: 0.127, memory: 3953, heatmap_loss: 0.0004, acc_pose: 0.9638, loss: 0.0004\n",
      "2022-06-05 04:14:46,221 - mmpose - INFO - Epoch [81][40/54]\tlr: 5.000e-06, eta: 0:03:15, time: 0.188, data_time: 0.000, memory: 3953, heatmap_loss: 0.0004, acc_pose: 0.9622, loss: 0.0004\n",
      "2022-06-05 04:14:48,860 - mmpose - INFO - Saving checkpoint at 81 epochs\n"
     ]
    },
    {
     "name": "stdout",
     "output_type": "stream",
     "text": [
      "[                                                  ] 0/416, elapsed: 0s, ETA:"
     ]
    },
    {
     "name": "stderr",
     "output_type": "stream",
     "text": [
      "[W pthreadpool-cpp.cc:90] Warning: Leaking Caffe2 thread-pool after fork. (function pthreadpool)\n",
      "[W pthreadpool-cpp.cc:90] Warning: Leaking Caffe2 thread-pool after fork. (function pthreadpool)\n"
     ]
    },
    {
     "name": "stdout",
     "output_type": "stream",
     "text": [
      "[>>>>>>>>>>>>>>>>>>>>>>>>>>>>>] 416/416, 187.1 task/s, elapsed: 2s, ETA:     0s"
     ]
    },
    {
     "name": "stderr",
     "output_type": "stream",
     "text": [
      "2022-06-05 04:14:52,106 - mmpose - INFO - Epoch(val) [81][13]\tPCK: 0.9983, AUC: 0.8825, EPE: 2.8537\n",
      "[W pthreadpool-cpp.cc:90] Warning: Leaking Caffe2 thread-pool after fork. (function pthreadpool)\n",
      "[W pthreadpool-cpp.cc:90] Warning: Leaking Caffe2 thread-pool after fork. (function pthreadpool)\n",
      "2022-06-05 04:14:58,448 - mmpose - INFO - Epoch [82][20/54]\tlr: 5.000e-06, eta: 0:03:09, time: 0.317, data_time: 0.126, memory: 3953, heatmap_loss: 0.0004, acc_pose: 0.9631, loss: 0.0004\n",
      "2022-06-05 04:15:02,208 - mmpose - INFO - Epoch [82][40/54]\tlr: 5.000e-06, eta: 0:03:05, time: 0.188, data_time: 0.000, memory: 3953, heatmap_loss: 0.0004, acc_pose: 0.9576, loss: 0.0004\n",
      "2022-06-05 04:15:04,868 - mmpose - INFO - Saving checkpoint at 82 epochs\n"
     ]
    },
    {
     "name": "stdout",
     "output_type": "stream",
     "text": [
      "[                                                  ] 0/416, elapsed: 0s, ETA:"
     ]
    },
    {
     "name": "stderr",
     "output_type": "stream",
     "text": [
      "[W pthreadpool-cpp.cc:90] Warning: Leaking Caffe2 thread-pool after fork. (function pthreadpool)\n",
      "[W pthreadpool-cpp.cc:90] Warning: Leaking Caffe2 thread-pool after fork. (function pthreadpool)\n"
     ]
    },
    {
     "name": "stdout",
     "output_type": "stream",
     "text": [
      "[>>>>>>>>>>>>>>>>>>>>>>>>>>>>>] 416/416, 192.7 task/s, elapsed: 2s, ETA:     0s"
     ]
    },
    {
     "name": "stderr",
     "output_type": "stream",
     "text": [
      "2022-06-05 04:15:07,846 - mmpose - INFO - Epoch(val) [82][13]\tPCK: 0.9983, AUC: 0.8825, EPE: 2.8520\n",
      "[W pthreadpool-cpp.cc:90] Warning: Leaking Caffe2 thread-pool after fork. (function pthreadpool)\n",
      "[W pthreadpool-cpp.cc:90] Warning: Leaking Caffe2 thread-pool after fork. (function pthreadpool)\n",
      "2022-06-05 04:15:14,252 - mmpose - INFO - Epoch [83][20/54]\tlr: 5.000e-06, eta: 0:02:59, time: 0.320, data_time: 0.126, memory: 3953, heatmap_loss: 0.0004, acc_pose: 0.9606, loss: 0.0004\n",
      "2022-06-05 04:15:18,056 - mmpose - INFO - Epoch [83][40/54]\tlr: 5.000e-06, eta: 0:02:55, time: 0.190, data_time: 0.000, memory: 3953, heatmap_loss: 0.0004, acc_pose: 0.9621, loss: 0.0004\n",
      "2022-06-05 04:15:20,715 - mmpose - INFO - Saving checkpoint at 83 epochs\n"
     ]
    },
    {
     "name": "stdout",
     "output_type": "stream",
     "text": [
      "[                                                  ] 0/416, elapsed: 0s, ETA:"
     ]
    },
    {
     "name": "stderr",
     "output_type": "stream",
     "text": [
      "[W pthreadpool-cpp.cc:90] Warning: Leaking Caffe2 thread-pool after fork. (function pthreadpool)\n",
      "[W pthreadpool-cpp.cc:90] Warning: Leaking Caffe2 thread-pool after fork. (function pthreadpool)\n"
     ]
    },
    {
     "name": "stdout",
     "output_type": "stream",
     "text": [
      "[>>>>>>>>>>>>>>>>>>>>>>>>>>>>>] 416/416, 185.9 task/s, elapsed: 2s, ETA:     0s"
     ]
    },
    {
     "name": "stderr",
     "output_type": "stream",
     "text": [
      "2022-06-05 04:15:23,729 - mmpose - INFO - Epoch(val) [83][13]\tPCK: 0.9983, AUC: 0.8827, EPE: 2.8478\n",
      "[W pthreadpool-cpp.cc:90] Warning: Leaking Caffe2 thread-pool after fork. (function pthreadpool)\n",
      "[W pthreadpool-cpp.cc:90] Warning: Leaking Caffe2 thread-pool after fork. (function pthreadpool)\n",
      "2022-06-05 04:15:30,077 - mmpose - INFO - Epoch [84][20/54]\tlr: 5.000e-06, eta: 0:02:48, time: 0.317, data_time: 0.126, memory: 3953, heatmap_loss: 0.0004, acc_pose: 0.9609, loss: 0.0004\n",
      "2022-06-05 04:15:33,830 - mmpose - INFO - Epoch [84][40/54]\tlr: 5.000e-06, eta: 0:02:45, time: 0.188, data_time: 0.000, memory: 3953, heatmap_loss: 0.0004, acc_pose: 0.9611, loss: 0.0004\n",
      "2022-06-05 04:15:36,441 - mmpose - INFO - Saving checkpoint at 84 epochs\n"
     ]
    },
    {
     "name": "stdout",
     "output_type": "stream",
     "text": [
      "[                                                  ] 0/416, elapsed: 0s, ETA:"
     ]
    },
    {
     "name": "stderr",
     "output_type": "stream",
     "text": [
      "[W pthreadpool-cpp.cc:90] Warning: Leaking Caffe2 thread-pool after fork. (function pthreadpool)\n",
      "[W pthreadpool-cpp.cc:90] Warning: Leaking Caffe2 thread-pool after fork. (function pthreadpool)\n"
     ]
    },
    {
     "name": "stdout",
     "output_type": "stream",
     "text": [
      "[>>>>>>>>>>>>>>>>>>>>>>>>>>>>>] 416/416, 191.4 task/s, elapsed: 2s, ETA:     0s"
     ]
    },
    {
     "name": "stderr",
     "output_type": "stream",
     "text": [
      "2022-06-05 04:15:39,372 - mmpose - INFO - Epoch(val) [84][13]\tPCK: 0.9983, AUC: 0.8826, EPE: 2.8477\n",
      "[W pthreadpool-cpp.cc:90] Warning: Leaking Caffe2 thread-pool after fork. (function pthreadpool)\n",
      "[W pthreadpool-cpp.cc:90] Warning: Leaking Caffe2 thread-pool after fork. (function pthreadpool)\n",
      "2022-06-05 04:15:45,733 - mmpose - INFO - Epoch [85][20/54]\tlr: 5.000e-06, eta: 0:02:38, time: 0.318, data_time: 0.126, memory: 3953, heatmap_loss: 0.0004, acc_pose: 0.9624, loss: 0.0004\n",
      "2022-06-05 04:15:49,476 - mmpose - INFO - Epoch [85][40/54]\tlr: 5.000e-06, eta: 0:02:35, time: 0.187, data_time: 0.000, memory: 3953, heatmap_loss: 0.0004, acc_pose: 0.9613, loss: 0.0004\n",
      "2022-06-05 04:15:52,115 - mmpose - INFO - Saving checkpoint at 85 epochs\n"
     ]
    },
    {
     "name": "stdout",
     "output_type": "stream",
     "text": [
      "[                                                  ] 0/416, elapsed: 0s, ETA:"
     ]
    },
    {
     "name": "stderr",
     "output_type": "stream",
     "text": [
      "[W pthreadpool-cpp.cc:90] Warning: Leaking Caffe2 thread-pool after fork. (function pthreadpool)\n",
      "[W pthreadpool-cpp.cc:90] Warning: Leaking Caffe2 thread-pool after fork. (function pthreadpool)\n"
     ]
    },
    {
     "name": "stdout",
     "output_type": "stream",
     "text": [
      "[>>>>>>>>>>>>>>>>>>>>>>>>>>>>>] 416/416, 190.9 task/s, elapsed: 2s, ETA:     0s"
     ]
    },
    {
     "name": "stderr",
     "output_type": "stream",
     "text": [
      "2022-06-05 04:15:55,065 - mmpose - INFO - Epoch(val) [85][13]\tPCK: 0.9983, AUC: 0.8824, EPE: 2.8567\n",
      "[W pthreadpool-cpp.cc:90] Warning: Leaking Caffe2 thread-pool after fork. (function pthreadpool)\n",
      "[W pthreadpool-cpp.cc:90] Warning: Leaking Caffe2 thread-pool after fork. (function pthreadpool)\n",
      "2022-06-05 04:16:01,423 - mmpose - INFO - Epoch [86][20/54]\tlr: 5.000e-06, eta: 0:02:28, time: 0.318, data_time: 0.127, memory: 3953, heatmap_loss: 0.0004, acc_pose: 0.9626, loss: 0.0004\n",
      "2022-06-05 04:16:05,205 - mmpose - INFO - Epoch [86][40/54]\tlr: 5.000e-06, eta: 0:02:24, time: 0.189, data_time: 0.000, memory: 3953, heatmap_loss: 0.0004, acc_pose: 0.9580, loss: 0.0004\n",
      "2022-06-05 04:16:07,866 - mmpose - INFO - Saving checkpoint at 86 epochs\n"
     ]
    },
    {
     "name": "stdout",
     "output_type": "stream",
     "text": [
      "[                                                  ] 0/416, elapsed: 0s, ETA:"
     ]
    },
    {
     "name": "stderr",
     "output_type": "stream",
     "text": [
      "[W pthreadpool-cpp.cc:90] Warning: Leaking Caffe2 thread-pool after fork. (function pthreadpool)\n",
      "[W pthreadpool-cpp.cc:90] Warning: Leaking Caffe2 thread-pool after fork. (function pthreadpool)\n"
     ]
    },
    {
     "name": "stdout",
     "output_type": "stream",
     "text": [
      "[>>>>>>>>>>>>>>>>>>>>>>>>>>>>>] 416/416, 195.9 task/s, elapsed: 2s, ETA:     0s"
     ]
    },
    {
     "name": "stderr",
     "output_type": "stream",
     "text": [
      "2022-06-05 04:16:10,761 - mmpose - INFO - Epoch(val) [86][13]\tPCK: 0.9983, AUC: 0.8826, EPE: 2.8488\n",
      "[W pthreadpool-cpp.cc:90] Warning: Leaking Caffe2 thread-pool after fork. (function pthreadpool)\n",
      "[W pthreadpool-cpp.cc:90] Warning: Leaking Caffe2 thread-pool after fork. (function pthreadpool)\n",
      "2022-06-05 04:16:17,125 - mmpose - INFO - Epoch [87][20/54]\tlr: 5.000e-06, eta: 0:02:18, time: 0.318, data_time: 0.126, memory: 3953, heatmap_loss: 0.0004, acc_pose: 0.9643, loss: 0.0004\n",
      "2022-06-05 04:16:20,870 - mmpose - INFO - Epoch [87][40/54]\tlr: 5.000e-06, eta: 0:02:14, time: 0.187, data_time: 0.000, memory: 3953, heatmap_loss: 0.0004, acc_pose: 0.9602, loss: 0.0004\n",
      "2022-06-05 04:16:23,489 - mmpose - INFO - Saving checkpoint at 87 epochs\n"
     ]
    },
    {
     "name": "stdout",
     "output_type": "stream",
     "text": [
      "[                                                  ] 0/416, elapsed: 0s, ETA:"
     ]
    },
    {
     "name": "stderr",
     "output_type": "stream",
     "text": [
      "[W pthreadpool-cpp.cc:90] Warning: Leaking Caffe2 thread-pool after fork. (function pthreadpool)\n",
      "[W pthreadpool-cpp.cc:90] Warning: Leaking Caffe2 thread-pool after fork. (function pthreadpool)\n"
     ]
    },
    {
     "name": "stdout",
     "output_type": "stream",
     "text": [
      "[>>>>>>>>>>>>>>>>>>>>>>>>>>>>>] 416/416, 187.0 task/s, elapsed: 2s, ETA:     0s"
     ]
    },
    {
     "name": "stderr",
     "output_type": "stream",
     "text": [
      "2022-06-05 04:16:26,535 - mmpose - INFO - Epoch(val) [87][13]\tPCK: 0.9983, AUC: 0.8824, EPE: 2.8561\n",
      "[W pthreadpool-cpp.cc:90] Warning: Leaking Caffe2 thread-pool after fork. (function pthreadpool)\n",
      "[W pthreadpool-cpp.cc:90] Warning: Leaking Caffe2 thread-pool after fork. (function pthreadpool)\n",
      "2022-06-05 04:16:33,295 - mmpose - INFO - Epoch [88][20/54]\tlr: 5.000e-06, eta: 0:02:08, time: 0.338, data_time: 0.139, memory: 3953, heatmap_loss: 0.0004, acc_pose: 0.9638, loss: 0.0004\n",
      "2022-06-05 04:16:37,051 - mmpose - INFO - Epoch [88][40/54]\tlr: 5.000e-06, eta: 0:02:04, time: 0.188, data_time: 0.001, memory: 3953, heatmap_loss: 0.0004, acc_pose: 0.9599, loss: 0.0004\n",
      "2022-06-05 04:16:39,657 - mmpose - INFO - Saving checkpoint at 88 epochs\n"
     ]
    },
    {
     "name": "stdout",
     "output_type": "stream",
     "text": [
      "[                                                  ] 0/416, elapsed: 0s, ETA:"
     ]
    },
    {
     "name": "stderr",
     "output_type": "stream",
     "text": [
      "[W pthreadpool-cpp.cc:90] Warning: Leaking Caffe2 thread-pool after fork. (function pthreadpool)\n",
      "[W pthreadpool-cpp.cc:90] Warning: Leaking Caffe2 thread-pool after fork. (function pthreadpool)\n"
     ]
    },
    {
     "name": "stdout",
     "output_type": "stream",
     "text": [
      "[>>>>>>>>>>>>>>>>>>>>>>>>>>>>>] 416/416, 191.1 task/s, elapsed: 2s, ETA:     0s"
     ]
    },
    {
     "name": "stderr",
     "output_type": "stream",
     "text": [
      "2022-06-05 04:16:42,655 - mmpose - INFO - Epoch(val) [88][13]\tPCK: 0.9983, AUC: 0.8824, EPE: 2.8577\n",
      "[W pthreadpool-cpp.cc:90] Warning: Leaking Caffe2 thread-pool after fork. (function pthreadpool)\n",
      "[W pthreadpool-cpp.cc:90] Warning: Leaking Caffe2 thread-pool after fork. (function pthreadpool)\n",
      "2022-06-05 04:16:49,021 - mmpose - INFO - Epoch [89][20/54]\tlr: 5.000e-06, eta: 0:01:58, time: 0.318, data_time: 0.128, memory: 3953, heatmap_loss: 0.0004, acc_pose: 0.9628, loss: 0.0004\n",
      "2022-06-05 04:16:52,797 - mmpose - INFO - Epoch [89][40/54]\tlr: 5.000e-06, eta: 0:01:54, time: 0.189, data_time: 0.000, memory: 3953, heatmap_loss: 0.0004, acc_pose: 0.9607, loss: 0.0004\n",
      "2022-06-05 04:16:55,439 - mmpose - INFO - Saving checkpoint at 89 epochs\n"
     ]
    },
    {
     "name": "stdout",
     "output_type": "stream",
     "text": [
      "[                                                  ] 0/416, elapsed: 0s, ETA:"
     ]
    },
    {
     "name": "stderr",
     "output_type": "stream",
     "text": [
      "[W pthreadpool-cpp.cc:90] Warning: Leaking Caffe2 thread-pool after fork. (function pthreadpool)\n",
      "[W pthreadpool-cpp.cc:90] Warning: Leaking Caffe2 thread-pool after fork. (function pthreadpool)\n"
     ]
    },
    {
     "name": "stdout",
     "output_type": "stream",
     "text": [
      "[>>>>>>>>>>>>>>>>>>>>>>>>>>>>>] 416/416, 189.6 task/s, elapsed: 2s, ETA:     0s"
     ]
    },
    {
     "name": "stderr",
     "output_type": "stream",
     "text": [
      "2022-06-05 04:16:58,441 - mmpose - INFO - Epoch(val) [89][13]\tPCK: 0.9983, AUC: 0.8822, EPE: 2.8602\n",
      "[W pthreadpool-cpp.cc:90] Warning: Leaking Caffe2 thread-pool after fork. (function pthreadpool)\n",
      "[W pthreadpool-cpp.cc:90] Warning: Leaking Caffe2 thread-pool after fork. (function pthreadpool)\n",
      "2022-06-05 04:17:04,795 - mmpose - INFO - Epoch [90][20/54]\tlr: 5.000e-06, eta: 0:01:48, time: 0.318, data_time: 0.126, memory: 3953, heatmap_loss: 0.0004, acc_pose: 0.9580, loss: 0.0004\n",
      "2022-06-05 04:17:08,543 - mmpose - INFO - Epoch [90][40/54]\tlr: 5.000e-06, eta: 0:01:44, time: 0.187, data_time: 0.001, memory: 3953, heatmap_loss: 0.0004, acc_pose: 0.9633, loss: 0.0004\n",
      "2022-06-05 04:17:11,207 - mmpose - INFO - Saving checkpoint at 90 epochs\n"
     ]
    },
    {
     "name": "stdout",
     "output_type": "stream",
     "text": [
      "[                                                  ] 0/416, elapsed: 0s, ETA:"
     ]
    },
    {
     "name": "stderr",
     "output_type": "stream",
     "text": [
      "[W pthreadpool-cpp.cc:90] Warning: Leaking Caffe2 thread-pool after fork. (function pthreadpool)\n",
      "[W pthreadpool-cpp.cc:90] Warning: Leaking Caffe2 thread-pool after fork. (function pthreadpool)\n"
     ]
    },
    {
     "name": "stdout",
     "output_type": "stream",
     "text": [
      "[>>>>>>>>>>>>>>>>>>>>>>>>>>>>>] 416/416, 190.3 task/s, elapsed: 2s, ETA:     0s"
     ]
    },
    {
     "name": "stderr",
     "output_type": "stream",
     "text": [
      "2022-06-05 04:17:14,245 - mmpose - INFO - Epoch(val) [90][13]\tPCK: 0.9983, AUC: 0.8826, EPE: 2.8502\n",
      "[W pthreadpool-cpp.cc:90] Warning: Leaking Caffe2 thread-pool after fork. (function pthreadpool)\n",
      "[W pthreadpool-cpp.cc:90] Warning: Leaking Caffe2 thread-pool after fork. (function pthreadpool)\n",
      "2022-06-05 04:17:20,574 - mmpose - INFO - Epoch [91][20/54]\tlr: 5.000e-06, eta: 0:01:37, time: 0.316, data_time: 0.126, memory: 3953, heatmap_loss: 0.0004, acc_pose: 0.9623, loss: 0.0004\n",
      "2022-06-05 04:17:24,323 - mmpose - INFO - Epoch [91][40/54]\tlr: 5.000e-06, eta: 0:01:34, time: 0.187, data_time: 0.000, memory: 3953, heatmap_loss: 0.0004, acc_pose: 0.9634, loss: 0.0004\n",
      "2022-06-05 04:17:26,958 - mmpose - INFO - Saving checkpoint at 91 epochs\n"
     ]
    },
    {
     "name": "stdout",
     "output_type": "stream",
     "text": [
      "[                                                  ] 0/416, elapsed: 0s, ETA:"
     ]
    },
    {
     "name": "stderr",
     "output_type": "stream",
     "text": [
      "[W pthreadpool-cpp.cc:90] Warning: Leaking Caffe2 thread-pool after fork. (function pthreadpool)\n",
      "[W pthreadpool-cpp.cc:90] Warning: Leaking Caffe2 thread-pool after fork. (function pthreadpool)\n"
     ]
    },
    {
     "name": "stdout",
     "output_type": "stream",
     "text": [
      "[>>>>>>>>>>>>>>>>>>>>>>>>>>>>>] 416/416, 197.6 task/s, elapsed: 2s, ETA:     0s"
     ]
    },
    {
     "name": "stderr",
     "output_type": "stream",
     "text": [
      "2022-06-05 04:17:29,867 - mmpose - INFO - Epoch(val) [91][13]\tPCK: 0.9983, AUC: 0.8828, EPE: 2.8462\n",
      "[W pthreadpool-cpp.cc:90] Warning: Leaking Caffe2 thread-pool after fork. (function pthreadpool)\n",
      "[W pthreadpool-cpp.cc:90] Warning: Leaking Caffe2 thread-pool after fork. (function pthreadpool)\n",
      "2022-06-05 04:17:36,220 - mmpose - INFO - Epoch [92][20/54]\tlr: 5.000e-06, eta: 0:01:27, time: 0.317, data_time: 0.126, memory: 3953, heatmap_loss: 0.0004, acc_pose: 0.9641, loss: 0.0004\n",
      "2022-06-05 04:17:39,967 - mmpose - INFO - Epoch [92][40/54]\tlr: 5.000e-06, eta: 0:01:23, time: 0.187, data_time: 0.000, memory: 3953, heatmap_loss: 0.0004, acc_pose: 0.9638, loss: 0.0004\n",
      "2022-06-05 04:17:42,615 - mmpose - INFO - Saving checkpoint at 92 epochs\n"
     ]
    },
    {
     "name": "stdout",
     "output_type": "stream",
     "text": [
      "[                                                  ] 0/416, elapsed: 0s, ETA:"
     ]
    },
    {
     "name": "stderr",
     "output_type": "stream",
     "text": [
      "[W pthreadpool-cpp.cc:90] Warning: Leaking Caffe2 thread-pool after fork. (function pthreadpool)\n",
      "[W pthreadpool-cpp.cc:90] Warning: Leaking Caffe2 thread-pool after fork. (function pthreadpool)\n"
     ]
    },
    {
     "name": "stdout",
     "output_type": "stream",
     "text": [
      "[>>>>>>>>>>>>>>>>>>>>>>>>>>>>>] 416/416, 197.8 task/s, elapsed: 2s, ETA:     0s"
     ]
    },
    {
     "name": "stderr",
     "output_type": "stream",
     "text": [
      "2022-06-05 04:17:45,540 - mmpose - INFO - Epoch(val) [92][13]\tPCK: 0.9983, AUC: 0.8826, EPE: 2.8515\n",
      "[W pthreadpool-cpp.cc:90] Warning: Leaking Caffe2 thread-pool after fork. (function pthreadpool)\n",
      "[W pthreadpool-cpp.cc:90] Warning: Leaking Caffe2 thread-pool after fork. (function pthreadpool)\n",
      "2022-06-05 04:17:51,901 - mmpose - INFO - Epoch [93][20/54]\tlr: 5.000e-06, eta: 0:01:17, time: 0.318, data_time: 0.128, memory: 3953, heatmap_loss: 0.0004, acc_pose: 0.9632, loss: 0.0004\n",
      "2022-06-05 04:17:55,659 - mmpose - INFO - Epoch [93][40/54]\tlr: 5.000e-06, eta: 0:01:13, time: 0.188, data_time: 0.000, memory: 3953, heatmap_loss: 0.0004, acc_pose: 0.9621, loss: 0.0004\n",
      "2022-06-05 04:17:58,274 - mmpose - INFO - Saving checkpoint at 93 epochs\n"
     ]
    },
    {
     "name": "stdout",
     "output_type": "stream",
     "text": [
      "[                                                  ] 0/416, elapsed: 0s, ETA:"
     ]
    },
    {
     "name": "stderr",
     "output_type": "stream",
     "text": [
      "[W pthreadpool-cpp.cc:90] Warning: Leaking Caffe2 thread-pool after fork. (function pthreadpool)\n",
      "[W pthreadpool-cpp.cc:90] Warning: Leaking Caffe2 thread-pool after fork. (function pthreadpool)\n"
     ]
    },
    {
     "name": "stdout",
     "output_type": "stream",
     "text": [
      "[>>>>>>>>>>>>>>>>>>>>>>>>>>>>>] 416/416, 195.8 task/s, elapsed: 2s, ETA:     0s"
     ]
    },
    {
     "name": "stderr",
     "output_type": "stream",
     "text": [
      "2022-06-05 04:18:01,407 - mmpose - INFO - Epoch(val) [93][13]\tPCK: 0.9983, AUC: 0.8825, EPE: 2.8510\n",
      "[W pthreadpool-cpp.cc:90] Warning: Leaking Caffe2 thread-pool after fork. (function pthreadpool)\n",
      "[W pthreadpool-cpp.cc:90] Warning: Leaking Caffe2 thread-pool after fork. (function pthreadpool)\n",
      "2022-06-05 04:18:07,774 - mmpose - INFO - Epoch [94][20/54]\tlr: 5.000e-06, eta: 0:01:07, time: 0.318, data_time: 0.126, memory: 3953, heatmap_loss: 0.0004, acc_pose: 0.9643, loss: 0.0004\n",
      "2022-06-05 04:18:11,511 - mmpose - INFO - Epoch [94][40/54]\tlr: 5.000e-06, eta: 0:01:03, time: 0.187, data_time: 0.000, memory: 3953, heatmap_loss: 0.0004, acc_pose: 0.9601, loss: 0.0004\n",
      "2022-06-05 04:18:14,138 - mmpose - INFO - Saving checkpoint at 94 epochs\n"
     ]
    },
    {
     "name": "stdout",
     "output_type": "stream",
     "text": [
      "[                                                  ] 0/416, elapsed: 0s, ETA:"
     ]
    },
    {
     "name": "stderr",
     "output_type": "stream",
     "text": [
      "[W pthreadpool-cpp.cc:90] Warning: Leaking Caffe2 thread-pool after fork. (function pthreadpool)\n",
      "[W pthreadpool-cpp.cc:90] Warning: Leaking Caffe2 thread-pool after fork. (function pthreadpool)\n"
     ]
    },
    {
     "name": "stdout",
     "output_type": "stream",
     "text": [
      "[>>>>>>>>>>>>>>>>>>>>>>>>>>>>>] 416/416, 190.8 task/s, elapsed: 2s, ETA:     0s"
     ]
    },
    {
     "name": "stderr",
     "output_type": "stream",
     "text": [
      "2022-06-05 04:18:17,135 - mmpose - INFO - Epoch(val) [94][13]\tPCK: 0.9983, AUC: 0.8825, EPE: 2.8498\n",
      "[W pthreadpool-cpp.cc:90] Warning: Leaking Caffe2 thread-pool after fork. (function pthreadpool)\n",
      "[W pthreadpool-cpp.cc:90] Warning: Leaking Caffe2 thread-pool after fork. (function pthreadpool)\n",
      "2022-06-05 04:18:23,500 - mmpose - INFO - Epoch [95][20/54]\tlr: 5.000e-06, eta: 0:00:57, time: 0.318, data_time: 0.126, memory: 3953, heatmap_loss: 0.0004, acc_pose: 0.9604, loss: 0.0004\n",
      "2022-06-05 04:18:27,246 - mmpose - INFO - Epoch [95][40/54]\tlr: 5.000e-06, eta: 0:00:53, time: 0.187, data_time: 0.001, memory: 3953, heatmap_loss: 0.0004, acc_pose: 0.9612, loss: 0.0004\n",
      "2022-06-05 04:18:29,881 - mmpose - INFO - Saving checkpoint at 95 epochs\n"
     ]
    },
    {
     "name": "stdout",
     "output_type": "stream",
     "text": [
      "[                                                  ] 0/416, elapsed: 0s, ETA:"
     ]
    },
    {
     "name": "stderr",
     "output_type": "stream",
     "text": [
      "[W pthreadpool-cpp.cc:90] Warning: Leaking Caffe2 thread-pool after fork. (function pthreadpool)\n",
      "[W pthreadpool-cpp.cc:90] Warning: Leaking Caffe2 thread-pool after fork. (function pthreadpool)\n"
     ]
    },
    {
     "name": "stdout",
     "output_type": "stream",
     "text": [
      "[>>>>>>>>>>>>>>>>>>>>>>>>>>>>>] 416/416, 187.2 task/s, elapsed: 2s, ETA:     0s"
     ]
    },
    {
     "name": "stderr",
     "output_type": "stream",
     "text": [
      "2022-06-05 04:18:32,925 - mmpose - INFO - Epoch(val) [95][13]\tPCK: 0.9983, AUC: 0.8825, EPE: 2.8561\n",
      "[W pthreadpool-cpp.cc:90] Warning: Leaking Caffe2 thread-pool after fork. (function pthreadpool)\n",
      "[W pthreadpool-cpp.cc:90] Warning: Leaking Caffe2 thread-pool after fork. (function pthreadpool)\n",
      "2022-06-05 04:18:39,267 - mmpose - INFO - Epoch [96][20/54]\tlr: 5.000e-06, eta: 0:00:47, time: 0.317, data_time: 0.126, memory: 3953, heatmap_loss: 0.0004, acc_pose: 0.9586, loss: 0.0004\n",
      "2022-06-05 04:18:43,012 - mmpose - INFO - Epoch [96][40/54]\tlr: 5.000e-06, eta: 0:00:43, time: 0.187, data_time: 0.001, memory: 3953, heatmap_loss: 0.0004, acc_pose: 0.9607, loss: 0.0004\n",
      "2022-06-05 04:18:45,621 - mmpose - INFO - Saving checkpoint at 96 epochs\n"
     ]
    },
    {
     "name": "stdout",
     "output_type": "stream",
     "text": [
      "[                                                  ] 0/416, elapsed: 0s, ETA:"
     ]
    },
    {
     "name": "stderr",
     "output_type": "stream",
     "text": [
      "[W pthreadpool-cpp.cc:90] Warning: Leaking Caffe2 thread-pool after fork. (function pthreadpool)\n",
      "[W pthreadpool-cpp.cc:90] Warning: Leaking Caffe2 thread-pool after fork. (function pthreadpool)\n"
     ]
    },
    {
     "name": "stdout",
     "output_type": "stream",
     "text": [
      "[>>>>>>>>>>>>>>>>>>>>>>>>>>>>>] 416/416, 188.3 task/s, elapsed: 2s, ETA:     0s"
     ]
    },
    {
     "name": "stderr",
     "output_type": "stream",
     "text": [
      "2022-06-05 04:18:48,640 - mmpose - INFO - Epoch(val) [96][13]\tPCK: 0.9983, AUC: 0.8825, EPE: 2.8532\n",
      "[W pthreadpool-cpp.cc:90] Warning: Leaking Caffe2 thread-pool after fork. (function pthreadpool)\n",
      "[W pthreadpool-cpp.cc:90] Warning: Leaking Caffe2 thread-pool after fork. (function pthreadpool)\n",
      "2022-06-05 04:18:55,000 - mmpose - INFO - Epoch [97][20/54]\tlr: 5.000e-06, eta: 0:00:36, time: 0.318, data_time: 0.126, memory: 3953, heatmap_loss: 0.0004, acc_pose: 0.9622, loss: 0.0004\n",
      "2022-06-05 04:18:58,779 - mmpose - INFO - Epoch [97][40/54]\tlr: 5.000e-06, eta: 0:00:33, time: 0.189, data_time: 0.001, memory: 3953, heatmap_loss: 0.0004, acc_pose: 0.9585, loss: 0.0004\n",
      "2022-06-05 04:19:01,457 - mmpose - INFO - Saving checkpoint at 97 epochs\n"
     ]
    },
    {
     "name": "stdout",
     "output_type": "stream",
     "text": [
      "[                                                  ] 0/416, elapsed: 0s, ETA:"
     ]
    },
    {
     "name": "stderr",
     "output_type": "stream",
     "text": [
      "[W pthreadpool-cpp.cc:90] Warning: Leaking Caffe2 thread-pool after fork. (function pthreadpool)\n",
      "[W pthreadpool-cpp.cc:90] Warning: Leaking Caffe2 thread-pool after fork. (function pthreadpool)\n"
     ]
    },
    {
     "name": "stdout",
     "output_type": "stream",
     "text": [
      "[>>>>>>>>>>>>>>>>>>>>>>>>>>>>>] 416/416, 180.7 task/s, elapsed: 2s, ETA:     0s"
     ]
    },
    {
     "name": "stderr",
     "output_type": "stream",
     "text": [
      "2022-06-05 04:19:04,528 - mmpose - INFO - Epoch(val) [97][13]\tPCK: 0.9983, AUC: 0.8827, EPE: 2.8488\n",
      "[W pthreadpool-cpp.cc:90] Warning: Leaking Caffe2 thread-pool after fork. (function pthreadpool)\n",
      "[W pthreadpool-cpp.cc:90] Warning: Leaking Caffe2 thread-pool after fork. (function pthreadpool)\n",
      "2022-06-05 04:19:10,947 - mmpose - INFO - Epoch [98][20/54]\tlr: 5.000e-06, eta: 0:00:26, time: 0.321, data_time: 0.127, memory: 3953, heatmap_loss: 0.0004, acc_pose: 0.9647, loss: 0.0004\n",
      "2022-06-05 04:19:14,708 - mmpose - INFO - Epoch [98][40/54]\tlr: 5.000e-06, eta: 0:00:22, time: 0.188, data_time: 0.001, memory: 3953, heatmap_loss: 0.0004, acc_pose: 0.9579, loss: 0.0004\n",
      "2022-06-05 04:19:17,330 - mmpose - INFO - Saving checkpoint at 98 epochs\n"
     ]
    },
    {
     "name": "stdout",
     "output_type": "stream",
     "text": [
      "[                                                  ] 0/416, elapsed: 0s, ETA:"
     ]
    },
    {
     "name": "stderr",
     "output_type": "stream",
     "text": [
      "[W pthreadpool-cpp.cc:90] Warning: Leaking Caffe2 thread-pool after fork. (function pthreadpool)\n",
      "[W pthreadpool-cpp.cc:90] Warning: Leaking Caffe2 thread-pool after fork. (function pthreadpool)\n"
     ]
    },
    {
     "name": "stdout",
     "output_type": "stream",
     "text": [
      "[>>>>>>>>>>>>>>>>>>>>>>>>>>>>>] 416/416, 182.5 task/s, elapsed: 2s, ETA:     0s"
     ]
    },
    {
     "name": "stderr",
     "output_type": "stream",
     "text": [
      "2022-06-05 04:19:20,632 - mmpose - INFO - Epoch(val) [98][13]\tPCK: 0.9983, AUC: 0.8825, EPE: 2.8533\n",
      "[W pthreadpool-cpp.cc:90] Warning: Leaking Caffe2 thread-pool after fork. (function pthreadpool)\n",
      "[W pthreadpool-cpp.cc:90] Warning: Leaking Caffe2 thread-pool after fork. (function pthreadpool)\n",
      "2022-06-05 04:19:27,019 - mmpose - INFO - Epoch [99][20/54]\tlr: 5.000e-06, eta: 0:00:16, time: 0.319, data_time: 0.126, memory: 3953, heatmap_loss: 0.0004, acc_pose: 0.9618, loss: 0.0004\n",
      "2022-06-05 04:19:30,819 - mmpose - INFO - Epoch [99][40/54]\tlr: 5.000e-06, eta: 0:00:12, time: 0.190, data_time: 0.000, memory: 3953, heatmap_loss: 0.0004, acc_pose: 0.9613, loss: 0.0004\n",
      "2022-06-05 04:19:33,459 - mmpose - INFO - Saving checkpoint at 99 epochs\n"
     ]
    },
    {
     "name": "stdout",
     "output_type": "stream",
     "text": [
      "[                                                  ] 0/416, elapsed: 0s, ETA:"
     ]
    },
    {
     "name": "stderr",
     "output_type": "stream",
     "text": [
      "[W pthreadpool-cpp.cc:90] Warning: Leaking Caffe2 thread-pool after fork. (function pthreadpool)\n",
      "[W pthreadpool-cpp.cc:90] Warning: Leaking Caffe2 thread-pool after fork. (function pthreadpool)\n"
     ]
    },
    {
     "name": "stdout",
     "output_type": "stream",
     "text": [
      "[>>>>>>>>>>>>>>>>>>>>>>>>>>>>>] 416/416, 188.2 task/s, elapsed: 2s, ETA:     0s"
     ]
    },
    {
     "name": "stderr",
     "output_type": "stream",
     "text": [
      "2022-06-05 04:19:36,645 - mmpose - INFO - Epoch(val) [99][13]\tPCK: 0.9983, AUC: 0.8825, EPE: 2.8549\n",
      "[W pthreadpool-cpp.cc:90] Warning: Leaking Caffe2 thread-pool after fork. (function pthreadpool)\n",
      "[W pthreadpool-cpp.cc:90] Warning: Leaking Caffe2 thread-pool after fork. (function pthreadpool)\n",
      "2022-06-05 04:19:42,991 - mmpose - INFO - Epoch [100][20/54]\tlr: 5.000e-06, eta: 0:00:06, time: 0.317, data_time: 0.126, memory: 3953, heatmap_loss: 0.0004, acc_pose: 0.9641, loss: 0.0004\n",
      "2022-06-05 04:19:46,773 - mmpose - INFO - Epoch [100][40/54]\tlr: 5.000e-06, eta: 0:00:02, time: 0.189, data_time: 0.000, memory: 3953, heatmap_loss: 0.0004, acc_pose: 0.9589, loss: 0.0004\n",
      "2022-06-05 04:19:49,437 - mmpose - INFO - Saving checkpoint at 100 epochs\n"
     ]
    },
    {
     "name": "stdout",
     "output_type": "stream",
     "text": [
      "[                                                  ] 0/416, elapsed: 0s, ETA:"
     ]
    },
    {
     "name": "stderr",
     "output_type": "stream",
     "text": [
      "[W pthreadpool-cpp.cc:90] Warning: Leaking Caffe2 thread-pool after fork. (function pthreadpool)\n",
      "[W pthreadpool-cpp.cc:90] Warning: Leaking Caffe2 thread-pool after fork. (function pthreadpool)\n"
     ]
    },
    {
     "name": "stdout",
     "output_type": "stream",
     "text": [
      "[>>>>>>>>>>>>>>>>>>>>>>>>>>>>>] 416/416, 187.5 task/s, elapsed: 2s, ETA:     0s"
     ]
    },
    {
     "name": "stderr",
     "output_type": "stream",
     "text": [
      "2022-06-05 04:19:52,821 - mmpose - INFO - Epoch(val) [100][13]\tPCK: 0.9983, AUC: 0.8824, EPE: 2.8575\n"
     ]
    },
    {
     "data": {
      "text/html": [
       "Waiting for W&B process to finish... <strong style=\"color:green\">(success).</strong>"
      ],
      "text/plain": [
       "<IPython.core.display.HTML object>"
      ]
     },
     "metadata": {},
     "output_type": "display_data"
    },
    {
     "data": {
      "application/vnd.jupyter.widget-view+json": {
       "model_id": "",
       "version_major": 2,
       "version_minor": 0
      },
      "text/plain": [
       "VBox(children=(Label(value='0.096 MB of 0.096 MB uploaded (0.000 MB deduped)\\r'), FloatProgress(value=1.0, max…"
      ]
     },
     "metadata": {},
     "output_type": "display_data"
    },
    {
     "data": {
      "text/html": [
       "<style>\n",
       "    table.wandb td:nth-child(1) { padding: 0 10px; text-align: left ; width: auto;} td:nth-child(2) {text-align: left ; width: 100%}\n",
       "    .wandb-row { display: flex; flex-direction: row; flex-wrap: wrap; justify-content: flex-start; width: 100% }\n",
       "    .wandb-col { display: flex; flex-direction: column; flex-basis: 100%; flex: 1; padding: 10px; }\n",
       "    </style>\n",
       "<div class=\"wandb-row\"><div class=\"wandb-col\"><h3>Run history:</h3><br/><table class=\"wandb\"><tr><td>learning_rate</td><td>▂▃▅▇████████████████▂▂▂▂▂▂▂▂▁▁▁▁▁▁▁▁▁▁▁▁</td></tr><tr><td>momentum</td><td>▁▁▁▁▁▁▁▁▁▁▁▁▁▁▁▁▁▁▁▁▁▁▁▁▁▁▁▁▁▁▁▁▁▁▁▁▁▁▁▁</td></tr><tr><td>train/acc_pose</td><td>▁▆▇▇████████████████████████████████████</td></tr><tr><td>train/heatmap_loss</td><td>█▄▃▂▂▂▂▂▂▂▁▁▁▁▁▁▁▁▁▁▁▁▁▁▁▁▁▁▁▁▁▁▁▁▁▁▁▁▁▁</td></tr><tr><td>train/loss</td><td>█▄▃▂▂▂▂▂▂▂▁▁▁▁▁▁▁▁▁▁▁▁▁▁▁▁▁▁▁▁▁▁▁▁▁▁▁▁▁▁</td></tr><tr><td>val/AUC</td><td>▁▆▇▇████████████████████████████████████</td></tr><tr><td>val/EPE</td><td>█▃▂▂▁▁▁▁▁▁▁▁▁▁▁▁▁▁▁▁▁▁▁▁▁▁▁▁▁▁▁▁▁▁▁▁▁▁▁▁</td></tr><tr><td>val/PCK</td><td>▁▇██████████████████████████████████████</td></tr></table><br/></div><div class=\"wandb-col\"><h3>Run summary:</h3><br/><table class=\"wandb\"><tr><td>learning_rate</td><td>1e-05</td></tr><tr><td>momentum</td><td>0.9</td></tr><tr><td>train/acc_pose</td><td>0.95887</td></tr><tr><td>train/heatmap_loss</td><td>0.00044</td></tr><tr><td>train/loss</td><td>0.00044</td></tr><tr><td>val/AUC</td><td>0.88245</td></tr><tr><td>val/EPE</td><td>2.85755</td></tr><tr><td>val/PCK</td><td>0.99828</td></tr></table><br/></div></div>"
      ],
      "text/plain": [
       "<IPython.core.display.HTML object>"
      ]
     },
     "metadata": {},
     "output_type": "display_data"
    },
    {
     "data": {
      "text/html": [
       "Synced <strong style=\"color:#cdcd00\">mobileV3</strong>: <a href=\"https://wandb.ai/star-bits/HandCursor/runs/2610p5oe\" target=\"_blank\">https://wandb.ai/star-bits/HandCursor/runs/2610p5oe</a><br/>Synced 5 W&B file(s), 0 media file(s), 1 artifact file(s) and 0 other file(s)"
      ],
      "text/plain": [
       "<IPython.core.display.HTML object>"
      ]
     },
     "metadata": {},
     "output_type": "display_data"
    },
    {
     "data": {
      "text/html": [
       "Find logs at: <code>./wandb/run-20220605_035323-2610p5oe/logs</code>"
      ],
      "text/plain": [
       "<IPython.core.display.HTML object>"
      ]
     },
     "metadata": {},
     "output_type": "display_data"
    }
   ],
   "source": [
    "# cfg\n",
    "cfg = Config.fromfile('../configs/hand/2d_kpt_sview_rgb_img/topdown_heatmap/freihand2d/mobilev3_freihand2d_224x224_cv7a.py')\n",
    "\n",
    "# epochs\n",
    "cfg.total_epochs = 100\n",
    "\n",
    "# work_dir\n",
    "cfg.work_dir = '../work_dirs/mobilev3_freihand2d_224x224_cv7a'\n",
    "\n",
    "# seed\n",
    "seed = init_random_seed(42)\n",
    "set_random_seed(seed, deterministic=True)\n",
    "cfg.seed = seed\n",
    "\n",
    "# gpu_ids\n",
    "cfg.gpu_ids = [0]\n",
    "\n",
    "# train\n",
    "cfg.data.train.ann_file = '../data/cv7ahand/annotations/cv7ahand_train.json'\n",
    "cfg.data.train.img_prefix = '../data/cv7ahand/'\n",
    "\n",
    "# val\n",
    "cfg.data.val.ann_file = '../data/cv7ahand/annotations/cv7ahand_val.json'\n",
    "cfg.data.val.img_prefix = '../data/cv7ahand/'\n",
    "\n",
    "# dataset = build_dataset\n",
    "dataset = build_dataset(cfg.data.train)\n",
    "# dataset\n",
    "# next(iter(dataset))\n",
    "\n",
    "# val dataset?\n",
    "\n",
    "model = build_posenet(cfg.model)\n",
    "\n",
    "train_model(\n",
    "    model,\n",
    "    dataset,\n",
    "    cfg,\n",
    "    distributed=False,\n",
    "    validate=True)"
   ]
  },
  {
   "cell_type": "code",
   "execution_count": null,
   "id": "b6bae8ab-18fe-4bc4-b904-595d2e8704a8",
   "metadata": {},
   "outputs": [],
   "source": []
  }
 ],
 "metadata": {
  "kernelspec": {
   "display_name": "Python 3 (ipykernel)",
   "language": "python",
   "name": "python3"
  },
  "language_info": {
   "codemirror_mode": {
    "name": "ipython",
    "version": 3
   },
   "file_extension": ".py",
   "mimetype": "text/x-python",
   "name": "python",
   "nbconvert_exporter": "python",
   "pygments_lexer": "ipython3",
   "version": "3.8.5"
  }
 },
 "nbformat": 4,
 "nbformat_minor": 5
}
