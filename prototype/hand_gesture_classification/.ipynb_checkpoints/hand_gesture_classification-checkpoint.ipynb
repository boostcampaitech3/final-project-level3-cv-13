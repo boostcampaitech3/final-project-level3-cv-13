{
 "cells": [
  {
   "cell_type": "code",
   "execution_count": 1,
   "metadata": {},
   "outputs": [],
   "source": [
    "import cv2\n",
    "import json\n",
    "import numpy as np\n",
    "import random\n",
    "from copy import deepcopy\n",
    "\n",
    "import torch\n",
    "import torch.nn as nn\n",
    "from torch.utils.data import Dataset, DataLoader\n",
    "\n",
    "from tqdm import tqdm"
   ]
  },
  {
   "cell_type": "markdown",
   "metadata": {},
   "source": [
    "# set seed"
   ]
  },
  {
   "cell_type": "code",
   "execution_count": 2,
   "metadata": {},
   "outputs": [
    {
     "data": {
      "text/plain": [
<<<<<<< HEAD
       "<torch._C.Generator at 0x7fd3b72807d0>"
=======
       "<torch._C.Generator at 0x7fa74ef367d0>"
>>>>>>> develop
      ]
     },
     "execution_count": 2,
     "metadata": {},
     "output_type": "execute_result"
    }
   ],
   "source": [
    "torch.manual_seed(0)\n",
    "random.seed(0)\n",
    "np.random.seed(0)\n",
    "\n",
    "g = torch.Generator()\n",
    "g.manual_seed(0)"
   ]
  },
  {
   "cell_type": "markdown",
   "metadata": {},
   "source": [
    "# dataset"
   ]
  },
  {
   "cell_type": "code",
   "execution_count": 3,
   "metadata": {},
   "outputs": [],
   "source": [
    "class CustomDataset(Dataset):\n",
    "    def __init__(self, json_path_list):\n",
    "        self.annotations = []\n",
    "        for json_path in json_path_list:\n",
    "            with open(json_path, 'r') as f:\n",
    "                annotations = json.load(f)\n",
    "            self.annotations.extend(annotations['annotations'])\n",
    "    \n",
    "    def __len__(self):\n",
    "        return len(self.annotations)\n",
    "    \n",
    "    def __getitem__(self, idx):\n",
    "        anno = self.annotations[idx]\n",
    "        label = anno['label']\n",
    "        label = np.eye(5)[label].astype(np.float32)\n",
    "        \n",
    "        # label smoothing\n",
    "        label = label * .9 + 0.1 / 5 \n",
    "        \n",
    "        kpts_ = np.array(anno['kpts']).reshape(-1, 2)\n",
    "        kpts_ = preprocessing(kpts_)\n",
    "        \n",
    "        return label, kpts_.astype(np.float32)\n",
    "    \n",
    "    \n",
    "def preprocessing(kpts):\n",
    "    kpts_ = deepcopy(kpts)\n",
<<<<<<< HEAD
    "#     origin_point = kpts_[0].copy()\n",
    "#     for i in range(21):\n",
    "#         kpts_[i] -= origin_point\n",
=======
>>>>>>> develop
    "    kpts_ = (kpts_ - kpts_.min(axis=0)) / (kpts_.max(axis=0) - kpts_.min(axis=0))\n",
    "    return kpts_.flatten()"
   ]
  },
  {
   "cell_type": "code",
   "execution_count": 4,
   "metadata": {},
   "outputs": [
    {
     "data": {
      "text/plain": [
       "2505"
      ]
     },
     "execution_count": 4,
     "metadata": {},
     "output_type": "execute_result"
    }
   ],
   "source": [
    "ds = CustomDataset([f'./data/annotation_{i}.json' for i in range(5)])\n",
    "len(ds)"
   ]
  },
  {
   "cell_type": "code",
   "execution_count": 5,
   "metadata": {},
   "outputs": [
    {
     "data": {
      "text/plain": [
<<<<<<< HEAD
       "(array([0.91999996, 0.02      , 0.02      , 0.02      , 0.02      ],\n",
       "       dtype=float32),\n",
=======
       "(array([1., 0., 0., 0., 0.], dtype=float32),\n",
>>>>>>> develop
       " array([0.21594635, 1.        , 0.443099  , 0.9287557 , 0.6469579 ,\n",
       "        0.7714337 , 0.8361737 , 0.6478518 , 1.        , 0.57608795,\n",
       "        0.49768278, 0.4669195 , 0.509404  , 0.2612543 , 0.503457  ,\n",
       "        0.12828362, 0.49311274, 0.        , 0.34171033, 0.47398508,\n",
       "        0.27542248, 0.46475977, 0.304567  , 0.6385949 , 0.35247087,\n",
       "        0.6362982 , 0.19208448, 0.5076398 , 0.12309471, 0.5348637 ,\n",
       "        0.18273547, 0.69105816, 0.24475259, 0.6733748 , 0.05024889,\n",
       "        0.5485357 , 0.        , 0.564812  , 0.06049323, 0.6850807 ,\n",
       "        0.11008564, 0.7059657 ], dtype=float32))"
      ]
     },
     "execution_count": 5,
     "metadata": {},
     "output_type": "execute_result"
    }
   ],
   "source": [
    "ds[0]"
   ]
  },
  {
   "cell_type": "code",
   "execution_count": 6,
   "metadata": {},
   "outputs": [
    {
     "name": "stdout",
     "output_type": "stream",
     "text": [
      "train: 2004 / valid: 501\n"
     ]
    }
   ],
   "source": [
    "total = len(ds)\n",
    "num_train = int(total * .8)\n",
    "ds_train, ds_valid = torch.utils.data.random_split(ds, [num_train, total - num_train], generator=g)\n",
    "print(f'train: {len(ds_train)} / valid: {len(ds_valid)}')"
   ]
  },
  {
   "cell_type": "code",
   "execution_count": 7,
   "metadata": {},
   "outputs": [
    {
     "name": "stdout",
     "output_type": "stream",
     "text": [
      "{0: 106, 1: 105, 2: 116, 3: 84, 4: 90}\n"
     ]
    }
   ],
   "source": [
    "labels, cnt = np.unique([ds_valid.dataset.annotations[i]['label'] for i in ds_valid.indices], return_counts=True)\n",
    "print({l:c for l, c in zip(labels, cnt)})"
   ]
  },
  {
   "cell_type": "markdown",
   "metadata": {},
   "source": [
    "# model"
   ]
  },
  {
   "cell_type": "code",
   "execution_count": 8,
   "metadata": {},
   "outputs": [],
   "source": [
    "m = nn.BatchNorm1d(100)\n",
    "# Without Learnable Parameters\n",
    "m = nn.BatchNorm1d(100, affine=False)\n",
    "input = torch.randn(20, 100)\n",
    "output = m(input)"
   ]
  },
  {
   "cell_type": "code",
   "execution_count": 9,
   "metadata": {},
   "outputs": [
    {
     "data": {
      "text/plain": [
       "torch.Size([20, 100])"
      ]
     },
     "execution_count": 9,
     "metadata": {},
     "output_type": "execute_result"
    }
   ],
   "source": [
    "output.shape"
   ]
  },
  {
   "cell_type": "code",
   "execution_count": 10,
   "metadata": {},
   "outputs": [],
   "source": [
    "simple_model = nn.Sequential(\n",
    "    nn.Linear(42, 20),\n",
    "    nn.BatchNorm1d(20),\n",
    "    nn.ReLU(True,),\n",
    "    nn.Linear(20, 10),\n",
    "    nn.BatchNorm1d(10),\n",
    "    nn.ReLU(True,),\n",
    "    nn.Linear(10, 5),\n",
    "    nn.Sigmoid(),\n",
    ")"
   ]
  },
  {
   "cell_type": "code",
   "execution_count": 11,
   "metadata": {},
   "outputs": [
    {
     "name": "stdout",
     "output_type": "stream",
     "text": [
      "shape: torch.Size([2, 5])\n"
     ]
    }
   ],
   "source": [
    "test = simple_model(torch.randn(2, 42))\n",
    "print('shape:', test.size())"
   ]
  },
  {
   "cell_type": "markdown",
   "metadata": {},
   "source": [
    "# training"
   ]
  },
  {
   "cell_type": "code",
   "execution_count": 12,
   "metadata": {},
   "outputs": [],
   "source": [
    "EPOCHS = 60\n",
    "BS = 64"
   ]
  },
  {
   "cell_type": "code",
   "execution_count": 13,
   "metadata": {},
   "outputs": [],
   "source": [
    "train_loader = DataLoader(ds_train, BS, shuffle=True, drop_last=True, num_workers=8)\n",
    "valid_loader = DataLoader(ds_valid, BS, shuffle=False, drop_last=False, num_workers=8)"
   ]
  },
  {
   "cell_type": "code",
   "execution_count": 14,
   "metadata": {},
   "outputs": [],
   "source": [
    "# criterion = nn.CrossEntropyLoss()\n",
    "criterion = nn.BCELoss()\n",
    "optimizer = torch.optim.Adam(simple_model.parameters(), lr=2e-3)\n",
    "scheduler = torch.optim.lr_scheduler.OneCycleLR(optimizer, max_lr=2e-3, epochs=EPOCHS, steps_per_epoch=len(train_loader))"
   ]
  },
  {
   "cell_type": "markdown",
   "metadata": {},
   "source": [
    "baseline: 0.872255489021956\n",
    "\n",
    "label smoothing: 0.8343313373253493"
   ]
  },
  {
   "cell_type": "code",
   "execution_count": 15,
   "metadata": {
    "tags": []
   },
   "outputs": [
    {
     "name": "stderr",
     "output_type": "stream",
     "text": [
<<<<<<< HEAD
      "100%|██████████| 31/31 [00:00<00:00, 50.34it/s]\n",
=======
      "100%|██████████| 31/31 [00:00<00:00, 46.49it/s]\n",
>>>>>>> develop
      "/usr/lib/python3/dist-packages/torch/optim/lr_scheduler.py:1289: UserWarning: To get the last learning rate computed by the scheduler, please use `get_last_lr()`.\n",
      "  warnings.warn(\"To get the last learning rate computed by the scheduler, \"\n"
     ]
    },
    {
     "name": "stdout",
     "output_type": "stream",
     "text": [
<<<<<<< HEAD
      "[epoch 0] loss: 0.6894816419559563, lr: [9.463683876508033e-05]\n"
=======
      "[epoch 0] loss: 0.7056712951964723, lr: [9.463683876508033e-05]\n"
>>>>>>> develop
     ]
    },
    {
     "name": "stderr",
     "output_type": "stream",
     "text": [
<<<<<<< HEAD
      "100%|██████████| 8/8 [00:00<00:00, 45.52it/s]\n"
=======
      "100%|██████████| 8/8 [00:00<00:00, 34.82it/s]\n"
>>>>>>> develop
     ]
    },
    {
     "name": "stdout",
     "output_type": "stream",
     "text": [
<<<<<<< HEAD
      "--val acc: 0.21157684630738524\n"
=======
      "--val acc: 0.22355289421157684\n"
>>>>>>> develop
     ]
    },
    {
     "name": "stderr",
     "output_type": "stream",
     "text": [
<<<<<<< HEAD
      "100%|██████████| 31/31 [00:00<00:00, 125.07it/s]\n"
=======
      "100%|██████████| 31/31 [00:00<00:00, 102.53it/s]\n"
>>>>>>> develop
     ]
    },
    {
     "name": "stdout",
     "output_type": "stream",
     "text": [
<<<<<<< HEAD
      "[epoch 1] loss: 0.68439268542383, lr: [0.00013810102787483098]\n"
=======
      "[epoch 1] loss: 0.6867960817561654, lr: [0.00013810102787483098]\n"
>>>>>>> develop
     ]
    },
    {
     "name": "stderr",
     "output_type": "stream",
     "text": [
<<<<<<< HEAD
      "100%|██████████| 8/8 [00:00<00:00, 47.30it/s]\n"
=======
      "100%|██████████| 8/8 [00:00<00:00, 37.26it/s]\n"
>>>>>>> develop
     ]
    },
    {
     "name": "stdout",
     "output_type": "stream",
     "text": [
<<<<<<< HEAD
      "--val acc: 0.21157684630738524\n"
=======
      "--val acc: 0.35728542914171657\n"
>>>>>>> develop
     ]
    },
    {
     "name": "stderr",
     "output_type": "stream",
     "text": [
<<<<<<< HEAD
      "100%|██████████| 31/31 [00:00<00:00, 124.47it/s]\n"
=======
      "100%|██████████| 31/31 [00:00<00:00, 110.92it/s]\n"
>>>>>>> develop
     ]
    },
    {
     "name": "stdout",
     "output_type": "stream",
     "text": [
<<<<<<< HEAD
      "[epoch 2] loss: 0.6770604527639058, lr: [0.00020906719581247307]\n"
=======
      "[epoch 2] loss: 0.6646177954302577, lr: [0.00020906719581247307]\n"
>>>>>>> develop
     ]
    },
    {
     "name": "stderr",
     "output_type": "stream",
     "text": [
<<<<<<< HEAD
      "100%|██████████| 8/8 [00:00<00:00, 45.08it/s]\n"
=======
      "100%|██████████| 8/8 [00:00<00:00, 37.79it/s]\n"
>>>>>>> develop
     ]
    },
    {
     "name": "stdout",
     "output_type": "stream",
     "text": [
<<<<<<< HEAD
      "--val acc: 0.21157684630738524\n"
=======
      "--val acc: 0.44510978043912175\n"
>>>>>>> develop
     ]
    },
    {
     "name": "stderr",
     "output_type": "stream",
     "text": [
<<<<<<< HEAD
      "100%|██████████| 31/31 [00:00<00:00, 127.28it/s]\n"
=======
      "100%|██████████| 31/31 [00:00<00:00, 109.32it/s]\n"
>>>>>>> develop
     ]
    },
    {
     "name": "stdout",
     "output_type": "stream",
     "text": [
<<<<<<< HEAD
      "[epoch 3] loss: 0.663419965260519, lr: [0.0003053713418324246]\n"
=======
      "[epoch 3] loss: 0.6343441256981885, lr: [0.0003053713418324246]\n"
>>>>>>> develop
     ]
    },
    {
     "name": "stderr",
     "output_type": "stream",
     "text": [
<<<<<<< HEAD
      "100%|██████████| 8/8 [00:00<00:00, 43.23it/s]\n"
=======
      "100%|██████████| 8/8 [00:00<00:00, 38.66it/s]\n"
>>>>>>> develop
     ]
    },
    {
     "name": "stdout",
     "output_type": "stream",
     "text": [
<<<<<<< HEAD
      "--val acc: 0.21157684630738524\n"
=======
      "--val acc: 0.5728542914171657\n"
>>>>>>> develop
     ]
    },
    {
     "name": "stderr",
     "output_type": "stream",
     "text": [
<<<<<<< HEAD
      "100%|██████████| 31/31 [00:00<00:00, 118.56it/s]\n"
=======
      "100%|██████████| 31/31 [00:00<00:00, 108.44it/s]\n"
>>>>>>> develop
     ]
    },
    {
     "name": "stdout",
     "output_type": "stream",
     "text": [
<<<<<<< HEAD
      "[epoch 4] loss: 0.6369798835404142, lr: [0.00042407682373113865]\n"
=======
      "[epoch 4] loss: 0.6006010002242829, lr: [0.00042407682373113865]\n"
>>>>>>> develop
     ]
    },
    {
     "name": "stderr",
     "output_type": "stream",
     "text": [
<<<<<<< HEAD
      "100%|██████████| 8/8 [00:00<00:00, 43.67it/s]\n"
=======
      "100%|██████████| 8/8 [00:00<00:00, 38.46it/s]\n"
>>>>>>> develop
     ]
    },
    {
     "name": "stdout",
     "output_type": "stream",
     "text": [
<<<<<<< HEAD
      "--val acc: 0.21157684630738524\n"
=======
      "--val acc: 0.7065868263473054\n"
>>>>>>> develop
     ]
    },
    {
     "name": "stderr",
     "output_type": "stream",
     "text": [
<<<<<<< HEAD
      "100%|██████████| 31/31 [00:00<00:00, 131.85it/s]\n"
=======
      "100%|██████████| 31/31 [00:00<00:00, 100.87it/s]\n"
>>>>>>> develop
     ]
    },
    {
     "name": "stdout",
     "output_type": "stream",
     "text": [
<<<<<<< HEAD
      "[epoch 5] loss: 0.581941439006143, lr: [0.0005615639060938596]\n"
=======
      "[epoch 5] loss: 0.565437787069294, lr: [0.0005615639060938596]\n"
>>>>>>> develop
     ]
    },
    {
     "name": "stderr",
     "output_type": "stream",
     "text": [
<<<<<<< HEAD
      "100%|██████████| 8/8 [00:00<00:00, 46.51it/s]\n"
=======
      "100%|██████████| 8/8 [00:00<00:00, 36.23it/s]\n"
>>>>>>> develop
     ]
    },
    {
     "name": "stdout",
     "output_type": "stream",
     "text": [
<<<<<<< HEAD
      "--val acc: 0.23952095808383234\n"
=======
      "--val acc: 0.7065868263473054\n"
>>>>>>> develop
     ]
    },
    {
     "name": "stderr",
     "output_type": "stream",
     "text": [
<<<<<<< HEAD
      "100%|██████████| 31/31 [00:00<00:00, 121.96it/s]\n"
=======
      "100%|██████████| 31/31 [00:00<00:00, 105.58it/s]\n"
>>>>>>> develop
     ]
    },
    {
     "name": "stdout",
     "output_type": "stream",
     "text": [
<<<<<<< HEAD
      "[epoch 6] loss: 0.5117321157169913, lr: [0.000713640138385537]\n"
=======
      "[epoch 6] loss: 0.5275637822712729, lr: [0.000713640138385537]\n"
>>>>>>> develop
     ]
    },
    {
     "name": "stderr",
     "output_type": "stream",
     "text": [
<<<<<<< HEAD
      "100%|██████████| 8/8 [00:00<00:00, 42.65it/s]\n"
=======
      "100%|██████████| 8/8 [00:00<00:00, 37.57it/s]\n"
>>>>>>> develop
     ]
    },
    {
     "name": "stdout",
     "output_type": "stream",
     "text": [
<<<<<<< HEAD
      "--val acc: 0.20958083832335328\n"
=======
      "--val acc: 0.7285429141716567\n"
>>>>>>> develop
     ]
    },
    {
     "name": "stderr",
     "output_type": "stream",
     "text": [
<<<<<<< HEAD
      "100%|██████████| 31/31 [00:00<00:00, 118.45it/s]\n"
=======
      "100%|██████████| 31/31 [00:00<00:00, 108.73it/s]\n"
>>>>>>> develop
     ]
    },
    {
     "name": "stdout",
     "output_type": "stream",
     "text": [
<<<<<<< HEAD
      "[epoch 7] loss: 0.48718815744518046, lr: [0.0008756681970810574]\n"
=======
      "[epoch 7] loss: 0.4856011463020614, lr: [0.0008756681970810574]\n"
>>>>>>> develop
     ]
    },
    {
     "name": "stderr",
     "output_type": "stream",
     "text": [
<<<<<<< HEAD
      "100%|██████████| 8/8 [00:00<00:00, 48.09it/s]\n"
=======
      "100%|██████████| 8/8 [00:00<00:00, 39.51it/s]\n"
>>>>>>> develop
     ]
    },
    {
     "name": "stdout",
     "output_type": "stream",
     "text": [
<<<<<<< HEAD
      "--val acc: 0.3393213572854291\n"
=======
      "--val acc: 0.7345309381237525\n"
>>>>>>> develop
     ]
    },
    {
     "name": "stderr",
     "output_type": "stream",
     "text": [
<<<<<<< HEAD
      "100%|██████████| 31/31 [00:00<00:00, 132.59it/s]\n"
=======
      "100%|██████████| 31/31 [00:00<00:00, 110.71it/s]\n"
>>>>>>> develop
     ]
    },
    {
     "name": "stdout",
     "output_type": "stream",
     "text": [
<<<<<<< HEAD
      "[epoch 8] loss: 0.4764466200046197, lr: [0.0010427072934917855]\n"
=======
      "[epoch 8] loss: 0.439767643363176, lr: [0.0010427072934917855]\n"
>>>>>>> develop
     ]
    },
    {
     "name": "stderr",
     "output_type": "stream",
     "text": [
<<<<<<< HEAD
      "100%|██████████| 8/8 [00:00<00:00, 45.02it/s]\n"
=======
      "100%|██████████| 8/8 [00:00<00:00, 40.47it/s]\n"
>>>>>>> develop
     ]
    },
    {
     "name": "stdout",
     "output_type": "stream",
     "text": [
<<<<<<< HEAD
      "--val acc: 0.28542914171656686\n"
=======
      "--val acc: 0.7524950099800399\n"
>>>>>>> develop
     ]
    },
    {
     "name": "stderr",
     "output_type": "stream",
     "text": [
<<<<<<< HEAD
      "100%|██████████| 31/31 [00:00<00:00, 121.66it/s]\n"
=======
      "100%|██████████| 31/31 [00:00<00:00, 103.37it/s]\n"
>>>>>>> develop
     ]
    },
    {
     "name": "stdout",
     "output_type": "stream",
     "text": [
<<<<<<< HEAD
      "[epoch 9] loss: 0.45954243722790017, lr: [0.001209663835280994]\n"
=======
      "[epoch 9] loss: 0.38745060557138894, lr: [0.001209663835280994]\n"
>>>>>>> develop
     ]
    },
    {
     "name": "stderr",
     "output_type": "stream",
     "text": [
<<<<<<< HEAD
      "100%|██████████| 8/8 [00:00<00:00, 46.50it/s]\n"
=======
      "100%|██████████| 8/8 [00:00<00:00, 37.57it/s]\n"
>>>>>>> develop
     ]
    },
    {
     "name": "stdout",
     "output_type": "stream",
     "text": [
<<<<<<< HEAD
      "--val acc: 0.4171656686626746\n"
=======
      "--val acc: 0.7724550898203593\n"
>>>>>>> develop
     ]
    },
    {
     "name": "stderr",
     "output_type": "stream",
     "text": [
<<<<<<< HEAD
      "100%|██████████| 31/31 [00:00<00:00, 132.40it/s]\n"
=======
      "100%|██████████| 31/31 [00:00<00:00, 102.12it/s]\n"
>>>>>>> develop
     ]
    },
    {
     "name": "stdout",
     "output_type": "stream",
     "text": [
<<<<<<< HEAD
      "[epoch 10] loss: 0.43578153598808245, lr: [0.0013714467474842179]\n"
=======
      "[epoch 10] loss: 0.3349252270605274, lr: [0.0013714467474842179]\n"
>>>>>>> develop
     ]
    },
    {
     "name": "stderr",
     "output_type": "stream",
     "text": [
<<<<<<< HEAD
      "100%|██████████| 8/8 [00:00<00:00, 44.62it/s]\n"
=======
      "100%|██████████| 8/8 [00:00<00:00, 39.74it/s]\n"
>>>>>>> develop
     ]
    },
    {
     "name": "stdout",
     "output_type": "stream",
     "text": [
<<<<<<< HEAD
      "--val acc: 0.5029940119760479\n"
=======
      "--val acc: 0.7485029940119761\n"
>>>>>>> develop
     ]
    },
    {
     "name": "stderr",
     "output_type": "stream",
     "text": [
<<<<<<< HEAD
      "100%|██████████| 31/31 [00:00<00:00, 124.86it/s]\n"
=======
      "100%|██████████| 31/31 [00:00<00:00, 112.42it/s]\n"
>>>>>>> develop
     ]
    },
    {
     "name": "stdout",
     "output_type": "stream",
     "text": [
<<<<<<< HEAD
      "[epoch 11] loss: 0.4092585702618201, lr: [0.001523122716766323]\n"
=======
      "[epoch 11] loss: 0.2848939686240312, lr: [0.001523122716766323]\n"
>>>>>>> develop
     ]
    },
    {
     "name": "stderr",
     "output_type": "stream",
     "text": [
<<<<<<< HEAD
      "100%|██████████| 8/8 [00:00<00:00, 45.10it/s]\n"
=======
      "100%|██████████| 8/8 [00:00<00:00, 39.48it/s]\n"
>>>>>>> develop
     ]
    },
    {
     "name": "stdout",
     "output_type": "stream",
     "text": [
<<<<<<< HEAD
      "--val acc: 0.6526946107784432\n"
=======
      "--val acc: 0.8303393213572854\n"
>>>>>>> develop
     ]
    },
    {
     "name": "stderr",
     "output_type": "stream",
     "text": [
<<<<<<< HEAD
      "100%|██████████| 31/31 [00:00<00:00, 121.63it/s]\n"
=======
      "100%|██████████| 31/31 [00:00<00:00, 105.92it/s]\n"
>>>>>>> develop
     ]
    },
    {
     "name": "stdout",
     "output_type": "stream",
     "text": [
<<<<<<< HEAD
      "[epoch 12] loss: 0.38351643918279166, lr: [0.0016600666249878945]\n"
=======
      "[epoch 12] loss: 0.240218991528966, lr: [0.0016600666249878945]\n"
>>>>>>> develop
     ]
    },
    {
     "name": "stderr",
     "output_type": "stream",
     "text": [
<<<<<<< HEAD
      "100%|██████████| 8/8 [00:00<00:00, 43.56it/s]\n"
=======
      "100%|██████████| 8/8 [00:00<00:00, 39.58it/s]\n"
>>>>>>> develop
     ]
    },
    {
     "name": "stdout",
     "output_type": "stream",
     "text": [
<<<<<<< HEAD
      "--val acc: 0.7305389221556886\n"
=======
      "--val acc: 0.9600798403193613\n"
>>>>>>> develop
     ]
    },
    {
     "name": "stderr",
     "output_type": "stream",
     "text": [
<<<<<<< HEAD
      "100%|██████████| 31/31 [00:00<00:00, 124.17it/s]\n"
=======
      "100%|██████████| 31/31 [00:00<00:00, 113.09it/s]\n"
>>>>>>> develop
     ]
    },
    {
     "name": "stdout",
     "output_type": "stream",
     "text": [
<<<<<<< HEAD
      "[epoch 13] loss: 0.35646161918868563, lr: [0.0017781025848478931]\n"
=======
      "[epoch 13] loss: 0.20039719212316942, lr: [0.0017781025848478931]\n"
>>>>>>> develop
     ]
    },
    {
     "name": "stderr",
     "output_type": "stream",
     "text": [
<<<<<<< HEAD
      "100%|██████████| 8/8 [00:00<00:00, 45.57it/s]\n"
=======
      "100%|██████████| 8/8 [00:00<00:00, 40.59it/s]\n"
>>>>>>> develop
     ]
    },
    {
     "name": "stdout",
     "output_type": "stream",
     "text": [
<<<<<<< HEAD
      "--val acc: 0.7624750499001997\n"
=======
      "--val acc: 0.9520958083832335\n"
>>>>>>> develop
     ]
    },
    {
     "name": "stderr",
     "output_type": "stream",
     "text": [
<<<<<<< HEAD
      "100%|██████████| 31/31 [00:00<00:00, 125.19it/s]\n"
=======
      "100%|██████████| 31/31 [00:00<00:00, 108.98it/s]\n"
>>>>>>> develop
     ]
    },
    {
     "name": "stdout",
     "output_type": "stream",
     "text": [
<<<<<<< HEAD
      "[epoch 14] loss: 0.3266128960721745, lr: [0.001873631276944334]\n"
=======
      "[epoch 14] loss: 0.1619695555902051, lr: [0.001873631276944334]\n"
>>>>>>> develop
     ]
    },
    {
     "name": "stderr",
     "output_type": "stream",
     "text": [
<<<<<<< HEAD
      "100%|██████████| 8/8 [00:00<00:00, 45.51it/s]\n"
=======
      "100%|██████████| 8/8 [00:00<00:00, 39.12it/s]\n"
>>>>>>> develop
     ]
    },
    {
     "name": "stdout",
     "output_type": "stream",
     "text": [
<<<<<<< HEAD
      "--val acc: 0.7784431137724551\n"
=======
      "--val acc: 0.9840319361277445\n"
>>>>>>> develop
     ]
    },
    {
     "name": "stderr",
     "output_type": "stream",
     "text": [
<<<<<<< HEAD
      "100%|██████████| 31/31 [00:00<00:00, 125.88it/s]\n"
=======
      "100%|██████████| 31/31 [00:00<00:00, 112.33it/s]\n"
>>>>>>> develop
     ]
    },
    {
     "name": "stdout",
     "output_type": "stream",
     "text": [
<<<<<<< HEAD
      "[epoch 15] loss: 0.3005433501359707, lr: [0.0019437397053112704]\n"
=======
      "[epoch 15] loss: 0.13108008826326228, lr: [0.0019437397053112704]\n"
>>>>>>> develop
     ]
    },
    {
     "name": "stderr",
     "output_type": "stream",
     "text": [
<<<<<<< HEAD
      "100%|██████████| 8/8 [00:00<00:00, 46.80it/s]\n"
=======
      "100%|██████████| 8/8 [00:00<00:00, 38.45it/s]\n"
>>>>>>> develop
     ]
    },
    {
     "name": "stdout",
     "output_type": "stream",
     "text": [
<<<<<<< HEAD
      "--val acc: 0.7944111776447106\n"
=======
      "--val acc: 0.9101796407185628\n"
>>>>>>> develop
     ]
    },
    {
     "name": "stderr",
     "output_type": "stream",
     "text": [
<<<<<<< HEAD
      "100%|██████████| 31/31 [00:00<00:00, 125.64it/s]\n"
=======
      "100%|██████████| 31/31 [00:00<00:00, 106.37it/s]\n"
>>>>>>> develop
     ]
    },
    {
     "name": "stdout",
     "output_type": "stream",
     "text": [
<<<<<<< HEAD
      "[epoch 16] loss: 0.28625380445621207, lr: [0.0019862900246110362]\n"
=======
      "[epoch 16] loss: 0.10249905267399466, lr: [0.0019862900246110362]\n"
>>>>>>> develop
     ]
    },
    {
     "name": "stderr",
     "output_type": "stream",
     "text": [
<<<<<<< HEAD
      "100%|██████████| 8/8 [00:00<00:00, 45.71it/s]\n"
=======
      "100%|██████████| 8/8 [00:00<00:00, 38.38it/s]\n"
>>>>>>> develop
     ]
    },
    {
     "name": "stdout",
     "output_type": "stream",
     "text": [
<<<<<<< HEAD
      "--val acc: 0.8083832335329342\n"
=======
      "--val acc: 0.998003992015968\n"
>>>>>>> develop
     ]
    },
    {
     "name": "stderr",
     "output_type": "stream",
     "text": [
<<<<<<< HEAD
      "100%|██████████| 31/31 [00:00<00:00, 128.31it/s]\n"
=======
      "100%|██████████| 31/31 [00:00<00:00, 110.61it/s]\n"
>>>>>>> develop
     ]
    },
    {
     "name": "stdout",
     "output_type": "stream",
     "text": [
<<<<<<< HEAD
      "[epoch 17] loss: 0.278536624299314, lr: [0.0019999970889756826]\n"
=======
      "[epoch 17] loss: 0.08248029378597846, lr: [0.0019999970889756826]\n"
>>>>>>> develop
     ]
    },
    {
     "name": "stderr",
     "output_type": "stream",
     "text": [
<<<<<<< HEAD
      "100%|██████████| 8/8 [00:00<00:00, 45.49it/s]\n"
=======
      "100%|██████████| 8/8 [00:00<00:00, 40.62it/s]\n"
>>>>>>> develop
     ]
    },
    {
     "name": "stdout",
     "output_type": "stream",
     "text": [
<<<<<<< HEAD
      "--val acc: 0.8063872255489022\n"
=======
      "--val acc: 0.9960079840319361\n"
>>>>>>> develop
     ]
    },
    {
     "name": "stderr",
     "output_type": "stream",
     "text": [
<<<<<<< HEAD
      "100%|██████████| 31/31 [00:00<00:00, 129.36it/s]\n"
=======
      "100%|██████████| 31/31 [00:00<00:00, 108.13it/s]\n"
>>>>>>> develop
     ]
    },
    {
     "name": "stdout",
     "output_type": "stream",
     "text": [
<<<<<<< HEAD
      "[epoch 18] loss: 0.27161041562428734, lr: [0.0019970205903154987]\n"
=======
      "[epoch 18] loss: 0.06701416074634788, lr: [0.0019970205903154987]\n"
>>>>>>> develop
     ]
    },
    {
     "name": "stderr",
     "output_type": "stream",
     "text": [
<<<<<<< HEAD
      "100%|██████████| 8/8 [00:00<00:00, 44.37it/s]\n"
=======
      "100%|██████████| 8/8 [00:00<00:00, 39.57it/s]\n"
>>>>>>> develop
     ]
    },
    {
     "name": "stdout",
     "output_type": "stream",
     "text": [
<<<<<<< HEAD
      "--val acc: 0.8183632734530938\n"
=======
      "--val acc: 0.9740518962075848\n"
>>>>>>> develop
     ]
    },
    {
     "name": "stderr",
     "output_type": "stream",
     "text": [
<<<<<<< HEAD
      "100%|██████████| 31/31 [00:00<00:00, 120.51it/s]\n"
=======
      "100%|██████████| 31/31 [00:00<00:00, 104.82it/s]\n"
>>>>>>> develop
     ]
    },
    {
     "name": "stdout",
     "output_type": "stream",
     "text": [
<<<<<<< HEAD
      "[epoch 19] loss: 0.2666293166116802, lr: [0.001988468370454814]\n"
=======
      "[epoch 19] loss: 0.05924954826008536, lr: [0.001988468370454814]\n"
>>>>>>> develop
     ]
    },
    {
     "name": "stderr",
     "output_type": "stream",
     "text": [
<<<<<<< HEAD
      "100%|██████████| 8/8 [00:00<00:00, 43.67it/s]\n"
=======
      "100%|██████████| 8/8 [00:00<00:00, 41.82it/s]\n"
>>>>>>> develop
     ]
    },
    {
     "name": "stdout",
     "output_type": "stream",
     "text": [
<<<<<<< HEAD
      "--val acc: 0.7784431137724551\n"
=======
      "--val acc: 0.9920159680638723\n"
>>>>>>> develop
     ]
    },
    {
     "name": "stderr",
     "output_type": "stream",
     "text": [
<<<<<<< HEAD
      "100%|██████████| 31/31 [00:00<00:00, 130.82it/s]\n"
=======
      "100%|██████████| 31/31 [00:00<00:00, 107.10it/s]\n"
>>>>>>> develop
     ]
    },
    {
     "name": "stdout",
     "output_type": "stream",
     "text": [
<<<<<<< HEAD
      "[epoch 20] loss: 0.261663734793901, lr: [0.0019743882568761923]\n"
=======
      "[epoch 20] loss: 0.0488782943841702, lr: [0.0019743882568761923]\n"
>>>>>>> develop
     ]
    },
    {
     "name": "stderr",
     "output_type": "stream",
     "text": [
<<<<<<< HEAD
      "100%|██████████| 8/8 [00:00<00:00, 43.98it/s]\n"
=======
      "100%|██████████| 8/8 [00:00<00:00, 38.69it/s]\n"
>>>>>>> develop
     ]
    },
    {
     "name": "stdout",
     "output_type": "stream",
     "text": [
<<<<<<< HEAD
      "--val acc: 0.812375249500998\n"
=======
      "--val acc: 1.0\n"
>>>>>>> develop
     ]
    },
    {
     "name": "stderr",
     "output_type": "stream",
     "text": [
<<<<<<< HEAD
      "100%|██████████| 31/31 [00:00<00:00, 128.99it/s]\n"
=======
      "100%|██████████| 31/31 [00:00<00:00, 115.16it/s]\n"
>>>>>>> develop
     ]
    },
    {
     "name": "stdout",
     "output_type": "stream",
     "text": [
<<<<<<< HEAD
      "[epoch 21] loss: 0.2570558484204991, lr: [0.0019548589912861884]\n"
=======
      "[epoch 21] loss: 0.043557777257260684, lr: [0.0019548589912861884]\n"
>>>>>>> develop
     ]
    },
    {
     "name": "stderr",
     "output_type": "stream",
     "text": [
<<<<<<< HEAD
      "100%|██████████| 8/8 [00:00<00:00, 49.64it/s]\n"
=======
      "100%|██████████| 8/8 [00:00<00:00, 39.46it/s]\n"
>>>>>>> develop
     ]
    },
    {
     "name": "stdout",
     "output_type": "stream",
     "text": [
<<<<<<< HEAD
      "--val acc: 0.8702594810379242\n"
=======
      "--val acc: 0.9960079840319361\n"
>>>>>>> develop
     ]
    },
    {
     "name": "stderr",
     "output_type": "stream",
     "text": [
<<<<<<< HEAD
      "100%|██████████| 31/31 [00:00<00:00, 128.66it/s]\n"
=======
      "100%|██████████| 31/31 [00:00<00:00, 106.62it/s]\n"
>>>>>>> develop
     ]
    },
    {
     "name": "stdout",
     "output_type": "stream",
     "text": [
<<<<<<< HEAD
      "[epoch 22] loss: 0.25311145239961363, lr: [0.0019299897892597869]\n"
=======
      "[epoch 22] loss: 0.03556790394697361, lr: [0.0019299897892597869]\n"
>>>>>>> develop
     ]
    },
    {
     "name": "stderr",
     "output_type": "stream",
     "text": [
<<<<<<< HEAD
      "100%|██████████| 8/8 [00:00<00:00, 44.48it/s]\n"
=======
      "100%|██████████| 8/8 [00:00<00:00, 42.32it/s]\n"
>>>>>>> develop
     ]
    },
    {
     "name": "stdout",
     "output_type": "stream",
     "text": [
<<<<<<< HEAD
      "--val acc: 0.8922155688622755\n"
=======
      "--val acc: 0.998003992015968\n"
>>>>>>> develop
     ]
    },
    {
     "name": "stderr",
     "output_type": "stream",
     "text": [
<<<<<<< HEAD
      "100%|██████████| 31/31 [00:00<00:00, 126.24it/s]\n"
=======
      "100%|██████████| 31/31 [00:00<00:00, 97.85it/s]\n"
>>>>>>> develop
     ]
    },
    {
     "name": "stdout",
     "output_type": "stream",
     "text": [
<<<<<<< HEAD
      "[epoch 23] loss: 0.24915134692620375, lr: [0.0018999197294626046]\n"
=======
      "[epoch 23] loss: 0.0326500421988512, lr: [0.0018999197294626046]\n"
>>>>>>> develop
     ]
    },
    {
     "name": "stderr",
     "output_type": "stream",
     "text": [
<<<<<<< HEAD
      "100%|██████████| 8/8 [00:00<00:00, 48.01it/s]\n"
=======
      "100%|██████████| 8/8 [00:00<00:00, 40.44it/s]\n"
>>>>>>> develop
     ]
    },
    {
     "name": "stdout",
     "output_type": "stream",
     "text": [
<<<<<<< HEAD
      "--val acc: 0.8862275449101796\n"
=======
      "--val acc: 1.0\n"
>>>>>>> develop
     ]
    },
    {
     "name": "stderr",
     "output_type": "stream",
     "text": [
<<<<<<< HEAD
      "100%|██████████| 31/31 [00:00<00:00, 132.28it/s]\n"
=======
      "100%|██████████| 31/31 [00:00<00:00, 102.82it/s]\n"
>>>>>>> develop
     ]
    },
    {
     "name": "stdout",
     "output_type": "stream",
     "text": [
<<<<<<< HEAD
      "[epoch 24] loss: 0.24603850494125884, lr: [0.0018648169758665749]\n"
=======
      "[epoch 24] loss: 0.0301766108253045, lr: [0.0018648169758665749]\n"
>>>>>>> develop
     ]
    },
    {
     "name": "stderr",
     "output_type": "stream",
     "text": [
<<<<<<< HEAD
      "100%|██████████| 8/8 [00:00<00:00, 45.49it/s]\n"
=======
      "100%|██████████| 8/8 [00:00<00:00, 38.95it/s]\n"
>>>>>>> develop
     ]
    },
    {
     "name": "stdout",
     "output_type": "stream",
     "text": [
<<<<<<< HEAD
      "--val acc: 0.8942115768463074\n"
=======
      "--val acc: 0.9960079840319361\n"
>>>>>>> develop
     ]
    },
    {
     "name": "stderr",
     "output_type": "stream",
     "text": [
<<<<<<< HEAD
      "100%|██████████| 31/31 [00:00<00:00, 117.55it/s]\n"
=======
      "100%|██████████| 31/31 [00:00<00:00, 109.60it/s]\n"
>>>>>>> develop
     ]
    },
    {
     "name": "stdout",
     "output_type": "stream",
     "text": [
<<<<<<< HEAD
      "[epoch 25] loss: 0.2437073979787008, lr: [0.001824877837308805]\n"
=======
      "[epoch 25] loss: 0.026675023123651682, lr: [0.001824877837308805]\n"
>>>>>>> develop
     ]
    },
    {
     "name": "stderr",
     "output_type": "stream",
     "text": [
<<<<<<< HEAD
      "100%|██████████| 8/8 [00:00<00:00, 45.65it/s]\n"
=======
      "100%|██████████| 8/8 [00:00<00:00, 41.08it/s]\n"
>>>>>>> develop
     ]
    },
    {
     "name": "stdout",
     "output_type": "stream",
     "text": [
<<<<<<< HEAD
      "--val acc: 0.8922155688622755\n"
=======
      "--val acc: 0.998003992015968\n"
>>>>>>> develop
     ]
    },
    {
     "name": "stderr",
     "output_type": "stream",
     "text": [
<<<<<<< HEAD
      "100%|██████████| 31/31 [00:00<00:00, 124.28it/s]\n"
=======
      "100%|██████████| 31/31 [00:00<00:00, 111.62it/s]\n"
>>>>>>> develop
     ]
    },
    {
     "name": "stdout",
     "output_type": "stream",
     "text": [
<<<<<<< HEAD
      "[epoch 26] loss: 0.24129995566880155, lr: [0.0017803256696529279]\n"
=======
      "[epoch 26] loss: 0.024678267285733402, lr: [0.0017803256696529279]\n"
>>>>>>> develop
     ]
    },
    {
     "name": "stderr",
     "output_type": "stream",
     "text": [
<<<<<<< HEAD
      "100%|██████████| 8/8 [00:00<00:00, 40.27it/s]\n"
=======
      "100%|██████████| 8/8 [00:00<00:00, 42.15it/s]\n"
>>>>>>> develop
     ]
    },
    {
     "name": "stdout",
     "output_type": "stream",
     "text": [
<<<<<<< HEAD
      "--val acc: 0.8882235528942116\n"
=======
      "--val acc: 1.0\n"
>>>>>>> develop
     ]
    },
    {
     "name": "stderr",
     "output_type": "stream",
     "text": [
<<<<<<< HEAD
      "100%|██████████| 31/31 [00:00<00:00, 114.82it/s]\n"
=======
      "100%|██████████| 31/31 [00:00<00:00, 108.33it/s]\n"
>>>>>>> develop
     ]
    },
    {
     "name": "stdout",
     "output_type": "stream",
     "text": [
<<<<<<< HEAD
      "[epoch 27] loss: 0.23948174132082514, lr: [0.0017314096266925114]\n"
=======
      "[epoch 27] loss: 0.020895775861130977, lr: [0.0017314096266925114]\n"
>>>>>>> develop
     ]
    },
    {
     "name": "stderr",
     "output_type": "stream",
     "text": [
<<<<<<< HEAD
      "100%|██████████| 8/8 [00:00<00:00, 44.29it/s]\n"
=======
      "100%|██████████| 8/8 [00:00<00:00, 39.71it/s]\n"
>>>>>>> develop
     ]
    },
    {
     "name": "stdout",
     "output_type": "stream",
     "text": [
<<<<<<< HEAD
      "--val acc: 0.9021956087824351\n"
=======
      "--val acc: 0.9920159680638723\n"
>>>>>>> develop
     ]
    },
    {
     "name": "stderr",
     "output_type": "stream",
     "text": [
<<<<<<< HEAD
      "100%|██████████| 31/31 [00:00<00:00, 126.26it/s]\n"
=======
      "100%|██████████| 31/31 [00:00<00:00, 108.03it/s]\n"
>>>>>>> develop
     ]
    },
    {
     "name": "stdout",
     "output_type": "stream",
     "text": [
<<<<<<< HEAD
      "[epoch 28] loss: 0.23713299661815285, lr: [0.0016784032667819782]\n"
=======
      "[epoch 28] loss: 0.02094625352980372, lr: [0.0016784032667819782]\n"
>>>>>>> develop
     ]
    },
    {
     "name": "stderr",
     "output_type": "stream",
     "text": [
<<<<<<< HEAD
      "100%|██████████| 8/8 [00:00<00:00, 43.22it/s]\n"
=======
      "100%|██████████| 8/8 [00:00<00:00, 40.78it/s]\n"
>>>>>>> develop
     ]
    },
    {
     "name": "stdout",
     "output_type": "stream",
     "text": [
<<<<<<< HEAD
      "--val acc: 0.906187624750499\n"
=======
      "--val acc: 1.0\n"
>>>>>>> develop
     ]
    },
    {
     "name": "stderr",
     "output_type": "stream",
     "text": [
<<<<<<< HEAD
      "100%|██████████| 31/31 [00:00<00:00, 122.16it/s]\n"
=======
      "100%|██████████| 31/31 [00:00<00:00, 106.52it/s]\n"
>>>>>>> develop
     ]
    },
    {
     "name": "stdout",
     "output_type": "stream",
     "text": [
<<<<<<< HEAD
      "[epoch 29] loss: 0.23454962090817755, lr: [0.0016216030229873227]\n"
=======
      "[epoch 29] loss: 0.01849262312262834, lr: [0.0016216030229873227]\n"
>>>>>>> develop
     ]
    },
    {
     "name": "stderr",
     "output_type": "stream",
     "text": [
<<<<<<< HEAD
      "100%|██████████| 8/8 [00:00<00:00, 45.16it/s]\n"
=======
      "100%|██████████| 8/8 [00:00<00:00, 40.71it/s]\n"
>>>>>>> develop
     ]
    },
    {
     "name": "stdout",
     "output_type": "stream",
     "text": [
<<<<<<< HEAD
      "--val acc: 0.9101796407185628\n"
=======
      "--val acc: 0.9960079840319361\n"
>>>>>>> develop
     ]
    },
    {
     "name": "stderr",
     "output_type": "stream",
     "text": [
<<<<<<< HEAD
      "100%|██████████| 31/31 [00:00<00:00, 126.52it/s]\n"
=======
      "100%|██████████| 31/31 [00:00<00:00, 113.15it/s]\n"
>>>>>>> develop
     ]
    },
    {
     "name": "stdout",
     "output_type": "stream",
     "text": [
<<<<<<< HEAD
      "[epoch 30] loss: 0.2316515279149343, lr: [0.0015613265453121616]\n"
=======
      "[epoch 30] loss: 0.015054369014418291, lr: [0.0015613265453121616]\n"
>>>>>>> develop
     ]
    },
    {
     "name": "stderr",
     "output_type": "stream",
     "text": [
<<<<<<< HEAD
      "100%|██████████| 8/8 [00:00<00:00, 43.46it/s]\n"
=======
      "100%|██████████| 8/8 [00:00<00:00, 41.94it/s]\n"
>>>>>>> develop
     ]
    },
    {
     "name": "stdout",
     "output_type": "stream",
     "text": [
<<<<<<< HEAD
      "--val acc: 0.9101796407185628\n"
=======
      "--val acc: 1.0\n"
>>>>>>> develop
     ]
    },
    {
     "name": "stderr",
     "output_type": "stream",
     "text": [
<<<<<<< HEAD
      "100%|██████████| 31/31 [00:00<00:00, 120.45it/s]\n"
=======
      "100%|██████████| 31/31 [00:00<00:00, 107.11it/s]\n"
>>>>>>> develop
     ]
    },
    {
     "name": "stdout",
     "output_type": "stream",
     "text": [
<<<<<<< HEAD
      "[epoch 31] loss: 0.22953037159171646, lr: [0.0014979109242700627]\n"
=======
      "[epoch 31] loss: 0.013047389879436074, lr: [0.0014979109242700627]\n"
>>>>>>> develop
     ]
    },
    {
     "name": "stderr",
     "output_type": "stream",
     "text": [
<<<<<<< HEAD
      "100%|██████████| 8/8 [00:00<00:00, 45.98it/s]\n"
=======
      "100%|██████████| 8/8 [00:00<00:00, 41.86it/s]\n"
>>>>>>> develop
     ]
    },
    {
     "name": "stdout",
     "output_type": "stream",
     "text": [
      "--val acc: 0.9121756487025948\n"
     ]
    },
    {
     "name": "stderr",
     "output_type": "stream",
     "text": [
<<<<<<< HEAD
      "100%|██████████| 31/31 [00:00<00:00, 119.00it/s]\n"
=======
      "100%|██████████| 31/31 [00:00<00:00, 101.54it/s]\n"
>>>>>>> develop
     ]
    },
    {
     "name": "stdout",
     "output_type": "stream",
     "text": [
<<<<<<< HEAD
      "[epoch 32] loss: 0.22717345117808815, lr: [0.0014317108057376557]\n"
=======
      "[epoch 32] loss: 0.01501890799837436, lr: [0.0014317108057376557]\n"
>>>>>>> develop
     ]
    },
    {
     "name": "stderr",
     "output_type": "stream",
     "text": [
<<<<<<< HEAD
      "100%|██████████| 8/8 [00:00<00:00, 45.53it/s]\n"
=======
      "100%|██████████| 8/8 [00:00<00:00, 42.47it/s]\n"
>>>>>>> develop
     ]
    },
    {
     "name": "stdout",
     "output_type": "stream",
     "text": [
<<<<<<< HEAD
      "--val acc: 0.9121756487025948\n"
=======
      "--val acc: 0.9860279441117764\n"
>>>>>>> develop
     ]
    },
    {
     "name": "stderr",
     "output_type": "stream",
     "text": [
<<<<<<< HEAD
      "100%|██████████| 31/31 [00:00<00:00, 119.81it/s]\n"
=======
      "100%|██████████| 31/31 [00:00<00:00, 108.55it/s]\n"
>>>>>>> develop
     ]
    },
    {
     "name": "stdout",
     "output_type": "stream",
     "text": [
<<<<<<< HEAD
      "[epoch 33] loss: 0.2255994516932322, lr: [0.0013630964076310345]\n"
=======
      "[epoch 33] loss: 0.016018921327210233, lr: [0.0013630964076310345]\n"
>>>>>>> develop
     ]
    },
    {
     "name": "stderr",
     "output_type": "stream",
     "text": [
<<<<<<< HEAD
      "100%|██████████| 8/8 [00:00<00:00, 45.73it/s]\n"
=======
      "100%|██████████| 8/8 [00:00<00:00, 40.21it/s]\n"
>>>>>>> develop
     ]
    },
    {
     "name": "stdout",
     "output_type": "stream",
     "text": [
<<<<<<< HEAD
      "--val acc: 0.9181636726546906\n"
=======
      "--val acc: 0.9920159680638723\n"
>>>>>>> develop
     ]
    },
    {
     "name": "stderr",
     "output_type": "stream",
     "text": [
<<<<<<< HEAD
      "100%|██████████| 31/31 [00:00<00:00, 127.03it/s]\n"
=======
      "100%|██████████| 31/31 [00:00<00:00, 112.41it/s]\n"
>>>>>>> develop
     ]
    },
    {
     "name": "stdout",
     "output_type": "stream",
     "text": [
<<<<<<< HEAD
      "[epoch 34] loss: 0.22279949054984513, lr: [0.001292451449496993]\n"
=======
      "[epoch 34] loss: 0.013742260798484741, lr: [0.001292451449496993]\n"
>>>>>>> develop
     ]
    },
    {
     "name": "stderr",
     "output_type": "stream",
     "text": [
<<<<<<< HEAD
      "100%|██████████| 8/8 [00:00<00:00, 43.51it/s]\n"
=======
      "100%|██████████| 8/8 [00:00<00:00, 40.36it/s]\n"
>>>>>>> develop
     ]
    },
    {
     "name": "stdout",
     "output_type": "stream",
     "text": [
<<<<<<< HEAD
      "--val acc: 0.9141716566866267\n"
=======
      "--val acc: 0.998003992015968\n"
>>>>>>> develop
     ]
    },
    {
     "name": "stderr",
     "output_type": "stream",
     "text": [
<<<<<<< HEAD
      "100%|██████████| 31/31 [00:00<00:00, 128.21it/s]\n"
=======
      "100%|██████████| 31/31 [00:00<00:00, 104.14it/s]\n"
>>>>>>> develop
     ]
    },
    {
     "name": "stdout",
     "output_type": "stream",
     "text": [
<<<<<<< HEAD
      "[epoch 35] loss: 0.22066681161374152, lr: [0.0012201710065976711]\n"
=======
      "[epoch 35] loss: 0.012339821921851107, lr: [0.0012201710065976711]\n"
>>>>>>> develop
     ]
    },
    {
     "name": "stderr",
     "output_type": "stream",
     "text": [
<<<<<<< HEAD
      "100%|██████████| 8/8 [00:00<00:00, 42.92it/s]\n"
=======
      "100%|██████████| 8/8 [00:00<00:00, 39.82it/s]\n"
>>>>>>> develop
     ]
    },
    {
     "name": "stdout",
     "output_type": "stream",
     "text": [
<<<<<<< HEAD
      "--val acc: 0.9201596806387226\n"
=======
      "--val acc: 1.0\n"
>>>>>>> develop
     ]
    },
    {
     "name": "stderr",
     "output_type": "stream",
     "text": [
<<<<<<< HEAD
      "100%|██████████| 31/31 [00:00<00:00, 126.83it/s]\n"
=======
      "100%|██████████| 31/31 [00:00<00:00, 106.75it/s]\n"
>>>>>>> develop
     ]
    },
    {
     "name": "stdout",
     "output_type": "stream",
     "text": [
<<<<<<< HEAD
      "[epoch 36] loss: 0.21905661961751546, lr: [0.0011466593004894302]\n"
=======
      "[epoch 36] loss: 0.01186272354718454, lr: [0.0011466593004894302]\n"
>>>>>>> develop
     ]
    },
    {
     "name": "stderr",
     "output_type": "stream",
     "text": [
<<<<<<< HEAD
      "100%|██████████| 8/8 [00:00<00:00, 46.02it/s]\n"
=======
      "100%|██████████| 8/8 [00:00<00:00, 39.78it/s]\n"
>>>>>>> develop
     ]
    },
    {
     "name": "stdout",
     "output_type": "stream",
     "text": [
<<<<<<< HEAD
      "--val acc: 0.9321357285429142\n"
=======
      "--val acc: 0.9920159680638723\n"
>>>>>>> develop
     ]
    },
    {
     "name": "stderr",
     "output_type": "stream",
     "text": [
<<<<<<< HEAD
      "100%|██████████| 31/31 [00:00<00:00, 116.06it/s]\n"
=======
      "100%|██████████| 31/31 [00:00<00:00, 109.15it/s]\n"
>>>>>>> develop
     ]
    },
    {
     "name": "stdout",
     "output_type": "stream",
     "text": [
<<<<<<< HEAD
      "[epoch 37] loss: 0.216508431348972, lr: [0.0010723274384519426]\n"
=======
      "[epoch 37] loss: 0.010275754891707749, lr: [0.0010723274384519426]\n"
>>>>>>> develop
     ]
    },
    {
     "name": "stderr",
     "output_type": "stream",
     "text": [
<<<<<<< HEAD
      "100%|██████████| 8/8 [00:00<00:00, 47.20it/s]\n"
=======
      "100%|██████████| 8/8 [00:00<00:00, 39.41it/s]\n"
>>>>>>> develop
     ]
    },
    {
     "name": "stdout",
     "output_type": "stream",
     "text": [
<<<<<<< HEAD
      "--val acc: 0.9301397205588823\n"
=======
      "--val acc: 1.0\n"
>>>>>>> develop
     ]
    },
    {
     "name": "stderr",
     "output_type": "stream",
     "text": [
<<<<<<< HEAD
      "100%|██████████| 31/31 [00:00<00:00, 129.23it/s]\n"
=======
      "100%|██████████| 31/31 [00:00<00:00, 108.10it/s]\n"
>>>>>>> develop
     ]
    },
    {
     "name": "stdout",
     "output_type": "stream",
     "text": [
<<<<<<< HEAD
      "[epoch 38] loss: 0.21511101627540208, lr: [0.0009975911144095228]\n"
=======
      "[epoch 38] loss: 0.010964557930024084, lr: [0.0009975911144095228]\n"
>>>>>>> develop
     ]
    },
    {
     "name": "stderr",
     "output_type": "stream",
     "text": [
<<<<<<< HEAD
      "100%|██████████| 8/8 [00:00<00:00, 44.52it/s]\n"
=======
      "100%|██████████| 8/8 [00:00<00:00, 40.50it/s]\n"
>>>>>>> develop
     ]
    },
    {
     "name": "stdout",
     "output_type": "stream",
     "text": [
<<<<<<< HEAD
      "--val acc: 0.9341317365269461\n"
=======
      "--val acc: 1.0\n"
>>>>>>> develop
     ]
    },
    {
     "name": "stderr",
     "output_type": "stream",
     "text": [
<<<<<<< HEAD
      "100%|██████████| 31/31 [00:00<00:00, 134.41it/s]\n"
=======
      "100%|██████████| 31/31 [00:00<00:00, 109.21it/s]\n"
>>>>>>> develop
     ]
    },
    {
     "name": "stdout",
     "output_type": "stream",
     "text": [
<<<<<<< HEAD
      "[epoch 39] loss: 0.2133302902747057, lr: [0.0009228682842020823]\n"
=======
      "[epoch 39] loss: 0.01097549600693994, lr: [0.0009228682842020823]\n"
>>>>>>> develop
     ]
    },
    {
     "name": "stderr",
     "output_type": "stream",
     "text": [
<<<<<<< HEAD
      "100%|██████████| 8/8 [00:00<00:00, 44.82it/s]\n"
=======
      "100%|██████████| 8/8 [00:00<00:00, 38.96it/s]\n"
>>>>>>> develop
     ]
    },
    {
     "name": "stdout",
     "output_type": "stream",
     "text": [
      "--val acc: 0.9321357285429142\n"
     ]
    },
    {
     "name": "stderr",
     "output_type": "stream",
     "text": [
<<<<<<< HEAD
      "100%|██████████| 31/31 [00:00<00:00, 119.05it/s]\n"
=======
      "100%|██████████| 31/31 [00:00<00:00, 109.10it/s]\n"
>>>>>>> develop
     ]
    },
    {
     "name": "stdout",
     "output_type": "stream",
     "text": [
<<<<<<< HEAD
      "[epoch 40] loss: 0.21166707703215396, lr: [0.0008485768282065336]\n"
=======
      "[epoch 40] loss: 0.00901201963722111, lr: [0.0008485768282065336]\n"
>>>>>>> develop
     ]
    },
    {
     "name": "stderr",
     "output_type": "stream",
     "text": [
<<<<<<< HEAD
      "100%|██████████| 8/8 [00:00<00:00, 44.95it/s]\n"
=======
      "100%|██████████| 8/8 [00:00<00:00, 39.60it/s]\n"
>>>>>>> develop
     ]
    },
    {
     "name": "stdout",
     "output_type": "stream",
     "text": [
<<<<<<< HEAD
      "--val acc: 0.9401197604790419\n"
=======
      "--val acc: 1.0\n"
>>>>>>> develop
     ]
    },
    {
     "name": "stderr",
     "output_type": "stream",
     "text": [
<<<<<<< HEAD
      "100%|██████████| 31/31 [00:00<00:00, 132.80it/s]\n"
=======
      "100%|██████████| 31/31 [00:00<00:00, 102.07it/s]\n"
>>>>>>> develop
     ]
    },
    {
     "name": "stdout",
     "output_type": "stream",
     "text": [
<<<<<<< HEAD
      "[epoch 41] loss: 0.21055200047597675, lr: [0.000775132214380214]\n"
=======
      "[epoch 41] loss: 0.00881183663468637, lr: [0.000775132214380214]\n"
>>>>>>> develop
     ]
    },
    {
     "name": "stderr",
     "output_type": "stream",
     "text": [
<<<<<<< HEAD
      "100%|██████████| 8/8 [00:00<00:00, 46.49it/s]\n"
=======
      "100%|██████████| 8/8 [00:00<00:00, 40.38it/s]\n"
>>>>>>> develop
     ]
    },
    {
     "name": "stdout",
     "output_type": "stream",
     "text": [
      "--val acc: 0.936127744510978\n"
     ]
    },
    {
     "name": "stderr",
     "output_type": "stream",
     "text": [
<<<<<<< HEAD
      "100%|██████████| 31/31 [00:00<00:00, 125.11it/s]\n"
=======
      "100%|██████████| 31/31 [00:00<00:00, 108.19it/s]\n"
>>>>>>> develop
     ]
    },
    {
     "name": "stdout",
     "output_type": "stream",
     "text": [
<<<<<<< HEAD
      "[epoch 42] loss: 0.2090388267578003, lr: [0.0007029451747955407]\n"
=======
      "[epoch 42] loss: 0.008491786074138688, lr: [0.0007029451747955407]\n"
>>>>>>> develop
     ]
    },
    {
     "name": "stderr",
     "output_type": "stream",
     "text": [
<<<<<<< HEAD
      "100%|██████████| 8/8 [00:00<00:00, 44.90it/s]\n"
=======
      "100%|██████████| 8/8 [00:00<00:00, 41.12it/s]\n"
>>>>>>> develop
     ]
    },
    {
     "name": "stdout",
     "output_type": "stream",
     "text": [
      "--val acc: 0.9341317365269461\n"
     ]
    },
    {
     "name": "stderr",
     "output_type": "stream",
     "text": [
<<<<<<< HEAD
      "100%|██████████| 31/31 [00:00<00:00, 126.92it/s]\n"
=======
      "100%|██████████| 31/31 [00:00<00:00, 101.60it/s]\n"
>>>>>>> develop
     ]
    },
    {
     "name": "stdout",
     "output_type": "stream",
     "text": [
<<<<<<< HEAD
      "[epoch 43] loss: 0.20787220800708153, lr: [0.0006324194086596515]\n"
=======
      "[epoch 43] loss: 0.008955258139950073, lr: [0.0006324194086596515]\n"
>>>>>>> develop
     ]
    },
    {
     "name": "stderr",
     "output_type": "stream",
     "text": [
<<<<<<< HEAD
      "100%|██████████| 8/8 [00:00<00:00, 49.61it/s]\n"
=======
      "100%|██████████| 8/8 [00:00<00:00, 42.33it/s]\n"
>>>>>>> develop
     ]
    },
    {
     "name": "stdout",
     "output_type": "stream",
     "text": [
      "--val acc: 0.936127744510978\n"
     ]
    },
    {
     "name": "stderr",
     "output_type": "stream",
     "text": [
<<<<<<< HEAD
      "100%|██████████| 31/31 [00:00<00:00, 128.51it/s]\n"
=======
      "100%|██████████| 31/31 [00:00<00:00, 106.19it/s]\n"
>>>>>>> develop
     ]
    },
    {
     "name": "stdout",
     "output_type": "stream",
     "text": [
<<<<<<< HEAD
      "[epoch 44] loss: 0.20623848205079098, lr: [0.0005639493246646838]\n"
=======
      "[epoch 44] loss: 0.008516111535702399, lr: [0.0005639493246646838]\n"
>>>>>>> develop
     ]
    },
    {
     "name": "stderr",
     "output_type": "stream",
     "text": [
<<<<<<< HEAD
      "100%|██████████| 8/8 [00:00<00:00, 43.28it/s]\n"
=======
      "100%|██████████| 8/8 [00:00<00:00, 38.62it/s]\n"
>>>>>>> develop
     ]
    },
    {
     "name": "stdout",
     "output_type": "stream",
     "text": [
<<<<<<< HEAD
      "--val acc: 0.93812375249501\n"
=======
      "--val acc: 1.0\n"
>>>>>>> develop
     ]
    },
    {
     "name": "stderr",
     "output_type": "stream",
     "text": [
<<<<<<< HEAD
      "100%|██████████| 31/31 [00:00<00:00, 122.19it/s]\n"
=======
      "100%|██████████| 31/31 [00:00<00:00, 108.49it/s]\n"
>>>>>>> develop
     ]
    },
    {
     "name": "stdout",
     "output_type": "stream",
     "text": [
<<<<<<< HEAD
      "[epoch 45] loss: 0.20572065878771023, lr: [0.0004979178352943804]\n"
=======
      "[epoch 45] loss: 0.008188486114114582, lr: [0.0004979178352943804]\n"
>>>>>>> develop
     ]
    },
    {
     "name": "stderr",
     "output_type": "stream",
     "text": [
<<<<<<< HEAD
      "100%|██████████| 8/8 [00:00<00:00, 46.38it/s]\n"
=======
      "100%|██████████| 8/8 [00:00<00:00, 40.16it/s]\n"
>>>>>>> develop
     ]
    },
    {
     "name": "stdout",
     "output_type": "stream",
     "text": [
      "--val acc: 0.9401197604790419\n"
     ]
    },
    {
     "name": "stderr",
     "output_type": "stream",
     "text": [
<<<<<<< HEAD
      "100%|██████████| 31/31 [00:00<00:00, 124.34it/s]\n"
=======
      "100%|██████████| 31/31 [00:00<00:00, 109.41it/s]\n"
>>>>>>> develop
     ]
    },
    {
     "name": "stdout",
     "output_type": "stream",
     "text": [
<<<<<<< HEAD
      "[epoch 46] loss: 0.2050641149341941, lr: [0.0004346942154221573]\n"
=======
      "[epoch 46] loss: 0.008031576202658122, lr: [0.0004346942154221573]\n"
>>>>>>> develop
     ]
    },
    {
     "name": "stderr",
     "output_type": "stream",
     "text": [
<<<<<<< HEAD
      "100%|██████████| 8/8 [00:00<00:00, 45.01it/s]\n"
=======
      "100%|██████████| 8/8 [00:00<00:00, 41.54it/s]\n"
>>>>>>> develop
     ]
    },
    {
     "name": "stdout",
     "output_type": "stream",
     "text": [
      "--val acc: 0.9441117764471058\n"
     ]
    },
    {
     "name": "stderr",
     "output_type": "stream",
     "text": [
<<<<<<< HEAD
      "100%|██████████| 31/31 [00:00<00:00, 125.97it/s]\n"
=======
      "100%|██████████| 31/31 [00:00<00:00, 106.67it/s]\n"
>>>>>>> develop
     ]
    },
    {
     "name": "stdout",
     "output_type": "stream",
     "text": [
<<<<<<< HEAD
      "[epoch 47] loss: 0.20436975199305368, lr: [0.0003746320371762205]\n"
=======
      "[epoch 47] loss: 0.007773446168252332, lr: [0.0003746320371762205]\n"
>>>>>>> develop
     ]
    },
    {
     "name": "stderr",
     "output_type": "stream",
     "text": [
<<<<<<< HEAD
      "100%|██████████| 8/8 [00:00<00:00, 46.24it/s]\n"
=======
      "100%|██████████| 8/8 [00:00<00:00, 39.90it/s]\n"
>>>>>>> develop
     ]
    },
    {
     "name": "stdout",
     "output_type": "stream",
     "text": [
      "--val acc: 0.9481037924151696\n"
     ]
    },
    {
     "name": "stderr",
     "output_type": "stream",
     "text": [
<<<<<<< HEAD
      "100%|██████████| 31/31 [00:00<00:00, 125.04it/s]\n"
=======
      "100%|██████████| 31/31 [00:00<00:00, 106.63it/s]\n"
>>>>>>> develop
     ]
    },
    {
     "name": "stdout",
     "output_type": "stream",
     "text": [
<<<<<<< HEAD
      "[epoch 48] loss: 0.20359871201886387, lr: [0.00031806719262080115]\n"
=======
      "[epoch 48] loss: 0.007679773453704849, lr: [0.00031806719262080115]\n"
>>>>>>> develop
     ]
    },
    {
     "name": "stderr",
     "output_type": "stream",
     "text": [
<<<<<<< HEAD
      "100%|██████████| 8/8 [00:00<00:00, 43.22it/s]\n"
=======
      "100%|██████████| 8/8 [00:00<00:00, 40.14it/s]\n"
>>>>>>> develop
     ]
    },
    {
     "name": "stdout",
     "output_type": "stream",
     "text": [
<<<<<<< HEAD
      "--val acc: 0.9441117764471058\n"
=======
      "--val acc: 1.0\n"
>>>>>>> develop
     ]
    },
    {
     "name": "stderr",
     "output_type": "stream",
     "text": [
<<<<<<< HEAD
      "100%|██████████| 31/31 [00:00<00:00, 124.80it/s]\n"
=======
      "100%|██████████| 31/31 [00:00<00:00, 105.78it/s]\n"
>>>>>>> develop
     ]
    },
    {
     "name": "stdout",
     "output_type": "stream",
     "text": [
<<<<<<< HEAD
      "[epoch 49] loss: 0.20308341951427344, lr: [0.0002653160153114834]\n"
=======
      "[epoch 49] loss: 0.007412609270589794, lr: [0.0002653160153114834]\n"
>>>>>>> develop
     ]
    },
    {
     "name": "stderr",
     "output_type": "stream",
     "text": [
<<<<<<< HEAD
      "100%|██████████| 8/8 [00:00<00:00, 44.59it/s]\n"
=======
      "100%|██████████| 8/8 [00:00<00:00, 39.32it/s]\n"
>>>>>>> develop
     ]
    },
    {
     "name": "stdout",
     "output_type": "stream",
     "text": [
      "--val acc: 0.9481037924151696\n"
     ]
    },
    {
     "name": "stderr",
     "output_type": "stream",
     "text": [
<<<<<<< HEAD
      "100%|██████████| 31/31 [00:00<00:00, 129.40it/s]\n"
=======
      "100%|██████████| 31/31 [00:00<00:00, 111.70it/s]\n"
>>>>>>> develop
     ]
    },
    {
     "name": "stdout",
     "output_type": "stream",
     "text": [
<<<<<<< HEAD
      "[epoch 50] loss: 0.20261712464505802, lr: [0.00021667351122964338]\n"
=======
      "[epoch 50] loss: 0.007335054333100538, lr: [0.00021667351122964338]\n"
>>>>>>> develop
     ]
    },
    {
     "name": "stderr",
     "output_type": "stream",
     "text": [
<<<<<<< HEAD
      "100%|██████████| 8/8 [00:00<00:00, 46.61it/s]\n"
=======
      "100%|██████████| 8/8 [00:00<00:00, 41.43it/s]\n"
>>>>>>> develop
     ]
    },
    {
     "name": "stdout",
     "output_type": "stream",
     "text": [
      "--val acc: 0.9441117764471058\n"
     ]
    },
    {
     "name": "stderr",
     "output_type": "stream",
     "text": [
<<<<<<< HEAD
      "100%|██████████| 31/31 [00:00<00:00, 122.37it/s]\n"
=======
      "100%|██████████| 31/31 [00:00<00:00, 106.93it/s]\n"
>>>>>>> develop
     ]
    },
    {
     "name": "stdout",
     "output_type": "stream",
     "text": [
<<<<<<< HEAD
      "[epoch 51] loss: 0.20213637808839718, lr: [0.00017241170898933824]\n"
=======
      "[epoch 51] loss: 0.0065137056741647855, lr: [0.00017241170898933824]\n"
>>>>>>> develop
     ]
    },
    {
     "name": "stderr",
     "output_type": "stream",
     "text": [
<<<<<<< HEAD
      "100%|██████████| 8/8 [00:00<00:00, 45.76it/s]\n"
=======
      "100%|██████████| 8/8 [00:00<00:00, 40.08it/s]\n"
>>>>>>> develop
     ]
    },
    {
     "name": "stdout",
     "output_type": "stream",
     "text": [
<<<<<<< HEAD
      "--val acc: 0.9461077844311377\n"
=======
      "--val acc: 1.0\n"
>>>>>>> develop
     ]
    },
    {
     "name": "stderr",
     "output_type": "stream",
     "text": [
<<<<<<< HEAD
      "100%|██████████| 31/31 [00:00<00:00, 127.27it/s]\n"
=======
      "100%|██████████| 31/31 [00:00<00:00, 109.44it/s]\n"
>>>>>>> develop
     ]
    },
    {
     "name": "stdout",
     "output_type": "stream",
     "text": [
<<<<<<< HEAD
      "[epoch 52] loss: 0.2018530425911178, lr: [0.00013277813854294793]\n"
=======
      "[epoch 52] loss: 0.006849295112068306, lr: [0.00013277813854294793]\n"
>>>>>>> develop
     ]
    },
    {
     "name": "stderr",
     "output_type": "stream",
     "text": [
<<<<<<< HEAD
      "100%|██████████| 8/8 [00:00<00:00, 46.61it/s]\n"
=======
      "100%|██████████| 8/8 [00:00<00:00, 40.80it/s]\n"
>>>>>>> develop
     ]
    },
    {
     "name": "stdout",
     "output_type": "stream",
     "text": [
<<<<<<< HEAD
      "--val acc: 0.9461077844311377\n"
=======
      "--val acc: 1.0\n"
>>>>>>> develop
     ]
    },
    {
     "name": "stderr",
     "output_type": "stream",
     "text": [
<<<<<<< HEAD
      "100%|██████████| 31/31 [00:00<00:00, 126.22it/s]\n"
=======
      "100%|██████████| 31/31 [00:00<00:00, 106.51it/s]\n"
>>>>>>> develop
     ]
    },
    {
     "name": "stdout",
     "output_type": "stream",
     "text": [
<<<<<<< HEAD
      "[epoch 53] loss: 0.20158510151023637, lr: [9.799444689327728e-05]\n"
=======
      "[epoch 53] loss: 0.007761714433481593, lr: [9.799444689327728e-05]\n"
>>>>>>> develop
     ]
    },
    {
     "name": "stderr",
     "output_type": "stream",
     "text": [
<<<<<<< HEAD
      "100%|██████████| 8/8 [00:00<00:00, 44.44it/s]\n"
=======
      "100%|██████████| 8/8 [00:00<00:00, 40.25it/s]\n"
>>>>>>> develop
     ]
    },
    {
     "name": "stdout",
     "output_type": "stream",
     "text": [
<<<<<<< HEAD
      "--val acc: 0.9481037924151696\n"
=======
      "--val acc: 1.0\n"
>>>>>>> develop
     ]
    },
    {
     "name": "stderr",
     "output_type": "stream",
     "text": [
<<<<<<< HEAD
      "100%|██████████| 31/31 [00:00<00:00, 122.19it/s]\n"
=======
      "100%|██████████| 31/31 [00:00<00:00, 111.74it/s]\n"
>>>>>>> develop
     ]
    },
    {
     "name": "stdout",
     "output_type": "stream",
     "text": [
<<<<<<< HEAD
      "[epoch 54] loss: 0.20131941565020595, lr: [6.82551585536054e-05]\n"
=======
      "[epoch 54] loss: 0.007002502099839513, lr: [6.82551585536054e-05]\n"
>>>>>>> develop
     ]
    },
    {
     "name": "stderr",
     "output_type": "stream",
     "text": [
<<<<<<< HEAD
      "100%|██████████| 8/8 [00:00<00:00, 44.03it/s]\n"
=======
      "100%|██████████| 8/8 [00:00<00:00, 40.81it/s]\n"
>>>>>>> develop
     ]
    },
    {
     "name": "stdout",
     "output_type": "stream",
     "text": [
      "--val acc: 0.9481037924151696\n"
     ]
    },
    {
     "name": "stderr",
     "output_type": "stream",
     "text": [
<<<<<<< HEAD
      "100%|██████████| 31/31 [00:00<00:00, 127.39it/s]\n"
=======
      "100%|██████████| 31/31 [00:00<00:00, 113.58it/s]\n"
>>>>>>> develop
     ]
    },
    {
     "name": "stdout",
     "output_type": "stream",
     "text": [
<<<<<<< HEAD
      "[epoch 55] loss: 0.20153347365632504, lr: [4.372658768770261e-05]\n"
=======
      "[epoch 55] loss: 0.007269744164572505, lr: [4.372658768770261e-05]\n"
>>>>>>> develop
     ]
    },
    {
     "name": "stderr",
     "output_type": "stream",
     "text": [
<<<<<<< HEAD
      "100%|██████████| 8/8 [00:00<00:00, 44.98it/s]\n"
=======
      "100%|██████████| 8/8 [00:00<00:00, 39.40it/s]\n"
>>>>>>> develop
     ]
    },
    {
     "name": "stdout",
     "output_type": "stream",
     "text": [
<<<<<<< HEAD
      "--val acc: 0.9481037924151696\n"
=======
      "--val acc: 1.0\n"
>>>>>>> develop
     ]
    },
    {
     "name": "stderr",
     "output_type": "stream",
     "text": [
<<<<<<< HEAD
      "100%|██████████| 31/31 [00:00<00:00, 120.64it/s]\n"
=======
      "100%|██████████| 31/31 [00:00<00:00, 109.18it/s]\n"
>>>>>>> develop
     ]
    },
    {
     "name": "stdout",
     "output_type": "stream",
     "text": [
<<<<<<< HEAD
      "[epoch 56] loss: 0.20131207226279252, lr: [2.454590801356266e-05]\n"
=======
      "[epoch 56] loss: 0.0066706498344977225, lr: [2.454590801356266e-05]\n"
>>>>>>> develop
     ]
    },
    {
     "name": "stderr",
     "output_type": "stream",
     "text": [
<<<<<<< HEAD
      "100%|██████████| 8/8 [00:00<00:00, 43.93it/s]\n"
=======
      "100%|██████████| 8/8 [00:00<00:00, 40.46it/s]\n"
>>>>>>> develop
     ]
    },
    {
     "name": "stdout",
     "output_type": "stream",
     "text": [
      "--val acc: 0.9481037924151696\n"
     ]
    },
    {
     "name": "stderr",
     "output_type": "stream",
     "text": [
<<<<<<< HEAD
      "100%|██████████| 31/31 [00:00<00:00, 120.53it/s]\n"
=======
      "100%|██████████| 31/31 [00:00<00:00, 108.34it/s]\n"
>>>>>>> develop
     ]
    },
    {
     "name": "stdout",
     "output_type": "stream",
     "text": [
<<<<<<< HEAD
      "[epoch 57] loss: 0.20133521076210006, lr: [1.0820385672328905e-05]\n"
=======
      "[epoch 57] loss: 0.006940548945805746, lr: [1.0820385672328905e-05]\n"
>>>>>>> develop
     ]
    },
    {
     "name": "stderr",
     "output_type": "stream",
     "text": [
<<<<<<< HEAD
      "100%|██████████| 8/8 [00:00<00:00, 45.44it/s]\n"
=======
      "100%|██████████| 8/8 [00:00<00:00, 40.49it/s]\n"
>>>>>>> develop
     ]
    },
    {
     "name": "stdout",
     "output_type": "stream",
     "text": [
      "--val acc: 0.9481037924151696\n"
     ]
    },
    {
     "name": "stderr",
     "output_type": "stream",
     "text": [
<<<<<<< HEAD
      "100%|██████████| 31/31 [00:00<00:00, 126.47it/s]\n"
=======
      "100%|██████████| 31/31 [00:00<00:00, 110.19it/s]\n"
>>>>>>> develop
     ]
    },
    {
     "name": "stdout",
     "output_type": "stream",
     "text": [
<<<<<<< HEAD
      "[epoch 58] loss: 0.20116524115769924, lr: [2.6267793525220675e-06]\n"
=======
      "[epoch 58] loss: 0.0062647277485586685, lr: [2.6267793525220675e-06]\n"
>>>>>>> develop
     ]
    },
    {
     "name": "stderr",
     "output_type": "stream",
     "text": [
<<<<<<< HEAD
      "100%|██████████| 8/8 [00:00<00:00, 46.94it/s]\n"
=======
      "100%|██████████| 8/8 [00:00<00:00, 42.23it/s]\n"
>>>>>>> develop
     ]
    },
    {
     "name": "stdout",
     "output_type": "stream",
     "text": [
      "--val acc: 0.9481037924151696\n"
     ]
    },
    {
     "name": "stderr",
     "output_type": "stream",
     "text": [
<<<<<<< HEAD
      "100%|██████████| 31/31 [00:00<00:00, 118.14it/s]\n"
=======
      "100%|██████████| 31/31 [00:00<00:00, 104.25it/s]\n"
>>>>>>> develop
     ]
    },
    {
     "name": "stdout",
     "output_type": "stream",
     "text": [
<<<<<<< HEAD
      "[epoch 59] loss: 0.200939824719153, lr: [1.0911024317473058e-08]\n"
=======
      "[epoch 59] loss: 0.006663305807613327, lr: [1.0911024317473058e-08]\n"
>>>>>>> develop
     ]
    },
    {
     "name": "stderr",
     "output_type": "stream",
     "text": [
<<<<<<< HEAD
      "100%|██████████| 8/8 [00:00<00:00, 44.25it/s]"
=======
      "100%|██████████| 8/8 [00:00<00:00, 41.31it/s]"
>>>>>>> develop
     ]
    },
    {
     "name": "stdout",
     "output_type": "stream",
     "text": [
      "--val acc: 0.9481037924151696\n"
     ]
    },
    {
     "name": "stderr",
     "output_type": "stream",
     "text": [
      "\n"
     ]
    }
   ],
   "source": [
    "device = 'cuda' if torch.cuda.is_available() else 'cpu'\n",
    "simple_model = simple_model.to(device)\n",
    "\n",
    "all_valid_pred = []\n",
    "all_valid_label = []\n",
    "\n",
    "for epoch in range(EPOCHS):\n",
    "    simple_model.train()\n",
    "    epoch_loss = 0.\n",
    "    for label, input_ in tqdm(train_loader):\n",
    "        label, input_ = label.to(device), input_.to(device)\n",
    "        \n",
    "        pred = simple_model(input_)\n",
    "        loss = criterion(pred, label)\n",
    "        \n",
    "        epoch_loss += loss.detach().item() * label.size()[0]\n",
    "        \n",
    "        optimizer.zero_grad()\n",
    "        loss.backward()\n",
    "        optimizer.step()\n",
    "        scheduler.step()\n",
    "    print(f'[epoch {epoch}] loss: {epoch_loss / len(ds_train)}, lr: {scheduler.get_lr()}')\n",
    "    \n",
    "    simple_model.eval()\n",
    "    \n",
    "    correct = 0\n",
    "    for label, input_ in tqdm(valid_loader):\n",
    "        label, input_ = label.to(device), input_.to(device)\n",
    "        \n",
    "        with torch.no_grad():\n",
    "            pred = simple_model(input_)\n",
    "            cls_pred = pred.argmax(dim=-1)\n",
    "            cls_true = label.argmax(dim=-1)\n",
    "            \n",
    "            correct += (cls_pred == cls_true).sum().item()\n",
    "            \n",
    "            if epoch == EPOCHS - 1:\n",
    "                all_valid_pred.extend(cls_pred.detach().cpu().numpy().tolist())\n",
    "                all_valid_label.extend(cls_true.detach().cpu().numpy().tolist())\n",
    "            \n",
    "    print(f'--val acc: {correct / len(ds_valid)}')"
   ]
  },
  {
   "cell_type": "code",
   "execution_count": 16,
   "metadata": {},
   "outputs": [],
   "source": [
    "from sklearn.metrics import confusion_matrix"
   ]
  },
  {
   "cell_type": "code",
   "execution_count": 17,
   "metadata": {},
   "outputs": [
    {
     "data": {
      "text/plain": [
       "array([[101,   4,   1,   0,   0],\n",
       "       [  1,  99,   5,   0,   0],\n",
       "       [  0,  15, 101,   0,   0],\n",
       "       [  0,   0,   0,  84,   0],\n",
       "       [  0,   0,   0,   0,  90]])"
      ]
     },
     "execution_count": 17,
     "metadata": {},
     "output_type": "execute_result"
    }
   ],
   "source": [
    "confusion_matrix(all_valid_label, all_valid_pred)"
   ]
  },
  {
   "cell_type": "markdown",
   "metadata": {},
   "source": [
    "### base\n",
    "\n",
    "acc: 0.9620758483033932\n",
    "\n",
    "\n",
    "```python\n",
    "array([[100,   4,   2,   0,   0],\n",
    "       [  0, 102,   3,   0,   0],\n",
    "       [  0,  10, 106,   0,   0],\n",
    "       [  0,   0,   0,  84,   0],\n",
    "       [  0,   0,   0,   0,  90]])\n",
    "```"
   ]
  },
  {
   "cell_type": "markdown",
   "metadata": {},
   "source": [
    "### label smoothing / 0.1\n",
    "\n",
    "acc: 0.9481037924151696\n",
    "\n",
    "```python\n",
    "array([[101,   4,   1,   0,   0],\n",
    "       [  1,  99,   5,   0,   0],\n",
    "       [  0,  15, 101,   0,   0],\n",
    "       [  0,   0,   0,  84,   0],\n",
    "       [  0,   0,   0,   0,  90]])\n",
    "```"
   ]
  },
  {
   "cell_type": "markdown",
   "metadata": {},
   "source": [
    "### batchnorm\n",
    "\n",
    "acc: 1.0\n",
    "\n",
    "```python\n",
    "array([[106,   0,   0,   0,   0],\n",
    "       [  0, 105,   0,   0,   0],\n",
    "       [  0,   0, 116,   0,   0],\n",
    "       [  0,   0,   0,  84,   0],\n",
    "       [  0,   0,   0,   0,  90]])\n",
    "```"
   ]
  },
  {
   "cell_type": "raw",
   "metadata": {},
   "source": [
    "for batch in valid_loader:\n",
    "    print(batch[0])"
   ]
  },
  {
   "cell_type": "raw",
   "metadata": {},
   "source": [
    "input_[:1].shape"
   ]
  },
  {
<<<<<<< HEAD
   "cell_type": "raw",
=======
   "cell_type": "code",
   "execution_count": 18,
>>>>>>> develop
   "metadata": {},
   "source": [
    "torch.onnx.export(simple_model, input_[:1], \"simple_model.onnx\", verbose=True, input_names=['input'], output_names=['output'])"
   ]
  },
  {
   "cell_type": "raw",
   "metadata": {},
   "source": [
    "!pip3 install onnxruntime"
   ]
  },
  {
   "cell_type": "code",
<<<<<<< HEAD
   "execution_count": 18,
=======
   "execution_count": 19,
>>>>>>> develop
   "metadata": {},
   "outputs": [
    {
     "name": "stderr",
     "output_type": "stream",
     "text": [
<<<<<<< HEAD
      "100%|██████████| 100/100 [00:00<00:00, 32246.51it/s]\n"
=======
      "100%|██████████| 100/100 [00:00<00:00, 34617.89it/s]\n"
>>>>>>> develop
     ]
    }
   ],
   "source": [
    "import onnxruntime as ort\n",
    "from tqdm import tqdm\n",
    "import numpy as np\n",
    "\n",
    "ort_session = ort.InferenceSession(\"simple_model.onnx\")\n",
    "\n",
    "for _ in tqdm(range(100)):\n",
    "    outputs = ort_session.run(\n",
    "        ['output'],\n",
    "        {\"input\": np.random.randn(1, 42).astype(np.float32)},\n",
    "    )\n",
    "    "
   ]
  },
  {
   "cell_type": "code",
   "execution_count": null,
   "metadata": {},
   "outputs": [],
   "source": []
  }
 ],
 "metadata": {
  "kernelspec": {
   "display_name": "Python 3",
   "language": "python",
   "name": "python3"
  },
  "language_info": {
   "codemirror_mode": {
    "name": "ipython",
    "version": 3
   },
   "file_extension": ".py",
   "mimetype": "text/x-python",
   "name": "python",
   "nbconvert_exporter": "python",
   "pygments_lexer": "ipython3",
   "version": "3.8.10"
  }
 },
 "nbformat": 4,
 "nbformat_minor": 4
}
