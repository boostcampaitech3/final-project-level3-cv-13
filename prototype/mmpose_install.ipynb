{
 "cells": [
  {
   "cell_type": "code",
   "execution_count": 30,
   "metadata": {
    "colab": {
     "base_uri": "https://localhost:8080/"
    },
    "executionInfo": {
     "elapsed": 313,
     "status": "ok",
     "timestamp": 1652860962527,
     "user": {
      "displayName": "Jaehoon Kim",
      "userId": "03064955329912050209"
     },
     "user_tz": -540
    },
    "id": "NgCrMCsQIUkL",
    "outputId": "7bde457f-18ba-4d9d-82c0-65bd7fb85792"
   },
   "outputs": [
    {
     "name": "stdout",
     "output_type": "stream",
     "text": [
      "/bin/sh: 1: nvcc: not found\n",
      "Thu May 19 04:38:47 2022       \n",
      "+-----------------------------------------------------------------------------+\n",
      "| NVIDIA-SMI 450.80.02    Driver Version: 450.80.02    CUDA Version: 11.0     |\n",
      "|-------------------------------+----------------------+----------------------+\n",
      "| GPU  Name        Persistence-M| Bus-Id        Disp.A | Volatile Uncorr. ECC |\n",
      "| Fan  Temp  Perf  Pwr:Usage/Cap|         Memory-Usage | GPU-Util  Compute M. |\n",
      "|                               |                      |               MIG M. |\n",
      "|===============================+======================+======================|\n",
      "|   0  Tesla V100-PCIE...  Off  | 00000000:00:05.0 Off |                  Off |\n",
      "| N/A   43C    P0    38W / 250W |  25879MiB / 32510MiB |      0%      Default |\n",
      "|                               |                      |                  N/A |\n",
      "+-------------------------------+----------------------+----------------------+\n",
      "                                                                               \n",
      "+-----------------------------------------------------------------------------+\n",
      "| Processes:                                                                  |\n",
      "|  GPU   GI   CI        PID   Type   Process name                  GPU Memory |\n",
      "|        ID   ID                                                   Usage      |\n",
      "|=============================================================================|\n",
      "+-----------------------------------------------------------------------------+\n",
      "gcc (Ubuntu 7.5.0-3ubuntu1~18.04) 7.5.0\n",
      "Copyright (C) 2017 Free Software Foundation, Inc.\n",
      "This is free software; see the source for copying conditions.  There is NO\n",
      "warranty; not even for MERCHANTABILITY or FITNESS FOR A PARTICULAR PURPOSE.\n",
      "\n"
     ]
    }
   ],
   "source": [
    "# CUDA Version\n",
    "!nvcc -V\n",
    "!nvidia-smi\n",
    "\n",
    "!gcc --version"
   ]
  },
  {
   "cell_type": "code",
   "execution_count": 31,
   "metadata": {
    "colab": {
     "base_uri": "https://localhost:8080/"
    },
    "executionInfo": {
     "elapsed": 237940,
     "status": "ok",
     "timestamp": 1652861205289,
     "user": {
      "displayName": "Jaehoon Kim",
      "userId": "03064955329912050209"
     },
     "user_tz": -540
    },
    "id": "eORGj-zDIX9O",
    "outputId": "11b23213-dc48-403f-fda8-e3361c49dbd8"
   },
   "outputs": [
    {
     "name": "stdout",
     "output_type": "stream",
     "text": [
      "Looking in links: https://download.pytorch.org/whl/torch_stable.html\n",
      "Requirement already satisfied: torch==1.9.0+cu111 in /opt/conda/lib/python3.8/site-packages (1.9.0+cu111)\n",
      "Requirement already satisfied: torchvision==0.10.0+cu111 in /opt/conda/lib/python3.8/site-packages (0.10.0+cu111)\n",
      "Requirement already satisfied: typing-extensions in /opt/conda/lib/python3.8/site-packages (from torch==1.9.0+cu111) (3.7.4.3)\n",
      "Requirement already satisfied: pillow>=5.3.0 in /opt/conda/lib/python3.8/site-packages (from torchvision==0.10.0+cu111) (9.1.0)\n",
      "Requirement already satisfied: numpy in /opt/conda/lib/python3.8/site-packages (from torchvision==0.10.0+cu111) (1.19.2)\n",
      "Looking in links: https://download.openmmlab.com/mmcv/dist/cu111/torch1.9.0/index.html\n",
      "Requirement already satisfied: mmcv-full in /opt/conda/lib/python3.8/site-packages (1.5.1)\n",
      "Requirement already satisfied: numpy in /opt/conda/lib/python3.8/site-packages (from mmcv-full) (1.19.2)\n",
      "Requirement already satisfied: opencv-python>=3 in /opt/conda/lib/python3.8/site-packages (from mmcv-full) (4.5.5.64)\n",
      "Requirement already satisfied: addict in /opt/conda/lib/python3.8/site-packages (from mmcv-full) (2.4.0)\n",
      "Requirement already satisfied: yapf in /opt/conda/lib/python3.8/site-packages (from mmcv-full) (0.32.0)\n",
      "Requirement already satisfied: Pillow in /opt/conda/lib/python3.8/site-packages (from mmcv-full) (9.1.0)\n",
      "Requirement already satisfied: packaging in /opt/conda/lib/python3.8/site-packages (from mmcv-full) (21.3)\n",
      "Requirement already satisfied: pyyaml in /opt/conda/lib/python3.8/site-packages (from mmcv-full) (5.3.1)\n",
      "Requirement already satisfied: pyparsing!=3.0.5,>=2.0.2 in /opt/conda/lib/python3.8/site-packages (from packaging->mmcv-full) (3.0.8)\n",
      "/opt/ml\n",
      "Cloning into 'mmpose'...\n",
      "remote: Enumerating objects: 18834, done.\u001b[K\n",
      "remote: Counting objects: 100% (789/789), done.\u001b[K\n",
      "remote: Compressing objects: 100% (396/396), done.\u001b[K\n",
      "remote: Total 18834 (delta 494), reused 580 (delta 379), pack-reused 18045\u001b[K\n",
      "Receiving objects: 100% (18834/18834), 24.71 MiB | 11.13 MiB/s, done.\n",
      "Resolving deltas: 100% (13255/13255), done.\n",
      "/opt/ml/mmpose\n",
      "Obtaining file:///opt/ml/mmpose\n",
      "Requirement already satisfied: chumpy in /opt/conda/lib/python3.8/site-packages (from mmpose==0.26.0) (0.70)\n",
      "Requirement already satisfied: json_tricks in /opt/conda/lib/python3.8/site-packages (from mmpose==0.26.0) (3.15.5)\n",
      "Requirement already satisfied: matplotlib in /opt/conda/lib/python3.8/site-packages (from mmpose==0.26.0) (3.5.1)\n",
      "Requirement already satisfied: munkres in /opt/conda/lib/python3.8/site-packages (from mmpose==0.26.0) (1.1.4)\n",
      "Requirement already satisfied: numpy in /opt/conda/lib/python3.8/site-packages (from mmpose==0.26.0) (1.19.2)\n",
      "Requirement already satisfied: opencv-python in /opt/conda/lib/python3.8/site-packages (from mmpose==0.26.0) (4.5.5.64)\n",
      "Requirement already satisfied: pillow in /opt/conda/lib/python3.8/site-packages (from mmpose==0.26.0) (9.1.0)\n",
      "Requirement already satisfied: scipy in /opt/conda/lib/python3.8/site-packages (from mmpose==0.26.0) (1.7.3)\n",
      "Requirement already satisfied: torchvision in /opt/conda/lib/python3.8/site-packages (from mmpose==0.26.0) (0.10.0+cu111)\n",
      "Requirement already satisfied: xtcocotools>=1.12 in /opt/conda/lib/python3.8/site-packages (from mmpose==0.26.0) (1.12)\n",
      "Requirement already satisfied: six>=1.11.0 in /opt/conda/lib/python3.8/site-packages (from chumpy->mmpose==0.26.0) (1.15.0)\n",
      "Requirement already satisfied: packaging>=20.0 in /opt/conda/lib/python3.8/site-packages (from matplotlib->mmpose==0.26.0) (21.3)\n",
      "Requirement already satisfied: python-dateutil>=2.7 in /opt/conda/lib/python3.8/site-packages (from matplotlib->mmpose==0.26.0) (2.8.2)\n",
      "Requirement already satisfied: cycler>=0.10 in /opt/conda/lib/python3.8/site-packages (from matplotlib->mmpose==0.26.0) (0.11.0)\n",
      "Requirement already satisfied: pyparsing>=2.2.1 in /opt/conda/lib/python3.8/site-packages (from matplotlib->mmpose==0.26.0) (3.0.8)\n",
      "Requirement already satisfied: fonttools>=4.22.0 in /opt/conda/lib/python3.8/site-packages (from matplotlib->mmpose==0.26.0) (4.32.0)\n",
      "Requirement already satisfied: kiwisolver>=1.0.1 in /opt/conda/lib/python3.8/site-packages (from matplotlib->mmpose==0.26.0) (1.4.2)\n",
      "Requirement already satisfied: torch==1.9.0 in /opt/conda/lib/python3.8/site-packages (from torchvision->mmpose==0.26.0) (1.9.0+cu111)\n",
      "Requirement already satisfied: setuptools>=18.0 in /opt/conda/lib/python3.8/site-packages (from xtcocotools>=1.12->mmpose==0.26.0) (50.3.1.post20201107)\n",
      "Requirement already satisfied: cython>=0.27.3 in /opt/conda/lib/python3.8/site-packages (from xtcocotools>=1.12->mmpose==0.26.0) (0.29.30)\n",
      "Requirement already satisfied: typing-extensions in /opt/conda/lib/python3.8/site-packages (from torch==1.9.0->torchvision->mmpose==0.26.0) (3.7.4.3)\n",
      "Installing collected packages: mmpose\n",
      "  Running setup.py develop for mmpose\n",
      "Successfully installed mmpose\n"
     ]
    }
   ],
   "source": [
    "# conda create -n pose python=3.8 pytorch=1.10 cudatoolkit=11.3 torchvision -c pytorch -y\n",
    "# conda activate pose\n",
    "!pip install torch==1.9.0+cu111 torchvision==0.10.0+cu111 -f https://download.pytorch.org/whl/torch_stable.html\n",
    "\n",
    "# pip3 install openmim\n",
    "# mim install mmcv-full\n",
    "!pip install mmcv-full -f https://download.openmmlab.com/mmcv/dist/cu111/torch1.9.0/index.html\n",
    "\n",
    "%cd ~\n",
    "!rm -rf mmpose\n",
    "!git clone https://github.com/open-mmlab/mmpose.git\n",
    "%cd mmpose\n",
    "!pip3 install -e ."
   ]
  },
  {
   "cell_type": "code",
   "execution_count": 18,
   "metadata": {
    "colab": {
     "base_uri": "https://localhost:8080/"
    },
    "executionInfo": {
     "elapsed": 1980,
     "status": "ok",
     "timestamp": 1652861207263,
     "user": {
      "displayName": "Jaehoon Kim",
      "userId": "03064955329912050209"
     },
     "user_tz": -540
    },
    "id": "kJssDEXgJLIf",
    "outputId": "95372a20-caa9-452c-9eed-7760fb1b15cc"
   },
   "outputs": [
    {
     "data": {
      "text/plain": [
       "{'sys.platform': 'linux',\n",
       " 'Python': '3.8.5 (default, Sep  4 2020, 07:30:14) [GCC 7.3.0]',\n",
       " 'CUDA available': True,\n",
       " 'GPU 0': 'Tesla V100-PCIE-32GB',\n",
       " 'CUDA_HOME': None,\n",
       " 'GCC': 'gcc (Ubuntu 7.5.0-3ubuntu1~18.04) 7.5.0',\n",
       " 'PyTorch': '1.9.0+cu111',\n",
       " 'PyTorch compiling details': 'PyTorch built with:\\n  - GCC 7.3\\n  - C++ Version: 201402\\n  - Intel(R) Math Kernel Library Version 2020.0.2 Product Build 20200624 for Intel(R) 64 architecture applications\\n  - Intel(R) MKL-DNN v2.1.2 (Git Hash 98be7e8afa711dc9b66c8ff3504129cb82013cdb)\\n  - OpenMP 201511 (a.k.a. OpenMP 4.5)\\n  - NNPACK is enabled\\n  - CPU capability usage: AVX2\\n  - CUDA Runtime 11.1\\n  - NVCC architecture flags: -gencode;arch=compute_37,code=sm_37;-gencode;arch=compute_50,code=sm_50;-gencode;arch=compute_60,code=sm_60;-gencode;arch=compute_70,code=sm_70;-gencode;arch=compute_75,code=sm_75;-gencode;arch=compute_80,code=sm_80;-gencode;arch=compute_86,code=sm_86\\n  - CuDNN 8.0.5\\n  - Magma 2.5.2\\n  - Build settings: BLAS_INFO=mkl, BUILD_TYPE=Release, CUDA_VERSION=11.1, CUDNN_VERSION=8.0.5, CXX_COMPILER=/opt/rh/devtoolset-7/root/usr/bin/c++, CXX_FLAGS= -Wno-deprecated -fvisibility-inlines-hidden -DUSE_PTHREADPOOL -fopenmp -DNDEBUG -DUSE_KINETO -DUSE_FBGEMM -DUSE_QNNPACK -DUSE_PYTORCH_QNNPACK -DUSE_XNNPACK -DSYMBOLICATE_MOBILE_DEBUG_HANDLE -O2 -fPIC -Wno-narrowing -Wall -Wextra -Werror=return-type -Wno-missing-field-initializers -Wno-type-limits -Wno-array-bounds -Wno-unknown-pragmas -Wno-sign-compare -Wno-unused-parameter -Wno-unused-variable -Wno-unused-function -Wno-unused-result -Wno-unused-local-typedefs -Wno-strict-overflow -Wno-strict-aliasing -Wno-error=deprecated-declarations -Wno-stringop-overflow -Wno-psabi -Wno-error=pedantic -Wno-error=redundant-decls -Wno-error=old-style-cast -fdiagnostics-color=always -faligned-new -Wno-unused-but-set-variable -Wno-maybe-uninitialized -fno-math-errno -fno-trapping-math -Werror=format -Wno-stringop-overflow, LAPACK_INFO=mkl, PERF_WITH_AVX=1, PERF_WITH_AVX2=1, PERF_WITH_AVX512=1, TORCH_VERSION=1.9.0, USE_CUDA=ON, USE_CUDNN=ON, USE_EXCEPTION_PTR=1, USE_GFLAGS=OFF, USE_GLOG=OFF, USE_MKL=ON, USE_MKLDNN=ON, USE_MPI=OFF, USE_NCCL=ON, USE_NNPACK=ON, USE_OPENMP=ON, \\n',\n",
       " 'TorchVision': '0.10.0+cu111',\n",
       " 'OpenCV': '4.5.5',\n",
       " 'MMCV': '1.5.1',\n",
       " 'MMCV Compiler': 'GCC 7.3',\n",
       " 'MMCV CUDA Compiler': '11.1'}"
      ]
     },
     "execution_count": 18,
     "metadata": {},
     "output_type": "execute_result"
    }
   ],
   "source": [
    "from mmcv import collect_env\n",
    "collect_env()"
   ]
  },
  {
   "cell_type": "code",
   "execution_count": 23,
   "metadata": {
    "colab": {
     "base_uri": "https://localhost:8080/"
    },
    "executionInfo": {
     "elapsed": 349,
     "status": "ok",
     "timestamp": 1652861712093,
     "user": {
      "displayName": "Jaehoon Kim",
      "userId": "03064955329912050209"
     },
     "user_tz": -540
    },
    "id": "91WVq__yMA6k",
    "outputId": "b708f941-0d34-49f3-874c-a34d6261451a"
   },
   "outputs": [
    {
     "name": "stdout",
     "output_type": "stream",
     "text": [
      "1.9.0+cu111 True\n",
      "0.26.0\n",
      "11.1\n",
      "GCC 7.3\n"
     ]
    }
   ],
   "source": [
    "import torch, torchvision\n",
    "print(torch.__version__, torch.cuda.is_available())\n",
    "\n",
    "import mmpose\n",
    "print(mmpose.__version__)\n",
    "\n",
    "from mmcv.ops import get_compiling_cuda_version, get_compiler_version\n",
    "print(get_compiling_cuda_version())\n",
    "print(get_compiler_version())"
   ]
  },
  {
   "cell_type": "code",
   "execution_count": null,
   "metadata": {
    "id": "fsYPoTILSrZ8"
   },
   "outputs": [],
   "source": []
  }
 ],
 "metadata": {
  "accelerator": "GPU",
  "colab": {
   "authorship_tag": "ABX9TyObAU4pcYTgDu2bYwSXYmqW",
   "name": "mmdet_tutorial.ipynb",
   "provenance": []
  },
  "kernelspec": {
   "display_name": "Python 3 (ipykernel)",
   "language": "python",
   "name": "python3"
  },
  "language_info": {
   "codemirror_mode": {
    "name": "ipython",
    "version": 3
   },
   "file_extension": ".py",
   "mimetype": "text/x-python",
   "name": "python",
   "nbconvert_exporter": "python",
   "pygments_lexer": "ipython3",
   "version": "3.8.5"
  }
 },
 "nbformat": 4,
 "nbformat_minor": 4
}
