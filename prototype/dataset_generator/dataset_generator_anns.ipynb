{
 "cells": [
  {
   "cell_type": "code",
   "execution_count": 1,
   "id": "c608ce10",
   "metadata": {},
   "outputs": [
    {
     "data": {
      "text/plain": [
       "'\\ncv7ahand/annotations 폴더를 만들고\\n전체 이미지를 train, val, test 비율대로 나눠서\\ncv7ahand_train.json, cv7ahand_val.json, cv7ahand_test.json 파일을 만듭니다\\ntrain_val_test_ratio를 설정하세요\\nannotation json파일들의 포맷은 freihand_val.json 파일의 포맷과 동일하게 맞춘겁니다\\n'"
      ]
     },
     "execution_count": 1,
     "metadata": {},
     "output_type": "execute_result"
    }
   ],
   "source": [
    "\"\"\"\n",
    "cv7ahand/annotations 폴더를 만들고\n",
    "전체 이미지를 train, val, test 비율대로 나눠서\n",
    "cv7ahand_train.json, cv7ahand_val.json, cv7ahand_test.json 파일을 만듭니다\n",
    "train_val_test_ratio를 설정하세요\n",
    "annotation json파일들의 포맷은 freihand_val.json 파일의 포맷과 동일하게 맞춘겁니다\n",
    "\"\"\""
   ]
  },
  {
   "cell_type": "code",
   "execution_count": 2,
   "id": "594915db",
   "metadata": {},
   "outputs": [
    {
     "name": "stdout",
     "output_type": "stream",
     "text": [
      "base: /usr/local/Caskroom/miniconda/base/envs/xcda\n",
      "prfx: /usr/local/Caskroom/miniconda/base/envs/xcda\n"
     ]
    }
   ],
   "source": [
    "# 주피터 노트북에서 사용중인 가상환경 확인\n",
    "\n",
    "import sys\n",
    "\n",
    "if hasattr(sys, 'base_prefix'):\n",
    "    print(f\"base: {sys.base_prefix}\")\n",
    "\n",
    "if hasattr(sys, 'real_prefix'):\n",
    "    print(f\"real: {sys.real_prefix}\")\n",
    "\n",
    "if hasattr(sys, 'prefix'):\n",
    "    print(f\"prfx: {sys.prefix}\")"
   ]
  },
  {
   "cell_type": "code",
   "execution_count": 3,
   "id": "2c35975c",
   "metadata": {},
   "outputs": [
    {
     "name": "stdout",
     "output_type": "stream",
     "text": [
      "cv7ahand/training/rgb/KJH_22060213504439.jpg\n",
      "cv7ahand/training/rgb/KJH_22060213504335.jpg\n",
      "cv7ahand/training/rgb/KJH_22060213504283.jpg\n",
      "cv7ahand/training/rgb/KJH_22060213504492.jpg\n",
      "cv7ahand/training/rgb/KJH_22060213504595.jpg\n",
      "cv7ahand/training/rgb/KJH_22060213504386.jpg\n",
      "cv7ahand/training/rgb/KJH_22060213504179.jpg\n",
      "cv7ahand/training/rgb/KJH_22060213504232.jpg\n",
      "cv7ahand/training/rgb/KJH_22060213504545.jpg\n"
     ]
    }
   ],
   "source": [
    "# 이미지 리스트 불러오기\n",
    "\n",
    "import os\n",
    "from glob import glob\n",
    "\n",
    "img_dir_path = \"cv7ahand/training/rgb\"\n",
    "img_list = []\n",
    "for path in glob(os.path.join(img_dir_path, '*jpg')):\n",
    "    img_list.append(path)\n",
    "    print(path)"
   ]
  },
  {
   "cell_type": "code",
   "execution_count": 4,
   "id": "21a84ff5",
   "metadata": {},
   "outputs": [
    {
     "name": "stdout",
     "output_type": "stream",
     "text": [
      "4 3 2\n",
      "9\n",
      "4\n",
      "3\n",
      "2\n"
     ]
    }
   ],
   "source": [
    "# shuffle 후 train, val, test divide\n",
    "\n",
    "import random\n",
    "\n",
    "train_val_test_ratio = [4, 3, 2]\n",
    "\n",
    "random.shuffle(img_list)\n",
    "\n",
    "num_train = len(img_list) * train_val_test_ratio[0] // sum(train_val_test_ratio)\n",
    "num_val = len(img_list) * train_val_test_ratio[1] // sum(train_val_test_ratio)\n",
    "num_test = len(img_list) - num_train - num_val\n",
    "\n",
    "print(num_train, num_val, num_test)\n",
    "\n",
    "img_list_train = img_list[:num_train]\n",
    "img_list_val = img_list[num_train:num_train+num_val]\n",
    "img_list_test = img_list[-num_test:]\n",
    "\n",
    "print(len(img_list))\n",
    "print(len(img_list_train))\n",
    "print(len(img_list_val))\n",
    "print(len(img_list_test))"
   ]
  },
  {
   "cell_type": "code",
   "execution_count": 5,
   "id": "40c6f7b0",
   "metadata": {},
   "outputs": [],
   "source": [
    "# freihand dataset의 \"categories\" 부분 확인\n",
    "\n",
    "# import json\n",
    "\n",
    "# with open('freihand_val.json') as f:\n",
    "#     frei = json.load(f)\n",
    "\n",
    "# frei['categories']"
   ]
  },
  {
   "cell_type": "code",
   "execution_count": 6,
   "id": "b4922337",
   "metadata": {},
   "outputs": [],
   "source": [
    "if not os.path.exists(\"cv7ahand/annotations\"):\n",
    "    os.mkdir(\"cv7ahand/annotations\")"
   ]
  },
  {
   "cell_type": "markdown",
   "id": "bd4225c7",
   "metadata": {},
   "source": [
    "## cv7ahand_train.json"
   ]
  },
  {
   "cell_type": "code",
   "execution_count": 7,
   "id": "8176f224",
   "metadata": {},
   "outputs": [],
   "source": [
    "import json\n",
    "\n",
    "d = {}\n",
    "\n",
    "d['info'] = {\n",
    "    'description': 'CV7AHand', \n",
    "    'version': '1.0', \n",
    "    'year': 2022, \n",
    "    'date_created': '2022-06-01'\n",
    "}\n",
    "\n",
    "d['licenses'] = \"\"\n",
    "\n",
    "d['images'] = []\n",
    "\n",
    "d['annotations'] = []\n",
    "\n",
    "d['categories'] = [{\n",
    "    'supercategory': 'hand',\n",
    "    'id': 1,\n",
    "    'name': 'hand',\n",
    "    'keypoints': [\n",
    "        'wrist',\n",
    "        'thumb1',\n",
    "        'thumb2',\n",
    "        'thumb3',\n",
    "        'thumb4',\n",
    "        'forefinger1',\n",
    "        'forefinger2',\n",
    "        'forefinger3',\n",
    "        'forefinger4',\n",
    "        'middle_finger1',\n",
    "        'middle_finger2',\n",
    "        'middle_finger3',\n",
    "        'middle_finger4',\n",
    "        'ring_finger1',\n",
    "        'ring_finger2',\n",
    "        'ring_finger3',\n",
    "        'ring_finger4',\n",
    "        'pinky_finger1',\n",
    "        'pinky_finger2',\n",
    "        'pinky_finger3',\n",
    "        'pinky_finger4'],\n",
    "    'skeleton': [\n",
    "        [1, 2],\n",
    "        [2, 3],\n",
    "        [3, 4],\n",
    "        [4, 5],\n",
    "        [1, 6],\n",
    "        [6, 7],\n",
    "        [7, 8],\n",
    "        [8, 9],\n",
    "        [1, 10],\n",
    "        [10, 11],\n",
    "        [11, 12],\n",
    "        [12, 13],\n",
    "        [1, 14],\n",
    "        [14, 15],\n",
    "        [15, 16],\n",
    "        [16, 17],\n",
    "        [1, 18],\n",
    "        [18, 19],\n",
    "        [19, 20],\n",
    "        [20, 21]]}]"
   ]
  },
  {
   "cell_type": "code",
   "execution_count": 8,
   "id": "b1ec7643",
   "metadata": {},
   "outputs": [
    {
     "name": "stdout",
     "output_type": "stream",
     "text": [
      "{\n",
      "    \"info\": {\n",
      "        \"description\": \"CV7AHand\",\n",
      "        \"version\": \"1.0\",\n",
      "        \"year\": 2022,\n",
      "        \"date_created\": \"2022-06-01\"\n",
      "    },\n",
      "    \"licenses\": \"\",\n",
      "    \"images\": [],\n",
      "    \"annotations\": [],\n",
      "    \"categories\": [\n",
      "        {\n",
      "            \"supercategory\": \"hand\",\n",
      "            \"id\": 1,\n",
      "            \"name\": \"hand\",\n",
      "            \"keypoints\": [\n",
      "                \"wrist\",\n",
      "                \"thumb1\",\n",
      "                \"thumb2\",\n",
      "                \"thumb3\",\n",
      "                \"thumb4\",\n",
      "                \"forefinger1\",\n",
      "                \"forefinger2\",\n",
      "                \"forefinger3\",\n",
      "                \"forefinger4\",\n",
      "                \"middle_finger1\",\n",
      "                \"middle_finger2\",\n",
      "                \"middle_finger3\",\n",
      "                \"middle_finger4\",\n",
      "                \"ring_finger1\",\n",
      "                \"ring_finger2\",\n",
      "                \"ring_finger3\",\n",
      "                \"ring_finger4\",\n",
      "                \"pinky_finger1\",\n",
      "                \"pinky_finger2\",\n",
      "                \"pinky_finger3\",\n",
      "                \"pinky_finger4\"\n",
      "            ],\n",
      "            \"skeleton\": [\n",
      "                [\n",
      "                    1,\n",
      "                    2\n",
      "                ],\n",
      "                [\n",
      "                    2,\n",
      "                    3\n",
      "                ],\n",
      "                [\n",
      "                    3,\n",
      "                    4\n",
      "                ],\n",
      "                [\n",
      "                    4,\n",
      "                    5\n",
      "                ],\n",
      "                [\n",
      "                    1,\n",
      "                    6\n",
      "                ],\n",
      "                [\n",
      "                    6,\n",
      "                    7\n",
      "                ],\n",
      "                [\n",
      "                    7,\n",
      "                    8\n",
      "                ],\n",
      "                [\n",
      "                    8,\n",
      "                    9\n",
      "                ],\n",
      "                [\n",
      "                    1,\n",
      "                    10\n",
      "                ],\n",
      "                [\n",
      "                    10,\n",
      "                    11\n",
      "                ],\n",
      "                [\n",
      "                    11,\n",
      "                    12\n",
      "                ],\n",
      "                [\n",
      "                    12,\n",
      "                    13\n",
      "                ],\n",
      "                [\n",
      "                    1,\n",
      "                    14\n",
      "                ],\n",
      "                [\n",
      "                    14,\n",
      "                    15\n",
      "                ],\n",
      "                [\n",
      "                    15,\n",
      "                    16\n",
      "                ],\n",
      "                [\n",
      "                    16,\n",
      "                    17\n",
      "                ],\n",
      "                [\n",
      "                    1,\n",
      "                    18\n",
      "                ],\n",
      "                [\n",
      "                    18,\n",
      "                    19\n",
      "                ],\n",
      "                [\n",
      "                    19,\n",
      "                    20\n",
      "                ],\n",
      "                [\n",
      "                    20,\n",
      "                    21\n",
      "                ]\n",
      "            ]\n",
      "        }\n",
      "    ]\n",
      "}\n"
     ]
    }
   ],
   "source": [
    "d_json = json.dumps(d, indent = 4, ensure_ascii=False) \n",
    "\n",
    "print(d_json)"
   ]
  },
  {
   "cell_type": "code",
   "execution_count": 9,
   "id": "e473c93e",
   "metadata": {},
   "outputs": [
    {
     "data": {
      "text/plain": [
       "['cv7ahand/training/rgb/KJH_22060213504545.jpg',\n",
       " 'cv7ahand/training/rgb/KJH_22060213504439.jpg']"
      ]
     },
     "execution_count": 9,
     "metadata": {},
     "output_type": "execute_result"
    }
   ],
   "source": [
    "img_list_test"
   ]
  },
  {
   "cell_type": "code",
   "execution_count": 10,
   "id": "020d88bc",
   "metadata": {},
   "outputs": [
    {
     "name": "stderr",
     "output_type": "stream",
     "text": [
      "INFO: Created TensorFlow Lite XNNPACK delegate for CPU.\n",
      "100%|██████████| 2/2 [00:00<00:00, 12.07it/s]"
     ]
    },
    {
     "name": "stdout",
     "output_type": "stream",
     "text": [
      "(244, 434, 3)\n",
      "<class 'mediapipe.python.solution_base.SolutionOutputs'>\n",
      "(244, 434, 3)\n",
      "<class 'mediapipe.python.solution_base.SolutionOutputs'>\n"
     ]
    },
    {
     "name": "stderr",
     "output_type": "stream",
     "text": [
      "\n"
     ]
    }
   ],
   "source": [
    "from tqdm import tqdm\n",
    "import cv2\n",
    "import mediapipe as mp\n",
    "\n",
    "with mp.solutions.hands.Hands(model_complexity=1) as hands:\n",
    "    for img_path in tqdm(img_list_test):\n",
    "\n",
    "        img_info = {}\n",
    "\n",
    "        file_name = img_path[9:]\n",
    "        # print(file_name)\n",
    "        img_info['file_name'] = file_name\n",
    "\n",
    "        img = cv2.imread(img_path)\n",
    "        print(img.shape)\n",
    "        img_info['height'] = img.shape[0]\n",
    "        img_info['width'] = img.shape[1]\n",
    "\n",
    "        img_id = list(map(str, path.split('/')))[-1]\n",
    "        img_id = img_id.replace(\".jpg\", \"\")\n",
    "        img_id = img_id[4:]\n",
    "        img_id = int(img_id)\n",
    "        # print(img_id)\n",
    "        img_info['id'] = img_id\n",
    "\n",
    "        d['images'].append(img_info)\n",
    "        \n",
    "        ann_info = {}\n",
    "\n",
    "        ann_info['category_id'] = 1\n",
    "        ann_info['id'] = img_id\n",
    "        ann_info['image_id'] = img_id\n",
    "        ann_info['iscrowd'] = 0\n",
    "\n",
    "\n",
    "\n",
    "\n",
    "\n",
    "        img.flags.writeable = False\n",
    "        kpts = hands.process(img)\n",
    "        print(kpts)\n",
    "\n",
    "        kpts_xy = []\n",
    "        if kpts.multi_hand_landmarks:\n",
    "            for hand_landmarks in kpts.multi_hand_landmarks:\n",
    "\n",
    "                for i in range(21):\n",
    "                    x, y = hand_landmarks.landmark[i].x, hand_landmarks.landmark[i].y\n",
    "                    print(x, y)\n",
    "\n",
    "\n",
    "\n",
    "        # ann_info['bbox']\n",
    "\n",
    "\n",
    "\n",
    "        # ann_info['keypoints']\n",
    "\n",
    "\n",
    "\n",
    "        # ann_info['segmentation']\n",
    "\n",
    "\n",
    "\n",
    "        # ann_info['area']\n",
    "\n",
    "\n",
    "\n",
    "        # d['annotations'].append(ann_info)    "
   ]
  },
  {
   "cell_type": "code",
   "execution_count": 65,
   "id": "c9f2293d",
   "metadata": {},
   "outputs": [],
   "source": [
    "with open(\"cv7ahand/annotations/cv7ahand_train.json\", \"w\", encoding='utf-8') as f:\n",
    "    json.dump(d, f, indent=4, ensure_ascii=False)"
   ]
  },
  {
   "cell_type": "code",
   "execution_count": null,
   "id": "fe2198e8",
   "metadata": {},
   "outputs": [],
   "source": []
  }
 ],
 "metadata": {
  "interpreter": {
   "hash": "32ac1094fb15e58b5334327b1013c3eafa25b6ecafe9c997381cb3609f5ff146"
  },
  "kernelspec": {
   "display_name": "Python 3 (ipykernel)",
   "language": "python",
   "name": "python3"
  },
  "language_info": {
   "codemirror_mode": {
    "name": "ipython",
    "version": 3
   },
   "file_extension": ".py",
   "mimetype": "text/x-python",
   "name": "python",
   "nbconvert_exporter": "python",
   "pygments_lexer": "ipython3",
   "version": "3.8.13"
  }
 },
 "nbformat": 4,
 "nbformat_minor": 5
}
