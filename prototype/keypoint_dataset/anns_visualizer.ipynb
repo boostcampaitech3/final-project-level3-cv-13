{
 "cells": [
  {
   "cell_type": "code",
   "execution_count": 1,
   "id": "e54c7f10",
   "metadata": {},
   "outputs": [
    {
     "name": "stdout",
     "output_type": "stream",
     "text": [
      "base: /opt/homebrew/Caskroom/miniconda/base/envs/xcda\n",
      "prfx: /opt/homebrew/Caskroom/miniconda/base/envs/xcda\n"
     ]
    }
   ],
   "source": [
    "# 주피터 노트북에서 사용중인 가상환경 확인\n",
    "\n",
    "import sys\n",
    "\n",
    "if hasattr(sys, 'base_prefix'):\n",
    "    print(f\"base: {sys.base_prefix}\")\n",
    "\n",
    "if hasattr(sys, 'real_prefix'):\n",
    "    print(f\"real: {sys.real_prefix}\")\n",
    "\n",
    "if hasattr(sys, 'prefix'):\n",
    "    print(f\"prfx: {sys.prefix}\")"
   ]
  },
  {
   "cell_type": "code",
   "execution_count": 2,
   "id": "d3c43919",
   "metadata": {},
   "outputs": [],
   "source": [
    "import json\n",
    "\n",
    "json_path = 'cv7ahand/annotations/cv7ahand_1.json'\n",
    "\n",
    "with open(json_path, 'r', encoding='utf-8') as f:\n",
    "    d = json.loads(f.read())\n",
    "\n",
    "# d"
   ]
  },
  {
   "cell_type": "code",
   "execution_count": null,
   "id": "eed6c5af",
   "metadata": {},
   "outputs": [],
   "source": [
    "import matplotlib.pyplot as plt\n",
    "import matplotlib as mpl\n",
    "import numpy as np\n",
    "\n",
    "count = 0\n",
    "for index, i in enumerate(d['annotations']):\n",
    "    if count == 0:\n",
    "        fig, axes = plt.subplots(2, 5, figsize=(25,10))\n",
    "        img_id_list = []\n",
    "\n",
    "    img_path = 'cv7ahand/training/rgb/' + str(i['image_id']) + '.jpg'\n",
    "    img = mpl.image.imread(img_path)\n",
    "    axes[count//5][count%5].imshow(img)\n",
    "\n",
    "    kpts_list = i['keypoints']\n",
    "    kpts_list_splits = np.array_split(kpts_list, 21)\n",
    "    for kpts_sublist in kpts_list_splits:\n",
    "        x, y, z = list(kpts_sublist)\n",
    "        axes[count//5][count%5].scatter(x, y, color='red')\n",
    "\n",
    "    axes[count//5][count%5].set_title(str(i['image_id']))\n",
    "    img_id_list.append(str(i['image_id']))\n",
    "\n",
    "    count += 1\n",
    "\n",
    "    if count == 10:\n",
    "        plt.show()\n",
    "        for j in range(0, 5):\n",
    "            print(img_id_list[j], end='    ')\n",
    "        print()\n",
    "        for j in range(5, 10):\n",
    "            print(img_id_list[j], end='    ')\n",
    "        print()\n",
    "        print(f\"{index+1} out of {len(d['annotations'])}\")\n",
    "        count = 0\n"
   ]
  }
 ],
 "metadata": {
  "kernelspec": {
   "display_name": "Python 3",
   "language": "python",
   "name": "python3"
  },
  "language_info": {
   "codemirror_mode": {
    "name": "ipython",
    "version": 3
   },
   "file_extension": ".py",
   "mimetype": "text/x-python",
   "name": "python",
   "nbconvert_exporter": "python",
   "pygments_lexer": "ipython3",
   "version": "3.8.13"
  }
 },
 "nbformat": 4,
 "nbformat_minor": 5
}
